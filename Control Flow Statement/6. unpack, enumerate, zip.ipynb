{
 "cells": [
  {
   "cell_type": "markdown",
   "id": "fa1c245e",
   "metadata": {},
   "source": [
    "# Unpacking\n",
    "\n",
    "데이터 구조에 담긴 값들을 여러개의 변수로 나누기"
   ]
  },
  {
   "cell_type": "code",
   "execution_count": 1,
   "id": "a38289bd",
   "metadata": {},
   "outputs": [
    {
     "name": "stdout",
     "output_type": "stream",
     "text": [
      "1\n",
      "2\n"
     ]
    }
   ],
   "source": [
    "t = (1, 2)\n",
    "a, b = t\n",
    "\n",
    "print(a)\n",
    "print(b)"
   ]
  },
  {
   "cell_type": "code",
   "execution_count": 2,
   "id": "eb4133dc",
   "metadata": {},
   "outputs": [
    {
     "name": "stdout",
     "output_type": "stream",
     "text": [
      "1\n",
      "2\n"
     ]
    }
   ],
   "source": [
    "li = [1, 2]\n",
    "c, d = li\n",
    "\n",
    "print(c)\n",
    "print(d)"
   ]
  },
  {
   "cell_type": "markdown",
   "id": "0a901153",
   "metadata": {},
   "source": [
    "## for문과 함께 사용"
   ]
  },
  {
   "cell_type": "code",
   "execution_count": 3,
   "id": "eaf5cf77",
   "metadata": {},
   "outputs": [
    {
     "data": {
      "text/plain": [
       "{'피카츄': 100, '라이츄': 200}"
      ]
     },
     "execution_count": 3,
     "metadata": {},
     "output_type": "execute_result"
    }
   ],
   "source": [
    "pokemon_hp = {'피카츄' : 100, '라이츄' : 200}\n",
    "\n",
    "pokemon_hp"
   ]
  },
  {
   "cell_type": "code",
   "execution_count": 4,
   "id": "70e45654",
   "metadata": {},
   "outputs": [
    {
     "data": {
      "text/plain": [
       "dict_keys(['피카츄', '라이츄'])"
      ]
     },
     "execution_count": 4,
     "metadata": {},
     "output_type": "execute_result"
    }
   ],
   "source": [
    "pokemon_hp.keys()"
   ]
  },
  {
   "cell_type": "code",
   "execution_count": 5,
   "id": "2c562b4f",
   "metadata": {},
   "outputs": [
    {
     "data": {
      "text/plain": [
       "dict_values([100, 200])"
      ]
     },
     "execution_count": 5,
     "metadata": {},
     "output_type": "execute_result"
    }
   ],
   "source": [
    "pokemon_hp.values()"
   ]
  },
  {
   "cell_type": "code",
   "execution_count": 6,
   "id": "a01be8f1",
   "metadata": {},
   "outputs": [
    {
     "data": {
      "text/plain": [
       "dict_items([('피카츄', 100), ('라이츄', 200)])"
      ]
     },
     "execution_count": 6,
     "metadata": {},
     "output_type": "execute_result"
    }
   ],
   "source": [
    "pokemon_hp.items()"
   ]
  },
  {
   "cell_type": "code",
   "execution_count": 8,
   "id": "10408c24",
   "metadata": {},
   "outputs": [
    {
     "name": "stdout",
     "output_type": "stream",
     "text": [
      "피카츄의 체력은 100입니다.\n",
      "라이츄의 체력은 200입니다.\n"
     ]
    }
   ],
   "source": [
    "for pokemon, hp in pokemon_hp.items() :\n",
    "    print(f'{pokemon}의 체력은 {hp}입니다.')"
   ]
  },
  {
   "cell_type": "markdown",
   "id": "2696bb12",
   "metadata": {},
   "source": [
    "## 변수의 갯수\n",
    "\n",
    "unpack을 할 때 변수의 갯수를 맞춰주는 것은 매우 중요함"
   ]
  },
  {
   "cell_type": "code",
   "execution_count": 9,
   "id": "b28f79f9",
   "metadata": {},
   "outputs": [
    {
     "ename": "ValueError",
     "evalue": "too many values to unpack (expected 2)",
     "output_type": "error",
     "traceback": [
      "\u001b[1;31m---------------------------------------------------------------------------\u001b[0m",
      "\u001b[1;31mValueError\u001b[0m                                Traceback (most recent call last)",
      "\u001b[1;32m~\\AppData\\Local\\Temp/ipykernel_19072/436836409.py\u001b[0m in \u001b[0;36m<module>\u001b[1;34m\u001b[0m\n\u001b[0;32m      1\u001b[0m \u001b[0mpokemon\u001b[0m \u001b[1;33m=\u001b[0m \u001b[1;33m[\u001b[0m\u001b[1;34m'잉어킹'\u001b[0m\u001b[1;33m,\u001b[0m \u001b[1;34m'미뇽'\u001b[0m\u001b[1;33m,\u001b[0m \u001b[1;34m'야도란'\u001b[0m\u001b[1;33m]\u001b[0m\u001b[1;33m\u001b[0m\u001b[1;33m\u001b[0m\u001b[0m\n\u001b[0;32m      2\u001b[0m \u001b[1;33m\u001b[0m\u001b[0m\n\u001b[1;32m----> 3\u001b[1;33m \u001b[0ma\u001b[0m\u001b[1;33m,\u001b[0m \u001b[0mb\u001b[0m \u001b[1;33m=\u001b[0m \u001b[0mpokemon\u001b[0m\u001b[1;33m\u001b[0m\u001b[1;33m\u001b[0m\u001b[0m\n\u001b[0m",
      "\u001b[1;31mValueError\u001b[0m: too many values to unpack (expected 2)"
     ]
    }
   ],
   "source": [
    "pokemon = ['잉어킹', '미뇽', '야도란']\n",
    "\n",
    "a, b = pokemon"
   ]
  },
  {
   "cell_type": "markdown",
   "id": "3daf859a",
   "metadata": {},
   "source": [
    "갯수가 맞지 않아서 생기는 오류"
   ]
  },
  {
   "cell_type": "markdown",
   "id": "2e387940",
   "metadata": {},
   "source": [
    "## 일부는 제외하기"
   ]
  },
  {
   "cell_type": "code",
   "execution_count": 10,
   "id": "b1736f3c",
   "metadata": {},
   "outputs": [
    {
     "name": "stdout",
     "output_type": "stream",
     "text": [
      "잉어킹\n",
      "미뇽\n"
     ]
    }
   ],
   "source": [
    "a, b, _ = pokemon\n",
    "\n",
    "print(a)\n",
    "print(b)"
   ]
  },
  {
   "cell_type": "code",
   "execution_count": 11,
   "id": "b5e295f2",
   "metadata": {},
   "outputs": [
    {
     "name": "stdout",
     "output_type": "stream",
     "text": [
      "야도란\n"
     ]
    }
   ],
   "source": [
    "print(_)"
   ]
  },
  {
   "cell_type": "markdown",
   "id": "2967b261",
   "metadata": {},
   "source": [
    "한 번에 여러개를 없애고 싶을 때"
   ]
  },
  {
   "cell_type": "code",
   "execution_count": 12,
   "id": "8004c2c9",
   "metadata": {},
   "outputs": [
    {
     "name": "stdout",
     "output_type": "stream",
     "text": [
      "꼬부기\n",
      "어니부기\n",
      "['거북왕', '잉어킹', '갸라도스', '미뇽', '망나뇽']\n"
     ]
    }
   ],
   "source": [
    "water_pokemon = ['꼬부기', '어니부기', '거북왕', '잉어킹', '갸라도스', '미뇽', '망나뇽']\n",
    "\n",
    "a, b, *c = water_pokemon\n",
    "\n",
    "print(a)\n",
    "print(b)\n",
    "print(c)"
   ]
  },
  {
   "cell_type": "markdown",
   "id": "5c4b7a65",
   "metadata": {},
   "source": [
    "# enumerate\n",
    "\n",
    "```enumerate``` 는 "
   ]
  },
  {
   "cell_type": "code",
   "execution_count": null,
   "id": "6c7de914",
   "metadata": {},
   "outputs": [],
   "source": []
  }
 ],
 "metadata": {
  "kernelspec": {
   "display_name": "Python 3 (ipykernel)",
   "language": "python",
   "name": "python3"
  },
  "language_info": {
   "codemirror_mode": {
    "name": "ipython",
    "version": 3
   },
   "file_extension": ".py",
   "mimetype": "text/x-python",
   "name": "python",
   "nbconvert_exporter": "python",
   "pygments_lexer": "ipython3",
   "version": "3.9.7"
  }
 },
 "nbformat": 4,
 "nbformat_minor": 5
}
