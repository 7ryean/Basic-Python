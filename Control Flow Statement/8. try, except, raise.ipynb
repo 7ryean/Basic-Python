{
 "cells": [
  {
   "cell_type": "markdown",
   "id": "31ff4e1f",
   "metadata": {},
   "source": [
    "# try except"
   ]
  },
  {
   "cell_type": "code",
   "execution_count": 1,
   "id": "f44951e5",
   "metadata": {},
   "outputs": [
    {
     "name": "stdout",
     "output_type": "stream",
     "text": [
      "실행을 시도합니다.\n"
     ]
    }
   ],
   "source": [
    "try :\n",
    "    print('실행을 시도합니다.')\n",
    "except :\n",
    "    print('에러가 발생하면 실행됩니다.')"
   ]
  },
  {
   "cell_type": "markdown",
   "id": "50809839",
   "metadata": {},
   "source": [
    "## try except를 사용해 에러를 예외처리하기"
   ]
  },
  {
   "cell_type": "code",
   "execution_count": 2,
   "id": "861c900a",
   "metadata": {},
   "outputs": [
    {
     "name": "stdout",
     "output_type": "stream",
     "text": [
      "실행을 시도합니다.\n",
      "에러가 발생하면 실행됩니다.\n"
     ]
    }
   ],
   "source": [
    "try :\n",
    "    print('실행을 시도합니다.')\n",
    "    x = 1 / 0\n",
    "    print('실행에 성공했습니다.')\n",
    "except :\n",
    "    print('에러가 발생하면 실행됩니다.')"
   ]
  },
  {
   "cell_type": "code",
   "execution_count": 3,
   "id": "5333a0b0",
   "metadata": {},
   "outputs": [
    {
     "name": "stdout",
     "output_type": "stream",
     "text": [
      "실행을 시도합니다.\n",
      "1e+100\n"
     ]
    }
   ],
   "source": [
    "try :\n",
    "    print('실행을 시도합니다.')\n",
    "    x = 1 / 0\n",
    "    print('실행에 성공했습니다.')\n",
    "except :\n",
    "    print(1E100)"
   ]
  },
  {
   "cell_type": "markdown",
   "id": "f14f6e76",
   "metadata": {},
   "source": [
    "## 특정 에러만 예외처리하기"
   ]
  },
  {
   "cell_type": "code",
   "execution_count": 5,
   "id": "fc2d28dd",
   "metadata": {},
   "outputs": [
    {
     "name": "stdout",
     "output_type": "stream",
     "text": [
      "실행을 시도합니다.\n",
      "1e+100\n"
     ]
    }
   ],
   "source": [
    "try :\n",
    "    print('실행을 시도합니다.')\n",
    "    x = 1 / 0\n",
    "    print('실행에 성공했습니다.')\n",
    "except ZeroDivisionError:\n",
    "    x = 1E100\n",
    "    print(x)"
   ]
  },
  {
   "cell_type": "code",
   "execution_count": 6,
   "id": "ff8f2257",
   "metadata": {},
   "outputs": [
    {
     "name": "stdout",
     "output_type": "stream",
     "text": [
      "실행을 시도합니다.\n"
     ]
    },
    {
     "ename": "TypeError",
     "evalue": "unsupported operand type(s) for /: 'int' and 'str'",
     "output_type": "error",
     "traceback": [
      "\u001b[1;31m---------------------------------------------------------------------------\u001b[0m",
      "\u001b[1;31mTypeError\u001b[0m                                 Traceback (most recent call last)",
      "\u001b[1;32m~\\AppData\\Local\\Temp/ipykernel_15844/781040656.py\u001b[0m in \u001b[0;36m<module>\u001b[1;34m\u001b[0m\n\u001b[0;32m      1\u001b[0m \u001b[1;32mtry\u001b[0m \u001b[1;33m:\u001b[0m\u001b[1;33m\u001b[0m\u001b[1;33m\u001b[0m\u001b[0m\n\u001b[0;32m      2\u001b[0m     \u001b[0mprint\u001b[0m\u001b[1;33m(\u001b[0m\u001b[1;34m'실행을 시도합니다.'\u001b[0m\u001b[1;33m)\u001b[0m\u001b[1;33m\u001b[0m\u001b[1;33m\u001b[0m\u001b[0m\n\u001b[1;32m----> 3\u001b[1;33m     \u001b[0mx\u001b[0m \u001b[1;33m=\u001b[0m \u001b[1;36m1\u001b[0m \u001b[1;33m/\u001b[0m \u001b[1;34m'2'\u001b[0m\u001b[1;33m\u001b[0m\u001b[1;33m\u001b[0m\u001b[0m\n\u001b[0m\u001b[0;32m      4\u001b[0m     \u001b[0mprint\u001b[0m\u001b[1;33m(\u001b[0m\u001b[1;34m'실행에 성공했습니다.'\u001b[0m\u001b[1;33m)\u001b[0m\u001b[1;33m\u001b[0m\u001b[1;33m\u001b[0m\u001b[0m\n\u001b[0;32m      5\u001b[0m \u001b[1;32mexcept\u001b[0m \u001b[0mZeroDivisionError\u001b[0m\u001b[1;33m:\u001b[0m\u001b[1;33m\u001b[0m\u001b[1;33m\u001b[0m\u001b[0m\n",
      "\u001b[1;31mTypeError\u001b[0m: unsupported operand type(s) for /: 'int' and 'str'"
     ]
    }
   ],
   "source": [
    "try :\n",
    "    print('실행을 시도합니다.')\n",
    "    x = 1 / '2'\n",
    "    print('실행에 성공했습니다.')\n",
    "except ZeroDivisionError:\n",
    "    x = 1E100\n",
    "    print(x)"
   ]
  },
  {
   "cell_type": "markdown",
   "id": "daa221f5",
   "metadata": {},
   "source": [
    "## 에러 메세지 참조하기"
   ]
  },
  {
   "cell_type": "markdown",
   "id": "c23367b5",
   "metadata": {},
   "source": [
    "- error 종류를 알 수 있는 방법"
   ]
  },
  {
   "cell_type": "code",
   "execution_count": 8,
   "id": "7f9e0d92",
   "metadata": {},
   "outputs": [
    {
     "name": "stdout",
     "output_type": "stream",
     "text": [
      "<class 'ZeroDivisionError'> division by zero\n"
     ]
    }
   ],
   "source": [
    "try :\n",
    "    x = 1 / 0\n",
    "except Exception as err :\n",
    "    print(type(err), err)"
   ]
  },
  {
   "cell_type": "code",
   "execution_count": 9,
   "id": "d177f39f",
   "metadata": {},
   "outputs": [
    {
     "ename": "ZeroDivisionError",
     "evalue": "division by zero",
     "output_type": "error",
     "traceback": [
      "\u001b[1;31m---------------------------------------------------------------------------\u001b[0m",
      "\u001b[1;31mZeroDivisionError\u001b[0m                         Traceback (most recent call last)",
      "\u001b[1;32m~\\AppData\\Local\\Temp/ipykernel_15844/3367807963.py\u001b[0m in \u001b[0;36m<module>\u001b[1;34m\u001b[0m\n\u001b[1;32m----> 1\u001b[1;33m \u001b[0mx\u001b[0m \u001b[1;33m=\u001b[0m \u001b[1;36m1\u001b[0m \u001b[1;33m/\u001b[0m \u001b[1;36m0\u001b[0m\u001b[1;33m\u001b[0m\u001b[1;33m\u001b[0m\u001b[0m\n\u001b[0m",
      "\u001b[1;31mZeroDivisionError\u001b[0m: division by zero"
     ]
    }
   ],
   "source": [
    "x = 1 / 0"
   ]
  },
  {
   "cell_type": "markdown",
   "id": "a830386d",
   "metadata": {},
   "source": [
    "### 연습문제\n",
    "\n",
    "- Step 1. ```sample = [1, 2, 3, 0, 5, '2']``` 리스트에 있는 각각의 원소들을 2로 나누었을 때 결과를 ```div_result``` 리스트에 저장. 나누기 연산을 할 수 없는 경우에는, None을 대신 저장\n",
    "- Step 2. 나누기 연산이 실패했을 때 어떤 원소에서 실패했는지, 실패한 원소의 인덱스 값은 무엇이었는지, 실패한 원인이 무엇인지 출력"
   ]
  },
  {
   "cell_type": "code",
   "execution_count": 10,
   "id": "7024c1ee",
   "metadata": {},
   "outputs": [],
   "source": [
    "sample = [1, 2, 3, 0, 5, '2']"
   ]
  },
  {
   "cell_type": "code",
   "execution_count": 21,
   "id": "f07571dc",
   "metadata": {},
   "outputs": [
    {
     "name": "stdout",
     "output_type": "stream",
     "text": [
      "index : 3, value : 0, type : <class 'ZeroDivisionError'>, message : division by zero\n",
      "index : 5, value : 2, type : <class 'TypeError'>, message : unsupported operand type(s) for /: 'int' and 'str'\n"
     ]
    },
    {
     "data": {
      "text/plain": [
       "[2.0, 1.0, 0.6666666666666666, None, 0.4, None]"
      ]
     },
     "execution_count": 21,
     "metadata": {},
     "output_type": "execute_result"
    }
   ],
   "source": [
    "div_result = []\n",
    "\n",
    "for idx, v in enumerate(sample) :\n",
    "    try :\n",
    "        div_result.append(2 / v)\n",
    "    except Exception as err :\n",
    "        div_result.append(None)\n",
    "        print(f'index : {idx}, value : {v}, type : {type(err)}, message : {err}')\n",
    "        \n",
    "div_result"
   ]
  },
  {
   "cell_type": "markdown",
   "id": "6e6e3276",
   "metadata": {},
   "source": [
    "## 여러 종류의 에러를 한 번에 예외처리하기"
   ]
  },
  {
   "cell_type": "code",
   "execution_count": 22,
   "id": "0def2954",
   "metadata": {
    "collapsed": true
   },
   "outputs": [
    {
     "ename": "SyntaxError",
     "evalue": "invalid syntax (Temp/ipykernel_15844/99977636.py, line 1)",
     "output_type": "error",
     "traceback": [
      "\u001b[1;36m  File \u001b[1;32m\"C:\\Users\\u7rye\\AppData\\Local\\Temp/ipykernel_15844/99977636.py\"\u001b[1;36m, line \u001b[1;32m1\u001b[0m\n\u001b[1;33m    except (RuntimeError, TypeError, NameError) :\u001b[0m\n\u001b[1;37m    ^\u001b[0m\n\u001b[1;31mSyntaxError\u001b[0m\u001b[1;31m:\u001b[0m invalid syntax\n"
     ]
    }
   ],
   "source": [
    "except (RuntimeError, TypeError, NameError) :\n",
    "    pass"
   ]
  },
  {
   "cell_type": "markdown",
   "id": "6402fb9b",
   "metadata": {},
   "source": [
    "# raise\n",
    "\n",
    "임의로 에러를 만들어줄 수 있음"
   ]
  },
  {
   "cell_type": "code",
   "execution_count": 23,
   "id": "69463c7d",
   "metadata": {},
   "outputs": [
    {
     "name": "stdout",
     "output_type": "stream",
     "text": [
      "5 이상의 정수를 입력하세요 : 6\n"
     ]
    }
   ],
   "source": [
    "x = int(input('5 이상의 정수를 입력하세요 : '))\n",
    "\n",
    "if x < 5 :\n",
    "    raise ValueError"
   ]
  },
  {
   "cell_type": "code",
   "execution_count": 24,
   "id": "0cdd9265",
   "metadata": {},
   "outputs": [
    {
     "name": "stdout",
     "output_type": "stream",
     "text": [
      "5 이상의 정수를 입력하세요 : 4\n"
     ]
    },
    {
     "ename": "ValueError",
     "evalue": "",
     "output_type": "error",
     "traceback": [
      "\u001b[1;31m---------------------------------------------------------------------------\u001b[0m",
      "\u001b[1;31mValueError\u001b[0m                                Traceback (most recent call last)",
      "\u001b[1;32m~\\AppData\\Local\\Temp/ipykernel_15844/3892523752.py\u001b[0m in \u001b[0;36m<module>\u001b[1;34m\u001b[0m\n\u001b[0;32m      2\u001b[0m \u001b[1;33m\u001b[0m\u001b[0m\n\u001b[0;32m      3\u001b[0m \u001b[1;32mif\u001b[0m \u001b[0mx\u001b[0m \u001b[1;33m<\u001b[0m \u001b[1;36m5\u001b[0m \u001b[1;33m:\u001b[0m\u001b[1;33m\u001b[0m\u001b[1;33m\u001b[0m\u001b[0m\n\u001b[1;32m----> 4\u001b[1;33m     \u001b[1;32mraise\u001b[0m \u001b[0mValueError\u001b[0m\u001b[1;33m\u001b[0m\u001b[1;33m\u001b[0m\u001b[0m\n\u001b[0m",
      "\u001b[1;31mValueError\u001b[0m: "
     ]
    }
   ],
   "source": [
    "x = int(input('5 이상의 정수를 입력하세요 : '))\n",
    "\n",
    "if x < 5 :\n",
    "    raise ValueError"
   ]
  },
  {
   "cell_type": "code",
   "execution_count": 25,
   "id": "ec0fa554",
   "metadata": {},
   "outputs": [
    {
     "name": "stdout",
     "output_type": "stream",
     "text": [
      "5 이상의 정수를 입력하세요 : 3\n"
     ]
    },
    {
     "ename": "ValueError",
     "evalue": "지금 입력한 숫자는 5 미만 입니다.",
     "output_type": "error",
     "traceback": [
      "\u001b[1;31m---------------------------------------------------------------------------\u001b[0m",
      "\u001b[1;31mValueError\u001b[0m                                Traceback (most recent call last)",
      "\u001b[1;32m~\\AppData\\Local\\Temp/ipykernel_15844/1834798552.py\u001b[0m in \u001b[0;36m<module>\u001b[1;34m\u001b[0m\n\u001b[0;32m      2\u001b[0m \u001b[1;33m\u001b[0m\u001b[0m\n\u001b[0;32m      3\u001b[0m \u001b[1;32mif\u001b[0m \u001b[0mx\u001b[0m \u001b[1;33m<\u001b[0m \u001b[1;36m5\u001b[0m \u001b[1;33m:\u001b[0m\u001b[1;33m\u001b[0m\u001b[1;33m\u001b[0m\u001b[0m\n\u001b[1;32m----> 4\u001b[1;33m     \u001b[1;32mraise\u001b[0m \u001b[0mValueError\u001b[0m\u001b[1;33m(\u001b[0m\u001b[1;34m'지금 입력한 숫자는 5 미만 입니다.'\u001b[0m\u001b[1;33m)\u001b[0m\u001b[1;33m\u001b[0m\u001b[1;33m\u001b[0m\u001b[0m\n\u001b[0m",
      "\u001b[1;31mValueError\u001b[0m: 지금 입력한 숫자는 5 미만 입니다."
     ]
    }
   ],
   "source": [
    "x = int(input('5 이상의 정수를 입력하세요 : '))\n",
    "\n",
    "if x < 5 :\n",
    "    raise ValueError('지금 입력한 숫자는 5 미만 입니다.')"
   ]
  },
  {
   "cell_type": "markdown",
   "id": "07fabed3",
   "metadata": {},
   "source": [
    "- **참고**\n",
    "[에러와 예외처리](https://tensorflow.blog/%ed%9a%8c%ec%98%a4%eb%a6%ac%eb%b0%94%eb%9e%8c%ec%9d%84-%ed%83%84-%ed%8c%8c%ec%9d%b4%ec%8d%ac/%ec%97%90%eb%9f%ac%ec%99%80-%ec%98%88%ec%99%b8%ec%b2%98%eb%a6%ac/)"
   ]
  }
 ],
 "metadata": {
  "kernelspec": {
   "display_name": "Python 3 (ipykernel)",
   "language": "python",
   "name": "python3"
  },
  "language_info": {
   "codemirror_mode": {
    "name": "ipython",
    "version": 3
   },
   "file_extension": ".py",
   "mimetype": "text/x-python",
   "name": "python",
   "nbconvert_exporter": "python",
   "pygments_lexer": "ipython3",
   "version": "3.9.7"
  }
 },
 "nbformat": 4,
 "nbformat_minor": 5
}
