{
 "cells": [
  {
   "cell_type": "markdown",
   "id": "4e7da5a5",
   "metadata": {},
   "source": [
    "# break, continue\n",
    "\n",
    "```break```와 ```continue```는 반복문을 빠져나오거나 특정 조건을 건너뛰고 싶을 때 사용\n",
    "- ```break``` : 특정 조건에서 반복문 완전 종료\n",
    "- ```continue``` : 특정 조건을 건너뛰고 반복문 자체는 계속 실행"
   ]
  },
  {
   "cell_type": "markdown",
   "id": "27e90dfe",
   "metadata": {},
   "source": [
    "## break\n",
    "\n",
    "```break```를 사용해 ```for```나 ```while``` 같은 반복문을 빠져나올 수 있음"
   ]
  },
  {
   "cell_type": "code",
   "execution_count": 1,
   "id": "2386d101",
   "metadata": {},
   "outputs": [
    {
     "name": "stdout",
     "output_type": "stream",
     "text": [
      "꼬부기가 진화하면? 라이츄\n",
      "땡! 다시 한 번 시도해보세요.\n",
      "꼬부기가 진화하면? 피카츄\n",
      "땡! 다시 한 번 시도해보세요.\n",
      "꼬부기가 진화하면? 이상해씨\n",
      "땡! 다시 한 번 시도해보세요.\n",
      "꼬부기가 진화하면? 어니부기\n",
      "정답!\n"
     ]
    }
   ],
   "source": [
    "while True :\n",
    "    answer = input('꼬부기가 진화하면? ')\n",
    "    if answer == '어니부기' :\n",
    "        print('정답!')\n",
    "        break\n",
    "    else :\n",
    "        print('땡! 다시 한 번 시도해보세요.')"
   ]
  },
  {
   "cell_type": "markdown",
   "id": "d796e86b",
   "metadata": {},
   "source": [
    "## continue\n",
    "\n",
    "```continue```를 사용하면 반복문에서 특정 조건을 건너뛰고 다음 순서가 실행됨"
   ]
  },
  {
   "cell_type": "code",
   "execution_count": 4,
   "id": "3c2bce5a",
   "metadata": {},
   "outputs": [
    {
     "name": "stdout",
     "output_type": "stream",
     "text": [
      "0\n",
      "1\n",
      "2\n",
      "3\n",
      "4\n",
      "6\n",
      "7\n",
      "8\n",
      "9\n"
     ]
    }
   ],
   "source": [
    "for i in range(10) :\n",
    "    if i == 5 :\n",
    "        continue\n",
    "    print(i)"
   ]
  },
  {
   "cell_type": "markdown",
   "id": "92413ccd",
   "metadata": {},
   "source": [
    "## pass\n",
    "\n",
    "반복문 안에 ```pass```명령어를 사용할 경우 아무것도 실행하지 않음. 그렇다면 ```pass```는 어떤 상황에 쓰일까?"
   ]
  },
  {
   "cell_type": "code",
   "execution_count": 5,
   "id": "11fa3492",
   "metadata": {},
   "outputs": [
    {
     "ename": "IndentationError",
     "evalue": "expected an indented block (Temp/ipykernel_14604/16414633.py, line 2)",
     "output_type": "error",
     "traceback": [
      "\u001b[1;36m  File \u001b[1;32m\"C:\\Users\\u7rye\\AppData\\Local\\Temp/ipykernel_14604/16414633.py\"\u001b[1;36m, line \u001b[1;32m2\u001b[0m\n\u001b[1;33m    # 코드 작성하기\u001b[0m\n\u001b[1;37m             ^\u001b[0m\n\u001b[1;31mIndentationError\u001b[0m\u001b[1;31m:\u001b[0m expected an indented block\n"
     ]
    }
   ],
   "source": [
    "while True :\n",
    "    # 코드 작성하기"
   ]
  },
  {
   "cell_type": "markdown",
   "id": "811e0120",
   "metadata": {},
   "source": [
    "아직 실행할 코드를 결정하지 않아 주석을 달아 놓았는데 에러가 발생함. 주석처리한 부분이 들여쓰기까지 해서 문법에 맞춰 작성되어 있지만, 인터프리터는 코드가 없다고 판단하기 때문. 이럴 때 ```pass```를 사용하면 정상적으로 동작. 이처럼 아무것도 실행하고 싶지 않지만 문법적으로 입력이 필요할 때 ```pass```를 사용"
   ]
  },
  {
   "cell_type": "code",
   "execution_count": 6,
   "id": "4721e69b",
   "metadata": {},
   "outputs": [
    {
     "ename": "KeyboardInterrupt",
     "evalue": "",
     "output_type": "error",
     "traceback": [
      "\u001b[1;31m---------------------------------------------------------------------------\u001b[0m",
      "\u001b[1;31mKeyboardInterrupt\u001b[0m                         Traceback (most recent call last)",
      "\u001b[1;32m~\\AppData\\Local\\Temp/ipykernel_14604/1035212012.py\u001b[0m in \u001b[0;36m<module>\u001b[1;34m\u001b[0m\n\u001b[0;32m      1\u001b[0m \u001b[1;32mwhile\u001b[0m \u001b[1;32mTrue\u001b[0m \u001b[1;33m:\u001b[0m\u001b[1;33m\u001b[0m\u001b[1;33m\u001b[0m\u001b[0m\n\u001b[1;32m----> 2\u001b[1;33m     \u001b[1;32mpass\u001b[0m\u001b[1;33m\u001b[0m\u001b[1;33m\u001b[0m\u001b[0m\n\u001b[0m",
      "\u001b[1;31mKeyboardInterrupt\u001b[0m: "
     ]
    }
   ],
   "source": [
    "while True :\n",
    "    pass"
   ]
  },
  {
   "cell_type": "markdown",
   "id": "81b699b4",
   "metadata": {},
   "source": [
    "```pass```이외에 ```break```, ```continue```도 사용할 수 있지만 ```break```는 반복문을 종료시키고, ```continue```는 반복문 중 해당 순서를 건너뜀. 그와 다르게 ```pass```는 아무것도 바뀌지 않는 안전한 옵션이기 때문에 다른 키워드를 **사용할 수는 있지만 ```pass```를 사용하는 것을 추천**함"
   ]
  }
 ],
 "metadata": {
  "kernelspec": {
   "display_name": "Python 3 (ipykernel)",
   "language": "python",
   "name": "python3"
  },
  "language_info": {
   "codemirror_mode": {
    "name": "ipython",
    "version": 3
   },
   "file_extension": ".py",
   "mimetype": "text/x-python",
   "name": "python",
   "nbconvert_exporter": "python",
   "pygments_lexer": "ipython3",
   "version": "3.9.7"
  }
 },
 "nbformat": 4,
 "nbformat_minor": 5
}
