{
 "cells": [
  {
   "cell_type": "markdown",
   "id": "945eeee9",
   "metadata": {},
   "source": [
    "# for\n",
    "\n",
    "for문은 반복적으로 작업을 실행해야할 때 사용. 컨테이너 안에 있는 요소를 하나씩 꺼내 실행할 명령을 순차적으로 실행\n",
    "\n",
    "```python\n",
    "for 변수 in 컨테이너 :\n",
    "    실행할 명령1\n",
    "    실행할 명령2\n",
    "    ...\n",
    "```"
   ]
  },
  {
   "cell_type": "code",
   "execution_count": 1,
   "id": "a8bbb46d",
   "metadata": {},
   "outputs": [
    {
     "name": "stdout",
     "output_type": "stream",
     "text": [
      "1\n",
      "2\n",
      "3\n",
      "4\n",
      "5\n"
     ]
    }
   ],
   "source": [
    "for i in [1, 2, 3, 4, 5] :\n",
    "    print(i)"
   ]
  },
  {
   "cell_type": "markdown",
   "id": "d8988eec",
   "metadata": {},
   "source": [
    "## for와 string"
   ]
  },
  {
   "cell_type": "code",
   "execution_count": 2,
   "id": "c73c2ca8",
   "metadata": {},
   "outputs": [
    {
     "data": {
      "text/plain": [
       "11"
      ]
     },
     "execution_count": 2,
     "metadata": {},
     "output_type": "execute_result"
    }
   ],
   "source": [
    "pokemon = \"피카츄 라이츄 파이리\"\n",
    "len(pokemon)"
   ]
  },
  {
   "cell_type": "code",
   "execution_count": 3,
   "id": "74046d1e",
   "metadata": {},
   "outputs": [
    {
     "name": "stdout",
     "output_type": "stream",
     "text": [
      "피\n",
      "카\n",
      "츄\n",
      " \n",
      "라\n",
      "이\n",
      "츄\n",
      " \n",
      "파\n",
      "이\n",
      "리\n"
     ]
    }
   ],
   "source": [
    "for i in pokemon :\n",
    "    print(i)"
   ]
  },
  {
   "cell_type": "markdown",
   "id": "a2cc0a52",
   "metadata": {},
   "source": [
    "## for와 range\n",
    "\n",
    "range는 범위라는 뜻처럼 숫자와 숫자 사이의 연속된 숫자(정수)를 만들어줌\n",
    "```python\n",
    "range(end)\n",
    "range(start, end)\n",
    "range(start, end, step)\n",
    "```"
   ]
  },
  {
   "cell_type": "code",
   "execution_count": 4,
   "id": "3b96d639",
   "metadata": {},
   "outputs": [
    {
     "data": {
      "text/plain": [
       "[0, 1, 2, 3, 4]"
      ]
     },
     "execution_count": 4,
     "metadata": {},
     "output_type": "execute_result"
    }
   ],
   "source": [
    "list(range(5))"
   ]
  },
  {
   "cell_type": "code",
   "execution_count": 5,
   "id": "6e03efcc",
   "metadata": {},
   "outputs": [
    {
     "data": {
      "text/plain": [
       "[1, 2, 3, 4]"
      ]
     },
     "execution_count": 5,
     "metadata": {},
     "output_type": "execute_result"
    }
   ],
   "source": [
    "list(range(1, 5))"
   ]
  },
  {
   "cell_type": "code",
   "execution_count": 6,
   "id": "b935e6d4",
   "metadata": {},
   "outputs": [
    {
     "data": {
      "text/plain": [
       "[1, 3]"
      ]
     },
     "execution_count": 6,
     "metadata": {},
     "output_type": "execute_result"
    }
   ],
   "source": [
    "list(range(1, 5, 2))"
   ]
  },
  {
   "cell_type": "code",
   "execution_count": 7,
   "id": "71577a5b",
   "metadata": {},
   "outputs": [
    {
     "name": "stdout",
     "output_type": "stream",
     "text": [
      "0\n",
      "1\n",
      "2\n",
      "3\n",
      "4\n"
     ]
    }
   ],
   "source": [
    "for i in [0, 1, 2, 3, 4] :\n",
    "    print(i)"
   ]
  },
  {
   "cell_type": "code",
   "execution_count": 8,
   "id": "df8e2196",
   "metadata": {},
   "outputs": [
    {
     "name": "stdout",
     "output_type": "stream",
     "text": [
      "0\n",
      "1\n",
      "2\n",
      "3\n",
      "4\n"
     ]
    }
   ],
   "source": [
    "for i in range(5) :\n",
    "    print(i)"
   ]
  },
  {
   "cell_type": "markdown",
   "id": "08c5714c",
   "metadata": {},
   "source": [
    "## for와 list, tuple\n",
    "\n",
    "- list : ```[ ]``` 사용해서 생성. **순서**가 있고 가지고 있는 원소를 **수정, 추가** 할 수 있음. ```append```를 이용하면 맨 끝 위치에, ```insert```를 사용하면 원하는 위치에 값을 추가할 수 있음.\n",
    "- tuple : ```( )``` 사용해서 생성. **순서**가 있고 가지고 있는 원소를 **수정, 추가** 할 수 없음. 원소를 수정할 필요가 없는 경우 tuple을 사용하는 것이 연산속도가 더 빠름."
   ]
  },
  {
   "cell_type": "code",
   "execution_count": 9,
   "id": "0c39761d",
   "metadata": {},
   "outputs": [],
   "source": [
    "my_pokemon = ['피카츄', '라이츄', '파이리', '꼬부기', '버터풀']\n",
    "your_pokemon = ('또가스', '마자용', '냐용이')"
   ]
  },
  {
   "cell_type": "code",
   "execution_count": 10,
   "id": "0e1b637f",
   "metadata": {},
   "outputs": [
    {
     "name": "stdout",
     "output_type": "stream",
     "text": [
      "피카츄\n",
      "라이츄\n",
      "파이리\n",
      "꼬부기\n",
      "버터풀\n"
     ]
    }
   ],
   "source": [
    "for i in my_pokemon :\n",
    "    print(i)"
   ]
  },
  {
   "cell_type": "code",
   "execution_count": 11,
   "id": "e4b6a73c",
   "metadata": {},
   "outputs": [
    {
     "name": "stdout",
     "output_type": "stream",
     "text": [
      "또가스\n",
      "마자용\n",
      "냐용이\n"
     ]
    }
   ],
   "source": [
    "for i in your_pokemon :\n",
    "    print(i)"
   ]
  },
  {
   "cell_type": "markdown",
   "id": "12af38b8",
   "metadata": {},
   "source": [
    "### list에 원소 추가하기"
   ]
  },
  {
   "cell_type": "code",
   "execution_count": 12,
   "id": "bf299e29",
   "metadata": {},
   "outputs": [
    {
     "data": {
      "text/plain": [
       "[1]"
      ]
     },
     "execution_count": 12,
     "metadata": {},
     "output_type": "execute_result"
    }
   ],
   "source": [
    "# 리스트에 원소 추가하는 방법\n",
    "nums = []\n",
    "nums.append(1)\n",
    "\n",
    "nums"
   ]
  },
  {
   "cell_type": "code",
   "execution_count": 13,
   "id": "e9573f79",
   "metadata": {},
   "outputs": [],
   "source": [
    "# for문을 사용해서 리스트에 원소 추가하는 방법\n",
    "nums = []\n",
    "\n",
    "for i in range(10) :\n",
    "    nums.append(i)"
   ]
  },
  {
   "cell_type": "code",
   "execution_count": 14,
   "id": "ae6bc84b",
   "metadata": {},
   "outputs": [
    {
     "data": {
      "text/plain": [
       "[0, 1, 2, 3, 4, 5, 6, 7, 8, 9]"
      ]
     },
     "execution_count": 14,
     "metadata": {},
     "output_type": "execute_result"
    }
   ],
   "source": [
    "nums"
   ]
  },
  {
   "cell_type": "markdown",
   "id": "3d36a57b",
   "metadata": {},
   "source": [
    "## for와 dictionary\n",
    "\n",
    "- dictionary : ```{ }``` 사용해서 생성. ```key```와 ```values```가 한 쌍으로 이루어진 구조. 기본적으로 ```key```가 중심."
   ]
  },
  {
   "cell_type": "code",
   "execution_count": 15,
   "id": "c87aea82",
   "metadata": {},
   "outputs": [
    {
     "name": "stdout",
     "output_type": "stream",
     "text": [
      "피카츄\n",
      "이상해씨\n"
     ]
    }
   ],
   "source": [
    "my_pokemon_hp = {'피카츄' : 200, '이상해씨' : 100}\n",
    "\n",
    "for i in my_pokemon_hp :\n",
    "    print(i)"
   ]
  },
  {
   "cell_type": "markdown",
   "id": "cefe5bb3",
   "metadata": {},
   "source": [
    "- ```values```를 출력하고 싶다면?"
   ]
  },
  {
   "cell_type": "code",
   "execution_count": 16,
   "id": "23512bae",
   "metadata": {},
   "outputs": [
    {
     "name": "stdout",
     "output_type": "stream",
     "text": [
      "200\n",
      "100\n"
     ]
    }
   ],
   "source": [
    "for i in my_pokemon_hp.values() :\n",
    "    print(i)"
   ]
  },
  {
   "cell_type": "markdown",
   "id": "029741bf",
   "metadata": {},
   "source": [
    "- ```key```와 ```values```를 같이 출력하고 싶다면?"
   ]
  },
  {
   "cell_type": "code",
   "execution_count": 17,
   "id": "ff684221",
   "metadata": {},
   "outputs": [
    {
     "name": "stdout",
     "output_type": "stream",
     "text": [
      "피카츄 200\n",
      "이상해씨 100\n"
     ]
    }
   ],
   "source": [
    "for i in my_pokemon_hp :\n",
    "    print(i, my_pokemon_hp[i])"
   ]
  },
  {
   "cell_type": "code",
   "execution_count": 18,
   "id": "4ed2dc8a",
   "metadata": {},
   "outputs": [
    {
     "name": "stdout",
     "output_type": "stream",
     "text": [
      "('피카츄', 200)\n",
      "('이상해씨', 100)\n"
     ]
    }
   ],
   "source": [
    "for i in my_pokemon_hp.items() :\n",
    "    print(i)"
   ]
  },
  {
   "cell_type": "markdown",
   "id": "f908dd3c",
   "metadata": {},
   "source": [
    "- 결과값을 tuple이 아닌 각각의 값으로 가져오고 싶다면?"
   ]
  },
  {
   "cell_type": "code",
   "execution_count": 20,
   "id": "d181bb6b",
   "metadata": {},
   "outputs": [
    {
     "name": "stdout",
     "output_type": "stream",
     "text": [
      "피카츄\n",
      "이상해씨\n"
     ]
    }
   ],
   "source": [
    "for name, hp in my_pokemon_hp.items() :\n",
    "    print(name)"
   ]
  },
  {
   "cell_type": "code",
   "execution_count": 21,
   "id": "75732e46",
   "metadata": {},
   "outputs": [
    {
     "name": "stdout",
     "output_type": "stream",
     "text": [
      "200\n",
      "100\n"
     ]
    }
   ],
   "source": [
    "for name, hp in my_pokemon_hp.items() :\n",
    "    print(hp)"
   ]
  },
  {
   "cell_type": "code",
   "execution_count": 22,
   "id": "66452f0e",
   "metadata": {},
   "outputs": [
    {
     "name": "stdout",
     "output_type": "stream",
     "text": [
      "피카츄 200\n",
      "이상해씨 100\n"
     ]
    }
   ],
   "source": [
    "for name, hp in my_pokemon_hp.items() :\n",
    "    print(name, hp)"
   ]
  },
  {
   "cell_type": "markdown",
   "id": "1cf42ef7",
   "metadata": {},
   "source": [
    "### dictionary에 원소 추가하기"
   ]
  },
  {
   "cell_type": "code",
   "execution_count": 23,
   "id": "7cfae44c",
   "metadata": {},
   "outputs": [
    {
     "data": {
      "text/plain": [
       "['피카츄', '라이츄', '파이리', '꼬부기', '버터풀']"
      ]
     },
     "execution_count": 23,
     "metadata": {},
     "output_type": "execute_result"
    }
   ],
   "source": [
    "my_pokemon_hp = {}\n",
    "\n",
    "my_pokemon"
   ]
  },
  {
   "cell_type": "code",
   "execution_count": 25,
   "id": "308f13bd",
   "metadata": {},
   "outputs": [
    {
     "data": {
      "text/plain": [
       "{'피카츄': 100, '라이츄': 100, '파이리': 100, '꼬부기': 100, '버터풀': 100}"
      ]
     },
     "execution_count": 25,
     "metadata": {},
     "output_type": "execute_result"
    }
   ],
   "source": [
    "for i in my_pokemon :\n",
    "    my_pokemon_hp[i] = 100\n",
    "    \n",
    "my_pokemon_hp"
   ]
  },
  {
   "cell_type": "markdown",
   "id": "5a948519",
   "metadata": {},
   "source": [
    "## 중첩 for문"
   ]
  },
  {
   "cell_type": "code",
   "execution_count": 26,
   "id": "f8c20bb6",
   "metadata": {},
   "outputs": [
    {
     "data": {
      "text/plain": [
       "[['피카츄', '라이츄'], ['꼬부기', '거북왕'], ['이상해씨', '이상해풀', '이상해꽃']]"
      ]
     },
     "execution_count": 26,
     "metadata": {},
     "output_type": "execute_result"
    }
   ],
   "source": [
    "group1 = ['피카츄', '라이츄']\n",
    "group2 = ['꼬부기', '거북왕']\n",
    "group3 = ['이상해씨', '이상해풀', '이상해꽃']\n",
    "\n",
    "pokemon_groups = [group1, group2, group3]\n",
    "\n",
    "pokemon_groups"
   ]
  },
  {
   "cell_type": "markdown",
   "id": "a0918873",
   "metadata": {},
   "source": [
    "- list안에 있는 list에 접근하기"
   ]
  },
  {
   "cell_type": "code",
   "execution_count": 28,
   "id": "8d8ba07a",
   "metadata": {},
   "outputs": [
    {
     "name": "stdout",
     "output_type": "stream",
     "text": [
      "피카츄\n",
      "라이츄\n",
      "꼬부기\n",
      "거북왕\n",
      "이상해씨\n",
      "이상해풀\n",
      "이상해꽃\n"
     ]
    }
   ],
   "source": [
    "for group in pokemon_groups :\n",
    "    for name in group :\n",
    "        print(name)"
   ]
  },
  {
   "cell_type": "code",
   "execution_count": 29,
   "id": "a7487832",
   "metadata": {},
   "outputs": [
    {
     "name": "stdout",
     "output_type": "stream",
     "text": [
      "피카츄 ❤️\n",
      "라이츄 ❤️\n",
      "꼬부기 ❤️\n",
      "거북왕 ❤️\n",
      "이상해씨 ❤️\n",
      "이상해풀 ❤️\n",
      "이상해꽃 ❤️\n"
     ]
    }
   ],
   "source": [
    "for group in pokemon_groups :\n",
    "    for name in group :\n",
    "        print(name, '❤️')"
   ]
  },
  {
   "cell_type": "markdown",
   "id": "fe0d1c8f",
   "metadata": {},
   "source": [
    "## for와 if"
   ]
  },
  {
   "cell_type": "code",
   "execution_count": 30,
   "id": "1bb45794",
   "metadata": {},
   "outputs": [
    {
     "name": "stdout",
     "output_type": "stream",
     "text": [
      "서울시 광진구\n",
      "충청남도 논산시\n"
     ]
    }
   ],
   "source": [
    "address1 = input()\n",
    "address2 = input()\n",
    "\n",
    "address = [address1, address2]"
   ]
  },
  {
   "cell_type": "code",
   "execution_count": 31,
   "id": "4239a438",
   "metadata": {},
   "outputs": [
    {
     "data": {
      "text/plain": [
       "['서울시 광진구', '충청남도 논산시']"
      ]
     },
     "execution_count": 31,
     "metadata": {},
     "output_type": "execute_result"
    }
   ],
   "source": [
    "address"
   ]
  },
  {
   "cell_type": "code",
   "execution_count": 32,
   "id": "5ca3a719",
   "metadata": {},
   "outputs": [
    {
     "name": "stdout",
     "output_type": "stream",
     "text": [
      "서울시 광진구 : 45분 걸립니다\n",
      "충청남도 논산시 : 배달이 불가능한 지역입니다\n"
     ]
    }
   ],
   "source": [
    "for add in address :\n",
    "    if add == '서울시 광진구' : \n",
    "        print(add, ': 45분 걸립니다')\n",
    "    else :\n",
    "        print(add, ': 배달이 불가능한 지역입니다')"
   ]
  }
 ],
 "metadata": {
  "kernelspec": {
   "display_name": "Python 3 (ipykernel)",
   "language": "python",
   "name": "python3"
  },
  "language_info": {
   "codemirror_mode": {
    "name": "ipython",
    "version": 3
   },
   "file_extension": ".py",
   "mimetype": "text/x-python",
   "name": "python",
   "nbconvert_exporter": "python",
   "pygments_lexer": "ipython3",
   "version": "3.9.7"
  }
 },
 "nbformat": 4,
 "nbformat_minor": 5
}
