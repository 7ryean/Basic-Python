{
 "cells": [
  {
   "cell_type": "markdown",
   "id": "c8237a04",
   "metadata": {},
   "source": [
    "# Comprehension\n",
    "\n",
    "list, dictionary 등 자료구조를 간단하게 만들 수 있는 파이썬의 독특한 문법"
   ]
  },
  {
   "cell_type": "code",
   "execution_count": 1,
   "id": "b090152c",
   "metadata": {},
   "outputs": [],
   "source": [
    "sample = [1, 2, 3, 4, 5]"
   ]
  },
  {
   "cell_type": "markdown",
   "id": "f6f7262b",
   "metadata": {},
   "source": [
    "sample의 각 원소들을 2배로 곱하고 싶다면?"
   ]
  },
  {
   "cell_type": "code",
   "execution_count": 2,
   "id": "1e065885",
   "metadata": {},
   "outputs": [
    {
     "data": {
      "text/plain": [
       "[2, 4, 6, 8, 10]"
      ]
     },
     "execution_count": 2,
     "metadata": {},
     "output_type": "execute_result"
    }
   ],
   "source": [
    "double = []\n",
    "\n",
    "for i in sample :\n",
    "    double.append(i*2)\n",
    "    \n",
    "double"
   ]
  },
  {
   "cell_type": "code",
   "execution_count": 3,
   "id": "0b02abf6",
   "metadata": {},
   "outputs": [
    {
     "data": {
      "text/plain": [
       "[2, 4, 6, 8, 10]"
      ]
     },
     "execution_count": 3,
     "metadata": {},
     "output_type": "execute_result"
    }
   ],
   "source": [
    "# [원소연산 반복문]\n",
    "double = [i * 2 for i in sample]\n",
    "double"
   ]
  },
  {
   "cell_type": "code",
   "execution_count": 4,
   "id": "6ea90ae8",
   "metadata": {},
   "outputs": [
    {
     "data": {
      "text/plain": [
       "[2, 3, 4, 5, 6]"
      ]
     },
     "execution_count": 4,
     "metadata": {},
     "output_type": "execute_result"
    }
   ],
   "source": [
    "add_1 = [i + 1 for i in sample]\n",
    "\n",
    "add_1"
   ]
  },
  {
   "cell_type": "markdown",
   "id": "4b4b32e5",
   "metadata": {},
   "source": [
    "## list comprehension"
   ]
  },
  {
   "cell_type": "markdown",
   "id": "28f4a791",
   "metadata": {},
   "source": [
    "### 두 리스트 더하기"
   ]
  },
  {
   "cell_type": "code",
   "execution_count": 8,
   "id": "6f1936da",
   "metadata": {},
   "outputs": [
    {
     "data": {
      "text/plain": [
       "[11, 12, 23, 34]"
      ]
     },
     "execution_count": 8,
     "metadata": {},
     "output_type": "execute_result"
    }
   ],
   "source": [
    "x = [1, 2, 3, 4]\n",
    "y = [10, 10, 20, 30]\n",
    "\n",
    "z = []\n",
    "\n",
    "for i in range(len(x)) :\n",
    "    z.append(x[i] + y[i])\n",
    "    \n",
    "z"
   ]
  },
  {
   "cell_type": "code",
   "execution_count": 9,
   "id": "7572321e",
   "metadata": {},
   "outputs": [
    {
     "data": {
      "text/plain": [
       "[11, 12, 23, 34]"
      ]
     },
     "execution_count": 9,
     "metadata": {},
     "output_type": "execute_result"
    }
   ],
   "source": [
    "z = []\n",
    "\n",
    "z = [x[i]+y[i] for i in range(len(x))]\n",
    "z"
   ]
  },
  {
   "cell_type": "markdown",
   "id": "71a14ca5",
   "metadata": {},
   "source": [
    "- zip을 사용하는 방법"
   ]
  },
  {
   "cell_type": "code",
   "execution_count": 11,
   "id": "79f97e1e",
   "metadata": {},
   "outputs": [
    {
     "data": {
      "text/plain": [
       "[11, 12, 23, 34]"
      ]
     },
     "execution_count": 11,
     "metadata": {},
     "output_type": "execute_result"
    }
   ],
   "source": [
    "z = []\n",
    "\n",
    "for a, b in zip(x, y) :\n",
    "    z.append(a + b)\n",
    "    \n",
    "z"
   ]
  },
  {
   "cell_type": "code",
   "execution_count": 12,
   "id": "fa4c33e2",
   "metadata": {},
   "outputs": [
    {
     "data": {
      "text/plain": [
       "[11, 12, 23, 34]"
      ]
     },
     "execution_count": 12,
     "metadata": {},
     "output_type": "execute_result"
    }
   ],
   "source": [
    "z = []\n",
    "\n",
    "z = [a+b for a,b in zip(x,y)]\n",
    "z"
   ]
  },
  {
   "cell_type": "markdown",
   "id": "ce6fc24b",
   "metadata": {},
   "source": [
    "### 리스트 평평하게 만들기"
   ]
  },
  {
   "cell_type": "code",
   "execution_count": 10,
   "id": "a918ed04",
   "metadata": {},
   "outputs": [
    {
     "data": {
      "text/plain": [
       "['피카츄', '라이츄', '파이리', '리자드']"
      ]
     },
     "execution_count": 10,
     "metadata": {},
     "output_type": "execute_result"
    }
   ],
   "source": [
    "groups = [['피카츄', '라이츄'],['파이리', '리자드']]\n",
    "\n",
    "flat = []\n",
    "\n",
    "for i in range(len(groups)) :\n",
    "    for j in range(len(groups[i])) :\n",
    "        flat.append(groups[i][j])\n",
    "        \n",
    "flat"
   ]
  },
  {
   "cell_type": "markdown",
   "id": "be747d2d",
   "metadata": {},
   "source": [
    "- 왜 굳이 인덱스를 사용했을까? for문만 사용하면 바로 원소를 가져올 수 있는데!"
   ]
  },
  {
   "cell_type": "code",
   "execution_count": 13,
   "id": "83ebc2bd",
   "metadata": {},
   "outputs": [
    {
     "data": {
      "text/plain": [
       "['피카츄', '라이츄', '파이리', '리자드']"
      ]
     },
     "execution_count": 13,
     "metadata": {},
     "output_type": "execute_result"
    }
   ],
   "source": [
    "flat = []\n",
    "\n",
    "for group in groups :\n",
    "    for i in group :\n",
    "        flat.append(i)\n",
    "        \n",
    "flat"
   ]
  },
  {
   "cell_type": "code",
   "execution_count": 14,
   "id": "f8641530",
   "metadata": {},
   "outputs": [
    {
     "data": {
      "text/plain": [
       "['피카츄', '라이츄', '파이리', '리자드']"
      ]
     },
     "execution_count": 14,
     "metadata": {},
     "output_type": "execute_result"
    }
   ],
   "source": [
    "flat = []\n",
    "\n",
    "flat = [i for group in groups for i in group]\n",
    "flat"
   ]
  },
  {
   "cell_type": "markdown",
   "id": "58e1d2d4",
   "metadata": {},
   "source": [
    "### 데이터 필터링"
   ]
  },
  {
   "cell_type": "code",
   "execution_count": 15,
   "id": "df6b3a51",
   "metadata": {},
   "outputs": [
    {
     "data": {
      "text/plain": [
       "[2, 4, 6, 8, 10]"
      ]
     },
     "execution_count": 15,
     "metadata": {},
     "output_type": "execute_result"
    }
   ],
   "source": [
    "# 짝수만 가져오기\n",
    "nums = [1, 2, 3, 4, 5, 6, 7, 8, 9, 10]\n",
    "\n",
    "double_num = []\n",
    "\n",
    "for num in nums :\n",
    "    if num % 2 == 0 :\n",
    "        double_num.append(num)\n",
    "#     else :\n",
    "#         pass\n",
    "        \n",
    "double_num"
   ]
  },
  {
   "cell_type": "code",
   "execution_count": 19,
   "id": "b57176e0",
   "metadata": {},
   "outputs": [
    {
     "data": {
      "text/plain": [
       "[2, 4, 6, 8, 10]"
      ]
     },
     "execution_count": 19,
     "metadata": {},
     "output_type": "execute_result"
    }
   ],
   "source": [
    "double_num = []\n",
    "\n",
    "double_num = [num for num in nums if num % 2 == 0]\n",
    "        \n",
    "double_num"
   ]
  },
  {
   "cell_type": "markdown",
   "id": "ac78c645",
   "metadata": {},
   "source": [
    "## Dict comprehension"
   ]
  },
  {
   "cell_type": "code",
   "execution_count": 20,
   "id": "b9ef1aaf",
   "metadata": {},
   "outputs": [
    {
     "data": {
      "text/plain": [
       "{'피카츄': 100, '라이츄': 200, '파이리': 300}"
      ]
     },
     "execution_count": 20,
     "metadata": {},
     "output_type": "execute_result"
    }
   ],
   "source": [
    "pokemon = ['피카츄', '라이츄', '파이리']\n",
    "hp = [100, 200, 300]\n",
    "\n",
    "pokemon_hp = {}\n",
    "\n",
    "for i in range(len(pokemon)) :\n",
    "    pokemon_hp[pokemon[i]] = hp[i]\n",
    "    \n",
    "pokemon_hp"
   ]
  },
  {
   "cell_type": "markdown",
   "id": "043fa50f",
   "metadata": {},
   "source": [
    "- 왜 또 인덱스를 써! zip쓰기"
   ]
  },
  {
   "cell_type": "code",
   "execution_count": 21,
   "id": "175d01f6",
   "metadata": {},
   "outputs": [
    {
     "data": {
      "text/plain": [
       "{'피카츄': 100, '라이츄': 200, '파이리': 300}"
      ]
     },
     "execution_count": 21,
     "metadata": {},
     "output_type": "execute_result"
    }
   ],
   "source": [
    "pokemon_hp = {}\n",
    "\n",
    "for n, h in zip(pokemon, hp) :\n",
    "    pokemon_hp[n] = h\n",
    "    \n",
    "pokemon_hp"
   ]
  },
  {
   "cell_type": "code",
   "execution_count": 29,
   "id": "ff403ef0",
   "metadata": {},
   "outputs": [
    {
     "data": {
      "text/plain": [
       "{'피카츄': 100, '라이츄': 200, '파이리': 300}"
      ]
     },
     "execution_count": 29,
     "metadata": {},
     "output_type": "execute_result"
    }
   ],
   "source": [
    "pokemon_hp = {}\n",
    "\n",
    "pokemon_hp = {n : h for n, h in zip(pokemon, hp)}\n",
    "    \n",
    "pokemon_hp"
   ]
  },
  {
   "cell_type": "markdown",
   "id": "c6c993e8",
   "metadata": {},
   "source": [
    "### key와 value 값 바꾸기"
   ]
  },
  {
   "cell_type": "code",
   "execution_count": 24,
   "id": "864dac78",
   "metadata": {},
   "outputs": [
    {
     "data": {
      "text/plain": [
       "{100: '피카츄', 200: '라이츄', 300: '파이리'}"
      ]
     },
     "execution_count": 24,
     "metadata": {},
     "output_type": "execute_result"
    }
   ],
   "source": [
    "hp_pokemon = {}\n",
    "\n",
    "for n, h in zip(pokemon, hp) :\n",
    "    hp_pokemon[h] = n\n",
    "    \n",
    "hp_pokemon"
   ]
  },
  {
   "cell_type": "code",
   "execution_count": 25,
   "id": "e624ed1d",
   "metadata": {},
   "outputs": [
    {
     "data": {
      "text/plain": [
       "{100: '피카츄', 200: '라이츄', 300: '파이리'}"
      ]
     },
     "execution_count": 25,
     "metadata": {},
     "output_type": "execute_result"
    }
   ],
   "source": [
    "hp_pokemon = {}\n",
    "\n",
    "hp_pokemon = {h : n for n, h in zip(pokemon, hp)}\n",
    "    \n",
    "hp_pokemon"
   ]
  },
  {
   "cell_type": "markdown",
   "id": "1682635a",
   "metadata": {},
   "source": [
    "### 데이터 필터링"
   ]
  },
  {
   "cell_type": "code",
   "execution_count": 30,
   "id": "2cd20eec",
   "metadata": {},
   "outputs": [
    {
     "data": {
      "text/plain": [
       "{'라이츄': 200, '파이리': 300}"
      ]
     },
     "execution_count": 30,
     "metadata": {},
     "output_type": "execute_result"
    }
   ],
   "source": [
    "strong = {}\n",
    "\n",
    "for n, h in pokemon_hp.items() :\n",
    "    if h >= 150 :\n",
    "        strong[n] = h\n",
    "        \n",
    "strong"
   ]
  },
  {
   "cell_type": "code",
   "execution_count": 31,
   "id": "95547a44",
   "metadata": {},
   "outputs": [
    {
     "data": {
      "text/plain": [
       "{'라이츄': 200, '파이리': 300}"
      ]
     },
     "execution_count": 31,
     "metadata": {},
     "output_type": "execute_result"
    }
   ],
   "source": [
    "strong = {n : h for n, h in pokemon_hp.items() if h >= 150}\n",
    "\n",
    "strong"
   ]
  }
 ],
 "metadata": {
  "kernelspec": {
   "display_name": "Python 3 (ipykernel)",
   "language": "python",
   "name": "python3"
  },
  "language_info": {
   "codemirror_mode": {
    "name": "ipython",
    "version": 3
   },
   "file_extension": ".py",
   "mimetype": "text/x-python",
   "name": "python",
   "nbconvert_exporter": "python",
   "pygments_lexer": "ipython3",
   "version": "3.9.7"
  }
 },
 "nbformat": 4,
 "nbformat_minor": 5
}
