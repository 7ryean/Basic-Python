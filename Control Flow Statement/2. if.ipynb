{
 "cells": [
  {
   "cell_type": "markdown",
   "id": "cbaedf91",
   "metadata": {},
   "source": [
    "# IF\n",
    "\n",
    "```if```문은 주어진 조건에 따라 다른 결과를 출력하고 싶을 때 사용"
   ]
  },
  {
   "cell_type": "markdown",
   "id": "748279f5",
   "metadata": {},
   "source": [
    "## if문 작성하기\n",
    "\n",
    "```python\n",
    "if <조건 1> :\n",
    "    <블록 1>\n",
    "else :\n",
    "    <블록 2>\n",
    "```"
   ]
  },
  {
   "cell_type": "markdown",
   "id": "674247e8",
   "metadata": {},
   "source": [
    "### if문 작성에서 주의할 점 1. 들여쓰기"
   ]
  },
  {
   "cell_type": "code",
   "execution_count": 1,
   "id": "c7f3fc91",
   "metadata": {},
   "outputs": [
    {
     "name": "stdout",
     "output_type": "stream",
     "text": [
      "A 학점입니다.\n"
     ]
    }
   ],
   "source": [
    "score = 90\n",
    "\n",
    "if score >= 90 :\n",
    "    print('A 학점입니다.')\n",
    "else :\n",
    "    print('F 학점입니다.')"
   ]
  },
  {
   "cell_type": "code",
   "execution_count": 2,
   "id": "80580cdf",
   "metadata": {},
   "outputs": [
    {
     "ename": "IndentationError",
     "evalue": "expected an indented block (Temp/ipykernel_864/2617250897.py, line 6)",
     "output_type": "error",
     "traceback": [
      "\u001b[1;36m  File \u001b[1;32m\"C:\\Users\\u7rye\\AppData\\Local\\Temp/ipykernel_864/2617250897.py\"\u001b[1;36m, line \u001b[1;32m6\u001b[0m\n\u001b[1;33m    print('F 학점입니다.')\u001b[0m\n\u001b[1;37m    ^\u001b[0m\n\u001b[1;31mIndentationError\u001b[0m\u001b[1;31m:\u001b[0m expected an indented block\n"
     ]
    }
   ],
   "source": [
    "score = 90\n",
    "\n",
    "if score >= 90 :\n",
    "    print('A 학점입니다.')\n",
    "else :\n",
    "print('F 학점입니다.')"
   ]
  },
  {
   "cell_type": "markdown",
   "id": "e3a56bde",
   "metadata": {},
   "source": [
    "띄어쓰기 오류가 발생한다"
   ]
  },
  {
   "cell_type": "markdown",
   "id": "f2e3c9a5",
   "metadata": {},
   "source": [
    "## if문 작성에서 주의할 점 2. 콜론 (:)"
   ]
  },
  {
   "cell_type": "code",
   "execution_count": 3,
   "id": "278c8046",
   "metadata": {},
   "outputs": [
    {
     "ename": "SyntaxError",
     "evalue": "invalid syntax (Temp/ipykernel_864/1330432658.py, line 5)",
     "output_type": "error",
     "traceback": [
      "\u001b[1;36m  File \u001b[1;32m\"C:\\Users\\u7rye\\AppData\\Local\\Temp/ipykernel_864/1330432658.py\"\u001b[1;36m, line \u001b[1;32m5\u001b[0m\n\u001b[1;33m    else\u001b[0m\n\u001b[1;37m         ^\u001b[0m\n\u001b[1;31mSyntaxError\u001b[0m\u001b[1;31m:\u001b[0m invalid syntax\n"
     ]
    }
   ],
   "source": [
    "score = 90\n",
    "\n",
    "if score >= 90 :\n",
    "    print('A 학점입니다.')\n",
    "else \n",
    "    print('F 학점입니다.')"
   ]
  },
  {
   "cell_type": "markdown",
   "id": "3e07b410",
   "metadata": {},
   "source": [
    "### 간단한 if문 만들어보기\n",
    "\n",
    "시험 점수를 입력하면 통과여부 ```Pass / Fail```을 알려주는 ```if```문 작성하기 </br>\n",
    "60점 이상이면 ```Pass```, 60점 미만은 ```Fail```"
   ]
  },
  {
   "cell_type": "code",
   "execution_count": 4,
   "id": "b0caf2b7",
   "metadata": {},
   "outputs": [
    {
     "name": "stdout",
     "output_type": "stream",
     "text": [
      "시험 점수를 입력하세요 :73\n",
      "Pass\n"
     ]
    }
   ],
   "source": [
    "score = int(input('시험 점수를 입력하세요 :'))\n",
    "\n",
    "if score >= 60 :\n",
    "    print('Pass')\n",
    "else :\n",
    "    print('Fail')"
   ]
  },
  {
   "cell_type": "markdown",
   "id": "7e675489",
   "metadata": {},
   "source": [
    "## 중첩 if문\n",
    "\n",
    "중첩 ```if```문은 ```if```문 안에다가 또 다른 ```if```문을 넣는 것. 중첩```if```문을 사용하면 조건이 여러개인 ```if```문을 작성할 수 있음\n",
    "\n",
    "```python\n",
    "if <조건 1> :\n",
    "    <블록 1>\n",
    "    if <조건 2> :\n",
    "        <블록 2>\n",
    "    else : \n",
    "        <블록 3>\n",
    "else :\n",
    "    <블록 4>\n",
    "```"
   ]
  },
  {
   "cell_type": "code",
   "execution_count": 5,
   "id": "5dcdc663",
   "metadata": {},
   "outputs": [
    {
     "name": "stdout",
     "output_type": "stream",
     "text": [
      "A 학점입니다.\n"
     ]
    }
   ],
   "source": [
    "score = 90\n",
    "assignment = True\n",
    "\n",
    "if score >= 90 :\n",
    "    if assignment :\n",
    "        print('A 학점입니다.')\n",
    "    else :\n",
    "        print('B 학점입니다.')\n",
    "else :\n",
    "    print('F 학점입니다.')"
   ]
  },
  {
   "cell_type": "code",
   "execution_count": 6,
   "id": "4b2738df",
   "metadata": {},
   "outputs": [
    {
     "name": "stdout",
     "output_type": "stream",
     "text": [
      "A 학점입니다.\n"
     ]
    }
   ],
   "source": [
    "score = 90\n",
    "assignment = True\n",
    "\n",
    "if score >= 60 :\n",
    "    if assignment :\n",
    "        print('A 학점입니다.')\n",
    "    else :\n",
    "        print('B 학점입니다.')\n",
    "else :\n",
    "    print('F 학점입니다.')"
   ]
  },
  {
   "cell_type": "code",
   "execution_count": 7,
   "id": "ed3b7784",
   "metadata": {},
   "outputs": [
    {
     "name": "stdout",
     "output_type": "stream",
     "text": [
      "B 학점입니다.\n"
     ]
    }
   ],
   "source": [
    "score = 90\n",
    "assignment = False\n",
    "\n",
    "if score >= 60 :\n",
    "    if assignment :\n",
    "        print('A 학점입니다.')\n",
    "    else :\n",
    "        print('B 학점입니다.')\n",
    "else :\n",
    "    print('F 학점입니다.')"
   ]
  },
  {
   "cell_type": "markdown",
   "id": "29d9ec16",
   "metadata": {},
   "source": [
    "## elif\n",
    "\n",
    "```elif```는 ```else if```의 줄임말\n",
    "```python\n",
    "if <조건 1> :\n",
    "    <블록 1>\n",
    "elif <조건 2> :\n",
    "    <블록 2>\n",
    "else :\n",
    "    <블록 3>\n",
    "```"
   ]
  },
  {
   "cell_type": "code",
   "execution_count": 8,
   "id": "a18fe58b",
   "metadata": {},
   "outputs": [
    {
     "name": "stdout",
     "output_type": "stream",
     "text": [
      "A 학점입니다.\n"
     ]
    }
   ],
   "source": [
    "score = 90\n",
    "\n",
    "if score >= 90 :\n",
    "    print('A 학점입니다.')\n",
    "elif score >= 80 :\n",
    "    print('B 학점입니다.')\n",
    "else :\n",
    "    print('F 학점입니다')"
   ]
  },
  {
   "cell_type": "markdown",
   "id": "3a722398",
   "metadata": {},
   "source": [
    "### if문과 elif문 비교"
   ]
  },
  {
   "cell_type": "markdown",
   "id": "d87719aa",
   "metadata": {},
   "source": [
    "elif를 쓰지 않고 if를 두 번 사용했을 때"
   ]
  },
  {
   "cell_type": "code",
   "execution_count": 9,
   "id": "271e2e5e",
   "metadata": {},
   "outputs": [
    {
     "name": "stdout",
     "output_type": "stream",
     "text": [
      "A 학점입니다.\n",
      "B 학점입니다.\n"
     ]
    }
   ],
   "source": [
    "score = 90\n",
    "\n",
    "if score >= 90 :\n",
    "    print('A 학점입니다.')\n",
    "if score >= 80 :\n",
    "    print('B 학점입니다.')\n",
    "else :\n",
    "    print('F 학점입니다')"
   ]
  },
  {
   "cell_type": "markdown",
   "id": "30bcc1b7",
   "metadata": {},
   "source": [
    "각각의 if가 개별적인 if문으로 인식되어서 두 개의 print를 실행"
   ]
  },
  {
   "cell_type": "code",
   "execution_count": 10,
   "id": "a51f018f",
   "metadata": {},
   "outputs": [
    {
     "name": "stdout",
     "output_type": "stream",
     "text": [
      "A 학점입니다.\n",
      "F 학점입니다\n"
     ]
    }
   ],
   "source": [
    "score = 90\n",
    "\n",
    "if score >= 90 :\n",
    "    print('A 학점입니다.')\n",
    "if (score >= 80) & (score < 90) :\n",
    "    print('B 학점입니다.')\n",
    "else :\n",
    "    print('F 학점입니다')"
   ]
  },
  {
   "cell_type": "code",
   "execution_count": 11,
   "id": "ca3aa49a",
   "metadata": {},
   "outputs": [
    {
     "name": "stdout",
     "output_type": "stream",
     "text": [
      "B 학점입니다.\n"
     ]
    }
   ],
   "source": [
    "score = 85\n",
    "\n",
    "if score >= 90 :\n",
    "    print('A 학점입니다.')\n",
    "if (score >= 80) & (score < 90) :\n",
    "    print('B 학점입니다.')\n",
    "if score < 80 :\n",
    "    print('F 학점입니다')"
   ]
  }
 ],
 "metadata": {
  "kernelspec": {
   "display_name": "Python 3 (ipykernel)",
   "language": "python",
   "name": "python3"
  },
  "language_info": {
   "codemirror_mode": {
    "name": "ipython",
    "version": 3
   },
   "file_extension": ".py",
   "mimetype": "text/x-python",
   "name": "python",
   "nbconvert_exporter": "python",
   "pygments_lexer": "ipython3",
   "version": "3.9.7"
  }
 },
 "nbformat": 4,
 "nbformat_minor": 5
}
