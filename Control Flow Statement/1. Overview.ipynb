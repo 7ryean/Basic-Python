{
 "cells": [
  {
   "cell_type": "markdown",
   "id": "18093985",
   "metadata": {},
   "source": [
    "# 제어문\n",
    "\n",
    "제어문에는 조건에 따라 다른 코드를 실행해주는 ```if```문과 반복을 수행해주는 ```for```문과 ```while```문 등이 있음"
   ]
  },
  {
   "cell_type": "markdown",
   "id": "7ee07cf3",
   "metadata": {},
   "source": [
    "## if\n",
    "\n",
    "조건에 따라 각각 다른 코드를 실행해주고 싶을 때"
   ]
  },
  {
   "cell_type": "code",
   "execution_count": 1,
   "id": "6fdf65f5",
   "metadata": {},
   "outputs": [
    {
     "name": "stdout",
     "output_type": "stream",
     "text": [
      "음수\n"
     ]
    }
   ],
   "source": [
    "# 입력한 숫자를 음수, 0, 양수로 구분해주는 if문\n",
    "\n",
    "x = -1\n",
    "\n",
    "if x < 0 :\n",
    "    print('음수')\n",
    "elif x == 0 :\n",
    "    print('0')\n",
    "else :\n",
    "    print('양수')"
   ]
  },
  {
   "cell_type": "markdown",
   "id": "e5abbc0f",
   "metadata": {},
   "source": [
    "## for\n",
    "\n",
    "```for```문과 ```while```문은 특정 코드를 반복해줄 때 사용하는 반복문. ```for```문은 리스트나 문자열처럼 반복가능한 iterable 시퀀스에서 원소를 하나씩 꺼내서 실행해줄 때 사용"
   ]
  },
  {
   "cell_type": "code",
   "execution_count": 2,
   "id": "2e78ecd6",
   "metadata": {},
   "outputs": [
    {
     "name": "stdout",
     "output_type": "stream",
     "text": [
      "피카츄\n",
      "라이츄\n",
      "파이리\n",
      "꼬부기\n"
     ]
    }
   ],
   "source": [
    "pokemon = ['피카츄', '라이츄', '파이리', '꼬부기']\n",
    "\n",
    "for i in pokemon :\n",
    "    print(i)"
   ]
  },
  {
   "cell_type": "markdown",
   "id": "70ed3286",
   "metadata": {},
   "source": [
    "## while\n",
    "\n",
    "```while```은 ```for```문과 같은 반복문. ```while```은 특정 조건이 참 ```True```일 경우에 반복"
   ]
  },
  {
   "cell_type": "code",
   "execution_count": 3,
   "id": "ea001ae9",
   "metadata": {},
   "outputs": [
    {
     "name": "stdout",
     "output_type": "stream",
     "text": [
      "0\n",
      "1\n",
      "2\n",
      "3\n",
      "4\n",
      "5\n",
      "6\n",
      "7\n",
      "8\n",
      "9\n"
     ]
    }
   ],
   "source": [
    "a = 0\n",
    "\n",
    "while a < 10 :\n",
    "    print(a)\n",
    "    a += 1"
   ]
  }
 ],
 "metadata": {
  "kernelspec": {
   "display_name": "Python 3 (ipykernel)",
   "language": "python",
   "name": "python3"
  },
  "language_info": {
   "codemirror_mode": {
    "name": "ipython",
    "version": 3
   },
   "file_extension": ".py",
   "mimetype": "text/x-python",
   "name": "python",
   "nbconvert_exporter": "python",
   "pygments_lexer": "ipython3",
   "version": "3.9.7"
  }
 },
 "nbformat": 4,
 "nbformat_minor": 5
}
