{
 "cells": [
  {
   "cell_type": "markdown",
   "metadata": {
    "id": "frx9utkvoxVr"
   },
   "source": [
    "# Q1.\n",
    "`for` 와 `range()`를 활용하여 1~10까지 수를 출력해보세요."
   ]
  },
  {
   "cell_type": "code",
   "execution_count": 1,
   "metadata": {
    "id": "OsYkCpZ5oIY4"
   },
   "outputs": [
    {
     "name": "stdout",
     "output_type": "stream",
     "text": [
      "1\n",
      "2\n",
      "3\n",
      "4\n",
      "5\n",
      "6\n",
      "7\n",
      "8\n",
      "9\n",
      "10\n"
     ]
    }
   ],
   "source": [
    "for i in range(1, 11) :\n",
    "    print(i)\n",
    "    i += 1"
   ]
  },
  {
   "cell_type": "markdown",
   "metadata": {
    "id": "bAy7nmVNrbG2"
   },
   "source": [
    "# Q2. \n",
    "while 문을 이용하여 0에서 20까지 숫자를 출력해보세요."
   ]
  },
  {
   "cell_type": "code",
   "execution_count": 2,
   "metadata": {
    "id": "zdtoE85_rapB"
   },
   "outputs": [
    {
     "name": "stdout",
     "output_type": "stream",
     "text": [
      "0\n",
      "1\n",
      "2\n",
      "3\n",
      "4\n",
      "5\n",
      "6\n",
      "7\n",
      "8\n",
      "9\n",
      "10\n",
      "11\n",
      "12\n",
      "13\n",
      "14\n",
      "15\n",
      "16\n",
      "17\n",
      "18\n",
      "19\n",
      "20\n"
     ]
    }
   ],
   "source": [
    "num = 0\n",
    "\n",
    "while num < 21 :\n",
    "    print(num)\n",
    "    num += 1"
   ]
  },
  {
   "cell_type": "markdown",
   "metadata": {
    "id": "BglUvnK0qQ6V"
   },
   "source": [
    "# Q3. \n",
    "`While` 을 사용해서 아래와 같은 모양을 만들어 보세요. \n",
    "\n",
    "```\n",
    "**********\n",
    "*********\n",
    "********\n",
    "*******\n",
    "******\n",
    "*****\n",
    "****\n",
    "***\n",
    "**\n",
    "*\n",
    "```\n"
   ]
  },
  {
   "cell_type": "markdown",
   "metadata": {
    "id": "FzdAXBA-8e1c"
   },
   "source": [
    "💡참고 \n",
    "\n",
    "```python\n",
    ">>> print(\"*\" * 2)\n",
    "**\n",
    "```"
   ]
  },
  {
   "cell_type": "code",
   "execution_count": 4,
   "metadata": {
    "id": "gFt6lJNooxJ6"
   },
   "outputs": [
    {
     "name": "stdout",
     "output_type": "stream",
     "text": [
      "**********\n",
      "*********\n",
      "********\n",
      "*******\n",
      "******\n",
      "*****\n",
      "****\n",
      "***\n",
      "**\n",
      "*\n"
     ]
    }
   ],
   "source": [
    "i = 10\n",
    "\n",
    "while i > 0 :\n",
    "    print('*' * i)\n",
    "    i -= 1"
   ]
  },
  {
   "cell_type": "markdown",
   "metadata": {
    "id": "m4ocq6lZw9xF"
   },
   "source": [
    "# Q4. \n",
    "실수 x 값을 입력 받고, 입력 받은 숫자가 음수인지, 양수인지, 또는 0인지 확인하는 코드를 작성하세요.\n"
   ]
  },
  {
   "cell_type": "markdown",
   "metadata": {
    "id": "K25AWTpSKlIR"
   },
   "source": [
    "💡참고\n",
    "\n",
    "```python\n",
    ">>> x = input('숫자를 입력해주세요: ')\n",
    "숫자를 입력해주세요: 10\n",
    "\n",
    ">>> print(type(x))\n",
    "<class 'str'>\n",
    "```"
   ]
  },
  {
   "cell_type": "code",
   "execution_count": 5,
   "metadata": {
    "id": "BwcOWDYtxH4W"
   },
   "outputs": [
    {
     "name": "stdout",
     "output_type": "stream",
     "text": [
      "숫자를 입력해주세요: 13\n",
      "양수\n"
     ]
    }
   ],
   "source": [
    "x = input('숫자를 입력해주세요: ')\n",
    "\n",
    "if int(x) == 0 :\n",
    "    print('0')\n",
    "elif int(x) > 0 :\n",
    "    print('양수')\n",
    "else : \n",
    "    print('음수')"
   ]
  },
  {
   "cell_type": "code",
   "execution_count": 6,
   "metadata": {},
   "outputs": [
    {
     "name": "stdout",
     "output_type": "stream",
     "text": [
      "숫자를 입력해주세요: 0\n",
      "0\n"
     ]
    }
   ],
   "source": [
    "x = input('숫자를 입력해주세요: ')\n",
    "\n",
    "if int(x) == 0 :\n",
    "    print('0')\n",
    "elif int(x) > 0 :\n",
    "    print('양수')\n",
    "else : \n",
    "    print('음수')"
   ]
  },
  {
   "cell_type": "code",
   "execution_count": 7,
   "metadata": {},
   "outputs": [
    {
     "name": "stdout",
     "output_type": "stream",
     "text": [
      "숫자를 입력해주세요: -4\n",
      "음수\n"
     ]
    }
   ],
   "source": [
    "x = input('숫자를 입력해주세요: ')\n",
    "\n",
    "if int(x) == 0 :\n",
    "    print('0')\n",
    "elif int(x) > 0 :\n",
    "    print('양수')\n",
    "else : \n",
    "    print('음수')"
   ]
  },
  {
   "cell_type": "markdown",
   "metadata": {
    "id": "rLR3eFzzAuno"
   },
   "source": [
    "# Q5. \n",
    "\n",
    "for 문을 이용해 `my_list`의 평균을 구하세요. \n",
    "\n",
    "💡 `sum()`, `len()` 사용 금지"
   ]
  },
  {
   "cell_type": "code",
   "execution_count": 8,
   "metadata": {
    "id": "Ls4lwZaqAEsV"
   },
   "outputs": [],
   "source": [
    "my_list = [10, 25, 78, 456]"
   ]
  },
  {
   "cell_type": "code",
   "execution_count": 9,
   "metadata": {
    "id": "aQlY5WSGKNlA"
   },
   "outputs": [
    {
     "name": "stdout",
     "output_type": "stream",
     "text": [
      "my_list의 평균은 142.25입니다\n"
     ]
    }
   ],
   "source": [
    "list_sum = 0\n",
    "list_count = 0\n",
    "\n",
    "for i in my_list :\n",
    "    list_sum += i\n",
    "    list_count += 1\n",
    "    \n",
    "print(f'my_list의 평균은 {list_sum/list_count}입니다')\n",
    "    "
   ]
  },
  {
   "cell_type": "markdown",
   "metadata": {
    "id": "bson6MMsYXDt"
   },
   "source": [
    "# Q6. \n",
    "`if` 문을 활용해서 윤년 판별기를 만들어주세요.\n",
    "\n",
    "1. 연수가 4로 나누어 떨어지는 해는 윤년으로한다. (ex. 2004년)\n",
    "2. 연수가 100으로 나누어 떨어지는 해는 평년으로 한다. (ex. 1900년)\n",
    "3. 연수가 400으로 나누어 떨어지는 해는 윤년이다. (ex. 2000년)\n",
    "4. 이외에는 평년으로 한다."
   ]
  },
  {
   "cell_type": "markdown",
   "metadata": {
    "id": "eynxkXChKnj5"
   },
   "source": [
    "💡참고\n",
    "\n",
    "```python\n",
    ">>> x = input('숫자를 입력해주세요: ')\n",
    "숫자를 입력해주세요: 10\n",
    "\n",
    ">>> print(type(x))\n",
    "<class 'str'>\n",
    "```"
   ]
  },
  {
   "cell_type": "code",
   "execution_count": 10,
   "metadata": {
    "id": "04JoPdZzHvxO"
   },
   "outputs": [
    {
     "name": "stdout",
     "output_type": "stream",
     "text": [
      "숫자를 입력해주세요: 2004\n",
      "윤년입니다\n"
     ]
    }
   ],
   "source": [
    "x = input('숫자를 입력해주세요: ')\n",
    "\n",
    "if int(x) % 400 == 0 :\n",
    "    print('윤년입니다')\n",
    "elif int(x) % 100 == 0 :\n",
    "    print('평년입니다')\n",
    "elif int(x) % 4 == 0 :\n",
    "    print('윤년입니다')\n",
    "else :\n",
    "    print('평년입니다')"
   ]
  },
  {
   "cell_type": "code",
   "execution_count": 11,
   "metadata": {},
   "outputs": [
    {
     "name": "stdout",
     "output_type": "stream",
     "text": [
      "숫자를 입력해주세요: 1900\n",
      "평년입니다\n"
     ]
    }
   ],
   "source": [
    "x = input('숫자를 입력해주세요: ')\n",
    "\n",
    "if int(x) % 400 == 0 :\n",
    "    print('윤년입니다')\n",
    "elif int(x) % 100 == 0 :\n",
    "    print('평년입니다')\n",
    "elif int(x) % 4 == 0 :\n",
    "    print('윤년입니다')\n",
    "else :\n",
    "    print('평년입니다')"
   ]
  },
  {
   "cell_type": "code",
   "execution_count": 12,
   "metadata": {},
   "outputs": [
    {
     "name": "stdout",
     "output_type": "stream",
     "text": [
      "숫자를 입력해주세요: 2000\n",
      "윤년입니다\n"
     ]
    }
   ],
   "source": [
    "x = input('숫자를 입력해주세요: ')\n",
    "\n",
    "if int(x) % 400 == 0 :\n",
    "    print('윤년입니다')\n",
    "elif int(x) % 100 == 0 :\n",
    "    print('평년입니다')\n",
    "elif int(x) % 4 == 0 :\n",
    "    print('윤년입니다')\n",
    "else :\n",
    "    print('평년입니다')"
   ]
  },
  {
   "cell_type": "markdown",
   "metadata": {},
   "source": [
    "### 정답"
   ]
  },
  {
   "cell_type": "code",
   "execution_count": 13,
   "metadata": {},
   "outputs": [
    {
     "name": "stdout",
     "output_type": "stream",
     "text": [
      "숫자를 입력해주세요: 2000\n",
      "윤년입니다\n"
     ]
    }
   ],
   "source": [
    "x = int(input('숫자를 입력해주세요: '))\n",
    "\n",
    "if x % 4 == 0 :\n",
    "    if x % 100 == 0 :\n",
    "        if x % 400 == 0 :\n",
    "            print('윤년입니다')\n",
    "        else :\n",
    "            print('평년입니다')\n",
    "    else :\n",
    "        print('윤년입니다')\n",
    "else :\n",
    "    print('평년입니다')"
   ]
  },
  {
   "cell_type": "markdown",
   "metadata": {
    "id": "nt80-lSv0gx-"
   },
   "source": [
    "# Q7. \n",
    "누군가 당신의 체육관에 결투 신청을 했습니다. 포켓몬의 체력이 100 이상 일 경우에만 다른 포켓몬과 결투를 할 수 있습니다. \n",
    "\n",
    "당신의 포켓몬 중 결투에 내보낼 수 있는 포켓몬은 누구인가요? `for` 문과 `if` 을 사용해서 출력해주세요."
   ]
  },
  {
   "cell_type": "code",
   "execution_count": 14,
   "metadata": {
    "id": "SpwgUlz-NqHd"
   },
   "outputs": [],
   "source": [
    "my_pokemon_hp = {\n",
    "    '피카츄': 100,\n",
    "    '꼬북이': 90,\n",
    "    '파이리': 80,\n",
    "    '이상해씨': 140\n",
    "}"
   ]
  },
  {
   "cell_type": "code",
   "execution_count": 15,
   "metadata": {
    "id": "CePmqz4X0cZU"
   },
   "outputs": [
    {
     "name": "stdout",
     "output_type": "stream",
     "text": [
      "피카츄\n",
      "이상해씨\n"
     ]
    }
   ],
   "source": [
    "for pokemon, hp in my_pokemon_hp.items() :\n",
    "    if hp >= 100 :\n",
    "        print(pokemon)"
   ]
  },
  {
   "cell_type": "markdown",
   "metadata": {
    "id": "tRE601CB_OpS"
   },
   "source": [
    "# Q8. \n",
    "상대방 포켓몬과 결투를 하게 되었습니다. \n",
    "\n",
    "* 내 포켓몬 수가 상대방 포켓몬 수 보다 많으면, 체력이 100이상인 포켓몬을 내보내고\n",
    "* 내 포켓몬의 수가 상대방 포켓몬 수와 비교해 같거나 적으면 도망치고 싶습니다.\n",
    "\n",
    "내 포켓몬 정보는 `my_pokemon_hp`에 있고, 상대방 포켓몬의 정보는 `opponent_pokemon` 에 있습니다.\n",
    "\n",
    "도망쳐야 할까요? 싸워야 할까요? 싸운다면 어떤 포켓몬을 내보낼까요?"
   ]
  },
  {
   "cell_type": "code",
   "execution_count": 16,
   "metadata": {
    "id": "rxt9R7d3_RaD"
   },
   "outputs": [],
   "source": [
    "my_pokemon_hp = {\n",
    "    '피카츄': 100,\n",
    "    '꼬북이': 90,\n",
    "    '파이리': 80,\n",
    "    '이상해씨': 140\n",
    "}\n",
    "\n",
    "your_pokemon = ['냐옹이', '마자용']"
   ]
  },
  {
   "cell_type": "code",
   "execution_count": 20,
   "metadata": {
    "id": "5ARB_pLOLktf"
   },
   "outputs": [
    {
     "name": "stdout",
     "output_type": "stream",
     "text": [
      "가라! 피카츄\n",
      "가라! 이상해씨\n"
     ]
    }
   ],
   "source": [
    "if len(my_pokemon_hp) > len(your_pokemon) :\n",
    "    for pokemon, hp in my_pokemon_hp.items() :\n",
    "        if hp >= 100 :\n",
    "            print(f'가라! {pokemon}')\n",
    "else :\n",
    "    print('도망쳐!')"
   ]
  },
  {
   "cell_type": "markdown",
   "metadata": {
    "id": "e2x-vnOJ2X5g"
   },
   "source": [
    "# Q9.\n",
    "\n",
    "사용자가 입력한 2 ~ 9 사이의 정수를 입력받아 해당 정수의 구구단을 출력하세요. `if` 문과 `for` 문을 사용하세요. \n",
    "\n",
    "만약 입력받은 값이 2~9 사이의 숫자가 아닐 경우 '잘못 입력하셨습니다.'를 대신 출력합니다."
   ]
  },
  {
   "cell_type": "markdown",
   "metadata": {
    "id": "-q2G_9OYN3wQ"
   },
   "source": [
    "💡참고 1\n",
    "\n",
    "```python\n",
    ">>> x = input('숫자를 입력해주세요: ')\n",
    "숫자를 입력해주세요: 10\n",
    "\n",
    ">>> print(type(x))\n",
    "<class 'str'>\n",
    "```\n",
    "\n",
    "💡참고 2\n",
    "\n",
    "```python\n",
    ">>> print(1, '=', 1)\n",
    "1 = 1\n",
    "```"
   ]
  },
  {
   "cell_type": "code",
   "execution_count": 22,
   "metadata": {
    "id": "vi7EMEQE265n"
   },
   "outputs": [
    {
     "name": "stdout",
     "output_type": "stream",
     "text": [
      "숫자를 입력하세요 : 13\n",
      "잘못 입력하셨습니다\n"
     ]
    }
   ],
   "source": [
    "x = int(input('숫자를 입력하세요 : '))\n",
    "\n",
    "for i in range(1, 10) :\n",
    "    if x >= 2 and x <= 9 :\n",
    "        print(x, '*', i, '=', x*i)\n",
    "    else :\n",
    "        print('잘못 입력하셨습니다')\n",
    "        break"
   ]
  },
  {
   "cell_type": "code",
   "execution_count": 24,
   "metadata": {},
   "outputs": [
    {
     "name": "stdout",
     "output_type": "stream",
     "text": [
      "숫자를 입력하세요 : 9\n",
      "9 * 1 = 9\n",
      "9 * 2 = 18\n",
      "9 * 3 = 27\n",
      "9 * 4 = 36\n",
      "9 * 5 = 45\n",
      "9 * 6 = 54\n",
      "9 * 7 = 63\n",
      "9 * 8 = 72\n",
      "9 * 9 = 81\n"
     ]
    }
   ],
   "source": [
    "x = int(input('숫자를 입력하세요 : '))\n",
    "\n",
    "for i in range(1, 10) :\n",
    "    if x >= 2 and x <= 9 :\n",
    "        print(x, '*', i, '=', x*i)\n",
    "    else :\n",
    "        print('잘못 입력하셨습니다')\n",
    "        break"
   ]
  },
  {
   "cell_type": "markdown",
   "metadata": {
    "id": "BJji8kZJy8DU"
   },
   "source": [
    "# Q10. \n",
    "`while` 문을 작성하여 0~50 사이의 숫자 중 7로 끝나는 숫자만 출력하게 만드세요."
   ]
  },
  {
   "cell_type": "markdown",
   "metadata": {
    "id": "W7QCzBRirQFz"
   },
   "source": [
    "💡참고\n",
    "\n",
    "```python\n",
    ">>> i = 19\n",
    ">>> print(i % 10)\n",
    "9\n",
    "\n",
    ">>> i = 27\n",
    ">>> print(i % 10)\n",
    "7\n",
    "```"
   ]
  },
  {
   "cell_type": "code",
   "execution_count": 31,
   "metadata": {
    "id": "szSAHUKuyzz4"
   },
   "outputs": [
    {
     "name": "stdout",
     "output_type": "stream",
     "text": [
      "7\n",
      "17\n",
      "27\n",
      "37\n",
      "47\n"
     ]
    }
   ],
   "source": [
    "i = 0\n",
    "\n",
    "while True :\n",
    "    if i > 50 :\n",
    "        break\n",
    "    elif i % 10 == 7 :\n",
    "        print(i)\n",
    "    i += 1"
   ]
  }
 ],
 "metadata": {
  "colab": {
   "collapsed_sections": [],
   "name": "Section 4. 제어문 - 연습문제",
   "provenance": []
  },
  "kernelspec": {
   "display_name": "Python 3 (ipykernel)",
   "language": "python",
   "name": "python3"
  },
  "language_info": {
   "codemirror_mode": {
    "name": "ipython",
    "version": 3
   },
   "file_extension": ".py",
   "mimetype": "text/x-python",
   "name": "python",
   "nbconvert_exporter": "python",
   "pygments_lexer": "ipython3",
   "version": "3.9.7"
  }
 },
 "nbformat": 4,
 "nbformat_minor": 1
}
