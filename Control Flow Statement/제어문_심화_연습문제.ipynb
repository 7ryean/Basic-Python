{
 "cells": [
  {
   "cell_type": "markdown",
   "metadata": {
    "id": "O2i3eO4GCRN5"
   },
   "source": [
    "# Q1.\n",
    "\n",
    "리스트 컴프리헨션을 이용해서 1~10까지의  홀수를 구하세요."
   ]
  },
  {
   "cell_type": "markdown",
   "metadata": {
    "id": "he-5XeQVyIBo"
   },
   "source": [
    "💡참고 \n",
    "\n",
    "```python\n",
    ">>> sample = [i for i in range(1, 9) if i % 2 == 0]\n",
    ">>> print(sample)\n",
    "\n",
    "[2, 4, 6, 8, 10]\n",
    "```"
   ]
  },
  {
   "cell_type": "code",
   "execution_count": 3,
   "metadata": {
    "id": "OQnxnEPvCdF_"
   },
   "outputs": [
    {
     "data": {
      "text/plain": [
       "[1, 3, 5, 7, 9]"
      ]
     },
     "execution_count": 3,
     "metadata": {},
     "output_type": "execute_result"
    }
   ],
   "source": [
    "odd_number = [i for i in range(1, 11) if i % 2 == 1]\n",
    "\n",
    "odd_number"
   ]
  },
  {
   "cell_type": "markdown",
   "metadata": {
    "id": "h46zBw7X7cxc"
   },
   "source": [
    "\n",
    "# Q2. \n",
    "\n",
    "`enumerate` 내장 함수를 사용해서 my_pokemon 리스트의 인덱스와 원소를 출력하세요."
   ]
  },
  {
   "cell_type": "markdown",
   "metadata": {
    "id": "Ck8aoNLG4oIq"
   },
   "source": [
    "💡참고\n",
    "\n",
    "```python\n",
    ">>> number = [10, 20, 30]\n",
    ">>> for i, number in enumerate(number):\n",
    ">>> print(i, number)\n",
    "\n",
    "0 10\n",
    "1 20\n",
    "2 30\n",
    "```"
   ]
  },
  {
   "cell_type": "code",
   "execution_count": 6,
   "metadata": {
    "id": "B781MyUc3-JM"
   },
   "outputs": [],
   "source": [
    "my_pokemon = ['피카츄', '꼬북이', '파이리', '이상해씨']"
   ]
  },
  {
   "cell_type": "code",
   "execution_count": 7,
   "metadata": {
    "id": "6lT_8RmG7JGh"
   },
   "outputs": [
    {
     "name": "stdout",
     "output_type": "stream",
     "text": [
      "0 피카츄\n",
      "1 꼬북이\n",
      "2 파이리\n",
      "3 이상해씨\n"
     ]
    }
   ],
   "source": [
    "for idx, pokemon in enumerate(my_pokemon) :\n",
    "    print(idx, pokemon)"
   ]
  },
  {
   "cell_type": "markdown",
   "metadata": {
    "id": "Dk6SwoVdCjbC"
   },
   "source": [
    "# Q3. \n",
    "\n",
    "\n",
    "\n",
    "`zip` 함수를 이용하여 fruit 리스트와 color 리스트를 묶고, 아래와 같은 **리스트**를 만들어주세요.\n",
    "\n",
    "```python\n",
    "[('apple', 'red'), ('banana', 'yellow'), ('orange', 'orange')]\n",
    "```"
   ]
  },
  {
   "cell_type": "markdown",
   "metadata": {
    "id": "chLse0CY4Ny4"
   },
   "source": [
    "💡참고\n",
    "\n",
    "```python\n",
    ">>> pokemon = ['피카츄', '꼬북이']\n",
    ">>> hp = [100, 105]\n",
    ">>> pokemon_hp = list(zip(pokemon, hp))\n",
    ">>> print(pokemon_hp)\n",
    "\n",
    "[('피카츄', 100), ('꼬북이', 105)]\n",
    "```"
   ]
  },
  {
   "cell_type": "code",
   "execution_count": 8,
   "metadata": {
    "id": "TQPujze04OQd"
   },
   "outputs": [],
   "source": [
    "fruit = ['apple', 'banana', 'orange']\n",
    "color = ['red', 'yello', 'orange']"
   ]
  },
  {
   "cell_type": "code",
   "execution_count": 9,
   "metadata": {
    "id": "ogHb9jIdDuMk"
   },
   "outputs": [
    {
     "data": {
      "text/plain": [
       "[('apple', 'red'), ('banana', 'yello'), ('orange', 'orange')]"
      ]
     },
     "execution_count": 9,
     "metadata": {},
     "output_type": "execute_result"
    }
   ],
   "source": [
    "fruit_color = list(zip(fruit, color))\n",
    "\n",
    "fruit_color"
   ]
  },
  {
   "cell_type": "markdown",
   "metadata": {
    "id": "mU9YYVCuwJHQ"
   },
   "source": [
    "# Q4. \n",
    "\n",
    "`zip` 함수를 이용하여 fruit 리스트와 color 리스트를 묶고, dict 컴프리헨션을 이용하여 아래와 같은 **딕셔너리**를 만들어주세요.\n",
    "\n",
    "```python\n",
    "{'apple': 'red', 'banana': 'yello', 'orange': 'orange'}\n",
    "```"
   ]
  },
  {
   "cell_type": "markdown",
   "metadata": {
    "id": "6uP0Fb-_XWDh"
   },
   "source": [
    "💡참고\n",
    "\n",
    "```python\n",
    ">>> pokemon = ['피카츄', '꼬북이']\n",
    ">>> hp = [100, 105]\n",
    ">>> pokemon_hp = {k:v for k, v in zip(pokemon, hp)}\n",
    ">>> print(pokemon_hp)\n",
    "\n",
    "{'피카츄': 100, '꼬북이': 105}\n",
    "```"
   ]
  },
  {
   "cell_type": "code",
   "execution_count": 10,
   "metadata": {
    "id": "T3z5GYVJwVZZ"
   },
   "outputs": [],
   "source": [
    "fruit = ['apple', 'banana', 'orange']\n",
    "color = ['red', 'yello', 'orange',]"
   ]
  },
  {
   "cell_type": "code",
   "execution_count": 11,
   "metadata": {
    "id": "35j8Tp5WwXlt"
   },
   "outputs": [
    {
     "data": {
      "text/plain": [
       "{'apple': 'red', 'banana': 'yello', 'orange': 'orange'}"
      ]
     },
     "execution_count": 11,
     "metadata": {},
     "output_type": "execute_result"
    }
   ],
   "source": [
    "fruit_color_dict = {}\n",
    "\n",
    "for f, c in zip(fruit, color) :\n",
    "    fruit_color_dict[f] = c\n",
    "\n",
    "fruit_color_dict"
   ]
  },
  {
   "cell_type": "code",
   "execution_count": 14,
   "metadata": {},
   "outputs": [
    {
     "data": {
      "text/plain": [
       "{'apple': 'red', 'banana': 'yello', 'orange': 'orange'}"
      ]
     },
     "execution_count": 14,
     "metadata": {},
     "output_type": "execute_result"
    }
   ],
   "source": [
    "fruit_color_dict = {f : c for f, c in zip(fruit, color)}\n",
    "\n",
    "fruit_color_dict"
   ]
  },
  {
   "cell_type": "markdown",
   "metadata": {
    "id": "dpbZQykZX2-f"
   },
   "source": [
    "# Q5. \n",
    "\n",
    "`dict 컴프리헨션`을 이용하여 아래와 같이 key, vaule 값을 바꿔 **딕셔너리**를 출력하세요.\n",
    "\n",
    "```python\n",
    "{'red': 'apple', : 'yello' : 'banana', 'orange': 'orange'}\n",
    "```"
   ]
  },
  {
   "cell_type": "markdown",
   "metadata": {
    "id": "7FAW9J5eZEhv"
   },
   "source": [
    "💡참고\n",
    "\n",
    "```python\n",
    ">>> pokemon = ['피카츄', '꼬북이']\n",
    ">>> hp = [100, 105]\n",
    ">>> vaule_change = {h: n for n, h in zip(pokemon, hp)}\n",
    ">>> print(vaule_change)\n",
    "\n",
    "{100: '피카츄', 105: '꼬북이'}\n",
    "```"
   ]
  },
  {
   "cell_type": "code",
   "execution_count": 12,
   "metadata": {
    "id": "bicAfzRRY-PQ"
   },
   "outputs": [],
   "source": [
    "fruit = ['apple', 'banana', 'orange']\n",
    "color = ['red', 'yello', 'orange']"
   ]
  },
  {
   "cell_type": "code",
   "execution_count": 13,
   "metadata": {
    "id": "xXX4VSXdZAgo"
   },
   "outputs": [
    {
     "data": {
      "text/plain": [
       "{'red': 'apple', 'yello': 'banana', 'orange': 'orange'}"
      ]
     },
     "execution_count": 13,
     "metadata": {},
     "output_type": "execute_result"
    }
   ],
   "source": [
    "color_fruit_dict = {c : f for c, f in zip(color, fruit)}\n",
    "\n",
    "color_fruit_dict"
   ]
  },
  {
   "cell_type": "markdown",
   "metadata": {
    "id": "3pSbCQ5VjJvO"
   },
   "source": [
    "# Q6. \n",
    "\n",
    "`dict 컴프리헨션`을 이용하여 아래와 같이 key, vaule 값을 바꿔 **딕셔너리**를 출력하세요.\n",
    "\n",
    "```python\n",
    "{'red': 'apple', : 'yello' : 'banana', 'orange': 'orange'}\n",
    "```"
   ]
  },
  {
   "cell_type": "markdown",
   "metadata": {
    "id": "3FHJZATQilh2"
   },
   "source": [
    "💡참고\n",
    "\n",
    "```python\n",
    ">>> pokemon = {'피카츄': 100, '꼬북이': 105}\n",
    ">>> vaule_change = {h: n for n, h in pokemon.items()}\n",
    ">>> print(vaule_change)\n",
    "\n",
    "{100: '피카츄', 105: '꼬북이'}\n",
    "```"
   ]
  },
  {
   "cell_type": "code",
   "execution_count": 15,
   "metadata": {
    "id": "9ckFA-LhjRgq"
   },
   "outputs": [],
   "source": [
    "fruit_color = {'apple': 'red', 'banana': 'yello', 'orange': 'orange'}"
   ]
  },
  {
   "cell_type": "code",
   "execution_count": 16,
   "metadata": {
    "id": "Fj7dngrwjRnP"
   },
   "outputs": [
    {
     "data": {
      "text/plain": [
       "{'red': 'apple', 'yello': 'banana', 'orange': 'orange'}"
      ]
     },
     "execution_count": 16,
     "metadata": {},
     "output_type": "execute_result"
    }
   ],
   "source": [
    "color_fruit = {c : f for f, c in fruit_color.items()}\n",
    "\n",
    "color_fruit"
   ]
  },
  {
   "cell_type": "markdown",
   "metadata": {
    "id": "2WY6fsr0P6pi"
   },
   "source": [
    "# Q7\n",
    "\n",
    "\n",
    "`try`와 `except`을 이용하여 `1/0` 코드를 실행했을 때 발생하는 오류 메시지를 출력해주세요.\n",
    "\n",
    "💡참고\n",
    "```python\n",
    ">>> try:\n",
    ">>>     '1' + 0\n",
    ">>> except TypeError as e:\n",
    ">>>     print(f'에러메시지: {e}')\n",
    "\n",
    "에러메시지: can only concatenate str (not \"int\") to str\n",
    "```\n"
   ]
  },
  {
   "cell_type": "code",
   "execution_count": 17,
   "metadata": {
    "id": "6npVh_G2OwcZ"
   },
   "outputs": [
    {
     "name": "stdout",
     "output_type": "stream",
     "text": [
      "에러메시지 : division by zero\n"
     ]
    }
   ],
   "source": [
    "try :\n",
    "    1 / 0\n",
    "except Exception as err :\n",
    "    print(f'에러메시지 : {err}')"
   ]
  }
 ],
 "metadata": {
  "colab": {
   "collapsed_sections": [],
   "name": "Section 5. 제어문 [심화] - 연습문제",
   "provenance": []
  },
  "kernelspec": {
   "display_name": "Python 3 (ipykernel)",
   "language": "python",
   "name": "python3"
  },
  "language_info": {
   "codemirror_mode": {
    "name": "ipython",
    "version": 3
   },
   "file_extension": ".py",
   "mimetype": "text/x-python",
   "name": "python",
   "nbconvert_exporter": "python",
   "pygments_lexer": "ipython3",
   "version": "3.9.7"
  }
 },
 "nbformat": 4,
 "nbformat_minor": 1
}
