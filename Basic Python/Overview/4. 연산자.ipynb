{
 "cells": [
  {
   "cell_type": "markdown",
   "id": "232fa8ac",
   "metadata": {},
   "source": [
    "# 연산자\n",
    "\n",
    "1. 산술연산자\n",
    "2. 할당 연산자 / 복합 할당 연산자\n",
    "3. 비교 연산자\n",
    "4. 논리 연산자\n",
    "5. 구성원(소속) 연산자"
   ]
  },
  {
   "cell_type": "markdown",
   "id": "2ce661c9",
   "metadata": {},
   "source": [
    "## 산술 연산자 - Arithmetic Operators\n",
    "\n",
    "- ```+``` : 더하기\n",
    "- ```-``` : 빼기\n",
    "- ```*``` : 곱하기\n",
    "- ```/``` : 나누기\n",
    "- ```//``` : 정수 몫\n",
    "- ```%``` : 나머지"
   ]
  },
  {
   "cell_type": "code",
   "execution_count": 1,
   "id": "e8f53389",
   "metadata": {},
   "outputs": [
    {
     "data": {
      "text/plain": [
       "3.3333333333333335"
      ]
     },
     "execution_count": 1,
     "metadata": {},
     "output_type": "execute_result"
    }
   ],
   "source": [
    "10 / 3"
   ]
  },
  {
   "cell_type": "code",
   "execution_count": 2,
   "id": "3e74107d",
   "metadata": {},
   "outputs": [
    {
     "data": {
      "text/plain": [
       "3"
      ]
     },
     "execution_count": 2,
     "metadata": {},
     "output_type": "execute_result"
    }
   ],
   "source": [
    "10 // 3"
   ]
  },
  {
   "cell_type": "code",
   "execution_count": 3,
   "id": "a8debce6",
   "metadata": {},
   "outputs": [
    {
     "data": {
      "text/plain": [
       "1"
      ]
     },
     "execution_count": 3,
     "metadata": {},
     "output_type": "execute_result"
    }
   ],
   "source": [
    "10 % 3"
   ]
  },
  {
   "cell_type": "markdown",
   "id": "441006b3",
   "metadata": {},
   "source": [
    "## 할당 연산자/ 복합 할당 연산자 - Assignment Operators\n",
    "\n",
    "할당 연산자 : 변수에 값을 대입할 때 사용\n",
    "```\n",
    "변수명 = 값\n",
    "```\n",
    "\n",
    "복합 할당 연산자 : 연산과 할당을 합친 연산자. 좌변에 있는 것과 우변에 있는 것을 같이 연산 후 연산된 값을 왼쪽 변수에 할당\n",
    "```\n",
    "+=\n",
    "-=\n",
    "*=\n",
    "/=\n",
    "%=\n",
    "**=\n",
    "//=\n",
    "```"
   ]
  },
  {
   "cell_type": "code",
   "execution_count": 4,
   "id": "d5d9a2e8",
   "metadata": {},
   "outputs": [
    {
     "data": {
      "text/plain": [
       "3"
      ]
     },
     "execution_count": 4,
     "metadata": {},
     "output_type": "execute_result"
    }
   ],
   "source": [
    "a = 1\n",
    "b = 2\n",
    "\n",
    "a = a + b\n",
    "a"
   ]
  },
  {
   "cell_type": "code",
   "execution_count": 5,
   "id": "9c556ba1",
   "metadata": {},
   "outputs": [
    {
     "data": {
      "text/plain": [
       "3"
      ]
     },
     "execution_count": 5,
     "metadata": {},
     "output_type": "execute_result"
    }
   ],
   "source": [
    "a = 1\n",
    "b = 2\n",
    " \n",
    "a += b\n",
    "a"
   ]
  },
  {
   "cell_type": "markdown",
   "id": "d549a817",
   "metadata": {},
   "source": [
    "## 비교 연산자 - Comparison Operators\n",
    "\n",
    "두 값의 크기를 비교할 때 사용되는 연산자\n",
    "- ```>```\n",
    "- ```<```\n",
    "- ```>=```\n",
    "- ```<=```\n",
    "- ```==```\n",
    "- ```!=```\n",
    "\n",
    "값은 True or False, Boolean 형태로 반환된다. 할당 연산자의 ```=```과 비교 연산자의 ```==``` 연산이 다르기 때문에 주의해서 사용해야 한다."
   ]
  },
  {
   "cell_type": "code",
   "execution_count": 6,
   "id": "8bf78d22",
   "metadata": {},
   "outputs": [
    {
     "data": {
      "text/plain": [
       "True"
      ]
     },
     "execution_count": 6,
     "metadata": {},
     "output_type": "execute_result"
    }
   ],
   "source": [
    "2 > 1"
   ]
  },
  {
   "cell_type": "code",
   "execution_count": 7,
   "id": "76d06928",
   "metadata": {},
   "outputs": [
    {
     "data": {
      "text/plain": [
       "False"
      ]
     },
     "execution_count": 7,
     "metadata": {},
     "output_type": "execute_result"
    }
   ],
   "source": [
    "2 < 1"
   ]
  },
  {
   "cell_type": "code",
   "execution_count": 8,
   "id": "cb83d028",
   "metadata": {},
   "outputs": [
    {
     "data": {
      "text/plain": [
       "True"
      ]
     },
     "execution_count": 8,
     "metadata": {},
     "output_type": "execute_result"
    }
   ],
   "source": [
    "2 == 2"
   ]
  },
  {
   "cell_type": "code",
   "execution_count": 9,
   "id": "f489f29d",
   "metadata": {},
   "outputs": [
    {
     "data": {
      "text/plain": [
       "False"
      ]
     },
     "execution_count": 9,
     "metadata": {},
     "output_type": "execute_result"
    }
   ],
   "source": [
    "2 != 2"
   ]
  },
  {
   "cell_type": "markdown",
   "id": "e6cba0fc",
   "metadata": {},
   "source": [
    "## 논리 연산자 - Logical Operators\n",
    "\n",
    "```python\n",
    "and : 비교 대상이 모두 True일 때만 True 반환\n",
    "or : 비교 대상 중 하나만 True여도 True 반환\n",
    "not : 뒤집어주기\n",
    "```"
   ]
  },
  {
   "cell_type": "code",
   "execution_count": 10,
   "id": "5f7362aa",
   "metadata": {},
   "outputs": [
    {
     "data": {
      "text/plain": [
       "True"
      ]
     },
     "execution_count": 10,
     "metadata": {},
     "output_type": "execute_result"
    }
   ],
   "source": [
    "True and True"
   ]
  },
  {
   "cell_type": "code",
   "execution_count": 11,
   "id": "95f758f1",
   "metadata": {},
   "outputs": [
    {
     "data": {
      "text/plain": [
       "False"
      ]
     },
     "execution_count": 11,
     "metadata": {},
     "output_type": "execute_result"
    }
   ],
   "source": [
    "True and False"
   ]
  },
  {
   "cell_type": "code",
   "execution_count": 12,
   "id": "649d25ec",
   "metadata": {},
   "outputs": [
    {
     "data": {
      "text/plain": [
       "True"
      ]
     },
     "execution_count": 12,
     "metadata": {},
     "output_type": "execute_result"
    }
   ],
   "source": [
    "True or False"
   ]
  },
  {
   "cell_type": "code",
   "execution_count": 13,
   "id": "c032e13a",
   "metadata": {},
   "outputs": [
    {
     "data": {
      "text/plain": [
       "False"
      ]
     },
     "execution_count": 13,
     "metadata": {},
     "output_type": "execute_result"
    }
   ],
   "source": [
    "not True"
   ]
  },
  {
   "cell_type": "code",
   "execution_count": 15,
   "id": "b6e73ad8",
   "metadata": {},
   "outputs": [
    {
     "name": "stdout",
     "output_type": "stream",
     "text": [
      "True True\n"
     ]
    }
   ],
   "source": [
    "a = 2 > 1\n",
    "b = 3 >= 1\n",
    "print(a, b)"
   ]
  },
  {
   "cell_type": "code",
   "execution_count": 16,
   "id": "e4cc873d",
   "metadata": {},
   "outputs": [
    {
     "data": {
      "text/plain": [
       "True"
      ]
     },
     "execution_count": 16,
     "metadata": {},
     "output_type": "execute_result"
    }
   ],
   "source": [
    "a and b"
   ]
  },
  {
   "cell_type": "markdown",
   "id": "1f37e26e",
   "metadata": {},
   "source": [
    "## 구성원(소속) 연산자 - Membership Operators\n",
    "\n",
    "특정 자료가 해당 컬렉션에 속하는지 혹은 속하지 않는지 판별하는 연산자이다.\n",
    "\n",
    "- in : 해당 컬렉션에 속한다\n",
    "- not in : 해당 컬렉션에 속하지 않는다"
   ]
  },
  {
   "cell_type": "code",
   "execution_count": 17,
   "id": "cc6883a7",
   "metadata": {},
   "outputs": [
    {
     "data": {
      "text/plain": [
       "['volvo', 'kia']"
      ]
     },
     "execution_count": 17,
     "metadata": {},
     "output_type": "execute_result"
    }
   ],
   "source": [
    "car_brands = ['volvo', 'kia']\n",
    "car_brands"
   ]
  },
  {
   "cell_type": "code",
   "execution_count": 18,
   "id": "d9a8b6e4",
   "metadata": {},
   "outputs": [
    {
     "data": {
      "text/plain": [
       "True"
      ]
     },
     "execution_count": 18,
     "metadata": {},
     "output_type": "execute_result"
    }
   ],
   "source": [
    "'volvo' in car_brands"
   ]
  },
  {
   "cell_type": "code",
   "execution_count": 19,
   "id": "24daeed5",
   "metadata": {},
   "outputs": [
    {
     "data": {
      "text/plain": [
       "False"
      ]
     },
     "execution_count": 19,
     "metadata": {},
     "output_type": "execute_result"
    }
   ],
   "source": [
    "'hyundae' in car_brands"
   ]
  },
  {
   "cell_type": "code",
   "execution_count": 20,
   "id": "5344ca9e",
   "metadata": {},
   "outputs": [
    {
     "data": {
      "text/plain": [
       "True"
      ]
     },
     "execution_count": 20,
     "metadata": {},
     "output_type": "execute_result"
    }
   ],
   "source": [
    "'hyundae' not in car_brands"
   ]
  },
  {
   "cell_type": "markdown",
   "id": "a3852af3",
   "metadata": {},
   "source": [
    "#### 참고자료\n",
    "\n",
    "- [회오리 파이썬 연산자](https://tensorflow.blog/%ed%9a%8c%ec%98%a4%eb%a6%ac%eb%b0%94%eb%9e%8c%ec%9d%84-%ed%83%84-%ed%8c%8c%ec%9d%b4%ec%8d%ac/%ed%8c%8c%ec%9d%b4%ec%8d%ac-%ec%97%b0%ec%82%b0%ec%9e%90/)\n",
    "- [w3school Python Operators](https://www.w3schools.com/python/python_operators.asp)"
   ]
  }
 ],
 "metadata": {
  "kernelspec": {
   "display_name": "Python 3 (ipykernel)",
   "language": "python",
   "name": "python3"
  },
  "language_info": {
   "codemirror_mode": {
    "name": "ipython",
    "version": 3
   },
   "file_extension": ".py",
   "mimetype": "text/x-python",
   "name": "python",
   "nbconvert_exporter": "python",
   "pygments_lexer": "ipython3",
   "version": "3.9.7"
  }
 },
 "nbformat": 4,
 "nbformat_minor": 5
}
