{
 "cells": [
  {
   "cell_type": "markdown",
   "id": "ba8c954a",
   "metadata": {},
   "source": [
    "# 리스트 List\n",
    "\n",
    "리스트는 원소를 ```[ ]``` 대괄호로 감싸서 나타냄</br>\n",
    "**순서**가 있고, 가지고 있는 **원소를 수정**할 수 있음"
   ]
  },
  {
   "cell_type": "markdown",
   "id": "57b42265",
   "metadata": {},
   "source": [
    "## 리스트 만들기\n",
    "\n",
    "리스트를 만들 때는 대괄호 ```[ ]``` 안에 콤마 ```,```로 구분된 여러 값들로 나타냄 </br>\n",
    "아래 예시 ```attribute```는 문자열로 이루어진 리스트"
   ]
  },
  {
   "cell_type": "code",
   "execution_count": 1,
   "id": "7e2513ce",
   "metadata": {},
   "outputs": [
    {
     "data": {
      "text/plain": [
       "['풀', '독', '불꽃', '벌레', '강철']"
      ]
     },
     "execution_count": 1,
     "metadata": {},
     "output_type": "execute_result"
    }
   ],
   "source": [
    "attribute = ['풀', '독', '불꽃', '벌레', '강철']\n",
    "attribute"
   ]
  },
  {
   "cell_type": "markdown",
   "id": "a383f0e5",
   "metadata": {},
   "source": [
    "리스트에는 문자열 외에도 숫자나 불리언 등 앞에서 배운 기초 데이터 타입이 들어갈 수 있음 </br>\n",
    "또한 리스트 안에 리스트나 튜플, 딕셔너리 등 다른 데이터 구조를 포함할 수도 있음"
   ]
  },
  {
   "cell_type": "markdown",
   "id": "1aa7400e",
   "metadata": {},
   "source": [
    "### 원소가 없는 빈 리스트 만들기\n",
    "\n",
    "원소가 없는 빈 리스트는 대괄호 ```[ ]```만 입력해주면 됨"
   ]
  },
  {
   "cell_type": "code",
   "execution_count": 2,
   "id": "997b2a7f",
   "metadata": {},
   "outputs": [
    {
     "data": {
      "text/plain": [
       "list"
      ]
     },
     "execution_count": 2,
     "metadata": {},
     "output_type": "execute_result"
    }
   ],
   "source": [
    "a = []\n",
    "type(a)"
   ]
  },
  {
   "cell_type": "markdown",
   "id": "64007a38",
   "metadata": {},
   "source": [
    "## 리스트 요소 추가하기\n",
    "\n",
    "리스트는 한 번 만들고 난 후에도 수정이 가능 </br>\n",
    "```append```와 ```insert``` 메소드를 사용해 리스트에 원소를 추가할 수 있음"
   ]
  },
  {
   "cell_type": "markdown",
   "id": "2cbd65f7",
   "metadata": {},
   "source": [
    "### append\n",
    "\n",
    "```append()```를 사용하면 리스트의 맨 끝에 값을 추가할 수 있음. ```( )``` 안에 입력한 값을 리스트에 추가"
   ]
  },
  {
   "cell_type": "code",
   "execution_count": 4,
   "id": "4303e815",
   "metadata": {},
   "outputs": [
    {
     "data": {
      "text/plain": [
       "['피카츄', '라이츄', '파이리']"
      ]
     },
     "execution_count": 4,
     "metadata": {},
     "output_type": "execute_result"
    }
   ],
   "source": [
    "pokemon = ['피카츄', '라이츄', '파이리']\n",
    "pokemon"
   ]
  },
  {
   "cell_type": "code",
   "execution_count": 5,
   "id": "633ae186",
   "metadata": {},
   "outputs": [
    {
     "data": {
      "text/plain": [
       "['피카츄', '라이츄', '파이리', '이상해씨']"
      ]
     },
     "execution_count": 5,
     "metadata": {},
     "output_type": "execute_result"
    }
   ],
   "source": [
    "pokemon.append('이상해씨')\n",
    "pokemon"
   ]
  },
  {
   "cell_type": "markdown",
   "id": "fc77d9a3",
   "metadata": {},
   "source": [
    "```append```를 사용하면 리스트, 튜플 등 **순서가 있는 데이터 구조**를 원소로 추가할 수도 있음"
   ]
  },
  {
   "cell_type": "code",
   "execution_count": 6,
   "id": "7cf31866",
   "metadata": {},
   "outputs": [
    {
     "data": {
      "text/plain": [
       "['피카츄', '라이츄', '파이리', '이상해씨', [1, 2, 3]]"
      ]
     },
     "execution_count": 6,
     "metadata": {},
     "output_type": "execute_result"
    }
   ],
   "source": [
    "pokemon.append([1, 2, 3])\n",
    "pokemon"
   ]
  },
  {
   "cell_type": "markdown",
   "id": "503e9a5e",
   "metadata": {},
   "source": [
    "### insert\n",
    "\n",
    "```insert```는 리스트의 맨 끝에 값을 추가하는 ```append```와 달리 원하는 위치에 값을 추가할 수 있음\n",
    "```python\n",
    "insert(index, 값)\n",
    "```\n",
    "입력한 index 자리에 값을 추가"
   ]
  },
  {
   "cell_type": "code",
   "execution_count": 7,
   "id": "08d055f6",
   "metadata": {},
   "outputs": [
    {
     "data": {
      "text/plain": [
       "['꼬부기', '피카츄', '라이츄', '파이리', '이상해씨', [1, 2, 3]]"
      ]
     },
     "execution_count": 7,
     "metadata": {},
     "output_type": "execute_result"
    }
   ],
   "source": [
    "pokemon.insert(0, '꼬부기')\n",
    "pokemon"
   ]
  },
  {
   "cell_type": "markdown",
   "id": "6433ae93",
   "metadata": {},
   "source": [
    "```append```와 마찬가지로 ```insert```도 데이터 구조를 원소로 추가해 줄 수 있음"
   ]
  },
  {
   "cell_type": "code",
   "execution_count": 8,
   "id": "52d1738a",
   "metadata": {},
   "outputs": [
    {
     "data": {
      "text/plain": [
       "[[1, 2, 3], '꼬부기', '피카츄', '라이츄', '파이리', '이상해씨', [1, 2, 3]]"
      ]
     },
     "execution_count": 8,
     "metadata": {},
     "output_type": "execute_result"
    }
   ],
   "source": [
    "pokemon.insert(0, [1, 2, 3])\n",
    "pokemon"
   ]
  },
  {
   "cell_type": "markdown",
   "id": "dffc2f69",
   "metadata": {},
   "source": [
    "## 리스트 요소 삭제하기\n",
    "\n",
    "```remove```와 ```del```을 사용하면 리스트에서 요소를 삭제할 수 있음"
   ]
  },
  {
   "cell_type": "markdown",
   "id": "6344c794",
   "metadata": {},
   "source": [
    "### remove\n",
    "\n",
    "```remove```를 사용하면 리스트에서 특정 값을 찾아서 삭제할 수 있음"
   ]
  },
  {
   "cell_type": "code",
   "execution_count": 9,
   "id": "b264a0a4",
   "metadata": {},
   "outputs": [
    {
     "data": {
      "text/plain": [
       "['풀', '독', '불꽃', '벌레', '강철']"
      ]
     },
     "execution_count": 9,
     "metadata": {},
     "output_type": "execute_result"
    }
   ],
   "source": [
    "attribute"
   ]
  },
  {
   "cell_type": "code",
   "execution_count": 10,
   "id": "04750861",
   "metadata": {},
   "outputs": [
    {
     "data": {
      "text/plain": [
       "['풀', '독', '불꽃', '벌레']"
      ]
     },
     "execution_count": 10,
     "metadata": {},
     "output_type": "execute_result"
    }
   ],
   "source": [
    "attribute.remove('강철')\n",
    "attribute"
   ]
  },
  {
   "cell_type": "markdown",
   "id": "08937736",
   "metadata": {},
   "source": [
    "리스트에 삭제하려는 값이 존재하지 않을 경우 오류가 발생됨"
   ]
  },
  {
   "cell_type": "code",
   "execution_count": 11,
   "id": "7ac90b05",
   "metadata": {},
   "outputs": [
    {
     "ename": "ValueError",
     "evalue": "list.remove(x): x not in list",
     "output_type": "error",
     "traceback": [
      "\u001b[1;31m---------------------------------------------------------------------------\u001b[0m",
      "\u001b[1;31mValueError\u001b[0m                                Traceback (most recent call last)",
      "\u001b[1;32m~\\AppData\\Local\\Temp/ipykernel_14512/1496400722.py\u001b[0m in \u001b[0;36m<module>\u001b[1;34m\u001b[0m\n\u001b[1;32m----> 1\u001b[1;33m \u001b[0mattribute\u001b[0m\u001b[1;33m.\u001b[0m\u001b[0mremove\u001b[0m\u001b[1;33m(\u001b[0m\u001b[1;34m'강철'\u001b[0m\u001b[1;33m)\u001b[0m\u001b[1;33m\u001b[0m\u001b[1;33m\u001b[0m\u001b[0m\n\u001b[0m\u001b[0;32m      2\u001b[0m \u001b[0mattribute\u001b[0m\u001b[1;33m\u001b[0m\u001b[1;33m\u001b[0m\u001b[0m\n",
      "\u001b[1;31mValueError\u001b[0m: list.remove(x): x not in list"
     ]
    }
   ],
   "source": [
    "attribute.remove('강철')\n",
    "attribute"
   ]
  },
  {
   "cell_type": "markdown",
   "id": "e2ed321d",
   "metadata": {},
   "source": [
    "찾는 값이 여러개일 경우는 가장 앞에 있는 값 하나만 삭제"
   ]
  },
  {
   "cell_type": "code",
   "execution_count": 12,
   "id": "835a08fa",
   "metadata": {},
   "outputs": [
    {
     "data": {
      "text/plain": [
       "['피카츄', '파이리', '피카츄']"
      ]
     },
     "execution_count": 12,
     "metadata": {},
     "output_type": "execute_result"
    }
   ],
   "source": [
    "pokemon = ['피카츄', '파이리', '피카츄']\n",
    "pokemon"
   ]
  },
  {
   "cell_type": "code",
   "execution_count": 15,
   "id": "62c987a4",
   "metadata": {},
   "outputs": [
    {
     "data": {
      "text/plain": [
       "['파이리', '피카츄']"
      ]
     },
     "execution_count": 15,
     "metadata": {},
     "output_type": "execute_result"
    }
   ],
   "source": [
    "pokemon.remove('피카츄')\n",
    "pokemon"
   ]
  },
  {
   "cell_type": "markdown",
   "id": "26799b04",
   "metadata": {},
   "source": [
    "### del\n",
    "\n",
    "del 을 사용하면 해당 인덱스의 값을 삭제할 수 있음"
   ]
  },
  {
   "cell_type": "code",
   "execution_count": 16,
   "id": "ffad6cff",
   "metadata": {},
   "outputs": [
    {
     "data": {
      "text/plain": [
       "['풀', '독', '불꽃', '벌레']"
      ]
     },
     "execution_count": 16,
     "metadata": {},
     "output_type": "execute_result"
    }
   ],
   "source": [
    "attribute"
   ]
  },
  {
   "cell_type": "code",
   "execution_count": 17,
   "id": "a115cf7e",
   "metadata": {},
   "outputs": [
    {
     "data": {
      "text/plain": [
       "['독', '불꽃', '벌레']"
      ]
     },
     "execution_count": 17,
     "metadata": {},
     "output_type": "execute_result"
    }
   ],
   "source": [
    "del attribute[0]\n",
    "attribute"
   ]
  },
  {
   "cell_type": "markdown",
   "id": "8ffc2d30",
   "metadata": {},
   "source": [
    "```remove```를 사용할 때는 값을 하나씩만 삭제할 수 있었는데 </br>\n",
    "```del```은 인덱스를 통해 값을 찾기 때문에 슬라이싱을 이용해 여러 값을 한번에 삭제할 수 있음"
   ]
  },
  {
   "cell_type": "code",
   "execution_count": 18,
   "id": "c89d8f22",
   "metadata": {},
   "outputs": [
    {
     "data": {
      "text/plain": [
       "['벌레']"
      ]
     },
     "execution_count": 18,
     "metadata": {},
     "output_type": "execute_result"
    }
   ],
   "source": [
    "del attribute[0:2]\n",
    "attribute"
   ]
  },
  {
   "cell_type": "markdown",
   "id": "1bee8836",
   "metadata": {},
   "source": [
    "## 인덱싱, 슬라이싱\n",
    "\n",
    "문자열, 리스트와 같이 순서가 있는 데이터 구조에서 인덱싱, 슬라이싱 사용 가능"
   ]
  },
  {
   "cell_type": "markdown",
   "id": "301a844c",
   "metadata": {},
   "source": [
    "### 리스트 인덱싱 Indexing\n",
    "\n",
    "문자열에서와 마찬가지로 ```[ ]``` 대괄호안에 인덱스를 입력하면 해당하는 원소를 출력해줌 </br>\n",
    "정수를 입력하면 앞에서부터, 음수를 입력하면 뒤에서부터 순서를 카운트"
   ]
  },
  {
   "cell_type": "code",
   "execution_count": 19,
   "id": "abec1ab9",
   "metadata": {},
   "outputs": [
    {
     "data": {
      "text/plain": [
       "'풀'"
      ]
     },
     "execution_count": 19,
     "metadata": {},
     "output_type": "execute_result"
    }
   ],
   "source": [
    "attribute = ['풀', '독', '불꽃', '벌레', '강철']\n",
    "attribute[0]"
   ]
  },
  {
   "cell_type": "code",
   "execution_count": 20,
   "id": "f4cc088d",
   "metadata": {},
   "outputs": [
    {
     "data": {
      "text/plain": [
       "'강철'"
      ]
     },
     "execution_count": 20,
     "metadata": {},
     "output_type": "execute_result"
    }
   ],
   "source": [
    "attribute[-1]"
   ]
  },
  {
   "cell_type": "markdown",
   "id": "ec28589e",
   "metadata": {},
   "source": [
    "### 리스트 슬라이싱 Slicing\n",
    "\n",
    "슬라이싱을 사용해 원소 여러 개를 한번에 불러올 수 있음"
   ]
  },
  {
   "cell_type": "code",
   "execution_count": 21,
   "id": "fef7dbeb",
   "metadata": {},
   "outputs": [
    {
     "data": {
      "text/plain": [
       "['풀', '독']"
      ]
     },
     "execution_count": 21,
     "metadata": {},
     "output_type": "execute_result"
    }
   ],
   "source": [
    "attribute[0:2]"
   ]
  },
  {
   "cell_type": "code",
   "execution_count": 22,
   "id": "bed531bb",
   "metadata": {},
   "outputs": [
    {
     "data": {
      "text/plain": [
       "['독', '불꽃', '벌레']"
      ]
     },
     "execution_count": 22,
     "metadata": {},
     "output_type": "execute_result"
    }
   ],
   "source": [
    "attribute[-4:-1]"
   ]
  },
  {
   "cell_type": "code",
   "execution_count": 23,
   "id": "3bf74bd0",
   "metadata": {},
   "outputs": [
    {
     "data": {
      "text/plain": [
       "[]"
      ]
     },
     "execution_count": 23,
     "metadata": {},
     "output_type": "execute_result"
    }
   ],
   "source": [
    "attribute[2:0] # 출력안됨"
   ]
  },
  {
   "cell_type": "markdown",
   "id": "269979c9",
   "metadata": {},
   "source": [
    "슬라이싱에서도 정수 인덱스, 음수 인덱스 모두 사용할 수 있음 </br>\n",
    "주의할 점은 왼쪽에서부터 순서대로 슬라이싱 할 때는 정수 인덱스, 오른쪽에서부터 슬라이싱할 때는 음수 인덱스를 사용"
   ]
  },
  {
   "cell_type": "markdown",
   "id": "53725cb3",
   "metadata": {},
   "source": [
    "### Implicit slicing\n",
    "\n",
    "슬라이싱에서 첫번째 값부터 시작할 때는 콜론 ```:``` 앞의 값을 생략할 수 있음"
   ]
  },
  {
   "cell_type": "code",
   "execution_count": 25,
   "id": "a2e5747f",
   "metadata": {},
   "outputs": [
    {
     "data": {
      "text/plain": [
       "['풀', '독']"
      ]
     },
     "execution_count": 25,
     "metadata": {},
     "output_type": "execute_result"
    }
   ],
   "source": [
    "attribute[0:2]"
   ]
  },
  {
   "cell_type": "code",
   "execution_count": 24,
   "id": "467cda80",
   "metadata": {},
   "outputs": [
    {
     "data": {
      "text/plain": [
       "['풀', '독']"
      ]
     },
     "execution_count": 24,
     "metadata": {},
     "output_type": "execute_result"
    }
   ],
   "source": [
    "attribute[:2]"
   ]
  },
  {
   "cell_type": "markdown",
   "id": "68ba3ea3",
   "metadata": {},
   "source": [
    "물론 특정 값에서 마지막 값까지 슬라이싱 해줄 때도 콜론 ```:``` 뒤의 값을 생략할 수 있음"
   ]
  },
  {
   "cell_type": "code",
   "execution_count": 27,
   "id": "6c3d71da",
   "metadata": {},
   "outputs": [
    {
     "data": {
      "text/plain": [
       "['불꽃', '벌레', '강철']"
      ]
     },
     "execution_count": 27,
     "metadata": {},
     "output_type": "execute_result"
    }
   ],
   "source": [
    "attribute[2:5]"
   ]
  },
  {
   "cell_type": "code",
   "execution_count": 26,
   "id": "2487c98c",
   "metadata": {},
   "outputs": [
    {
     "data": {
      "text/plain": [
       "['불꽃', '벌레', '강철']"
      ]
     },
     "execution_count": 26,
     "metadata": {},
     "output_type": "execute_result"
    }
   ],
   "source": [
    "attribute[2:]"
   ]
  },
  {
   "cell_type": "markdown",
   "id": "451d5071",
   "metadata": {},
   "source": [
    "콜론 ```:``` 앞 뒤 값을 모두 생략하면 전체 리스트가 출력됨"
   ]
  },
  {
   "cell_type": "code",
   "execution_count": 28,
   "id": "067903a7",
   "metadata": {},
   "outputs": [
    {
     "data": {
      "text/plain": [
       "['풀', '독', '불꽃', '벌레', '강철']"
      ]
     },
     "execution_count": 28,
     "metadata": {},
     "output_type": "execute_result"
    }
   ],
   "source": [
    "attribute[:]"
   ]
  },
  {
   "cell_type": "markdown",
   "id": "7f58e5f3",
   "metadata": {},
   "source": [
    "### stepping\n",
    "\n",
    "stepping을 사용하면 슬라이싱할 때 주어진 step 값 만큼 건너뛰고 출력할 수 있음\n",
    "```python\n",
    "list(n:m:step)\n",
    "```"
   ]
  },
  {
   "cell_type": "code",
   "execution_count": 30,
   "id": "3b32f32c",
   "metadata": {},
   "outputs": [
    {
     "data": {
      "text/plain": [
       "[1, 2, 3, 4, 5, 6, 7, 8, 9, 10]"
      ]
     },
     "execution_count": 30,
     "metadata": {},
     "output_type": "execute_result"
    }
   ],
   "source": [
    "num = [1, 2, 3, 4, 5, 6, 7, 8, 9, 10]\n",
    "num"
   ]
  },
  {
   "cell_type": "code",
   "execution_count": 31,
   "id": "1c439d20",
   "metadata": {},
   "outputs": [
    {
     "data": {
      "text/plain": [
       "[1, 3, 5, 7]"
      ]
     },
     "execution_count": 31,
     "metadata": {},
     "output_type": "execute_result"
    }
   ],
   "source": [
    "num[0:7:2]"
   ]
  },
  {
   "cell_type": "markdown",
   "id": "127e682b",
   "metadata": {},
   "source": [
    "step 값에 ```2```를 넣어주면 ```2```씩 건너뛰어 ```1, 3, 5, 7```을 출력해줌"
   ]
  },
  {
   "cell_type": "code",
   "execution_count": 32,
   "id": "eb13f23f",
   "metadata": {},
   "outputs": [
    {
     "data": {
      "text/plain": [
       "[1, 4, 7]"
      ]
     },
     "execution_count": 32,
     "metadata": {},
     "output_type": "execute_result"
    }
   ],
   "source": [
    "num[0:7:3]"
   ]
  },
  {
   "cell_type": "markdown",
   "id": "6fd66e22",
   "metadata": {},
   "source": [
    "step 값에 ```3```을 넣어주면 ```3```씩 건너뛰어 ```1, 4, 7```을 출력해줌"
   ]
  },
  {
   "cell_type": "code",
   "execution_count": 33,
   "id": "ba1daf2e",
   "metadata": {},
   "outputs": [
    {
     "data": {
      "text/plain": [
       "[1, 4, 7, 10]"
      ]
     },
     "execution_count": 33,
     "metadata": {},
     "output_type": "execute_result"
    }
   ],
   "source": [
    "num[::3]"
   ]
  },
  {
   "cell_type": "markdown",
   "id": "01a1136e",
   "metadata": {},
   "source": [
    "## 리스트에 특정 값 포함 여부 확인하기 in\n",
    "\n",
    "```in```을 사용하면 리스트에서 특정 값을 포함하고 있는지 여부를 확인할 수 있음 </br>\n",
    "리스트에 찾는 값이 있을 경우 ```True```, 존재하지 않는 경우에는 ```False``` 를 반환함 </br>\n",
    "```in```은 리스트 이외의 다른 데이터 구조에서도 사용할 수 있음"
   ]
  },
  {
   "cell_type": "code",
   "execution_count": 34,
   "id": "6d5b8871",
   "metadata": {},
   "outputs": [
    {
     "data": {
      "text/plain": [
       "True"
      ]
     },
     "execution_count": 34,
     "metadata": {},
     "output_type": "execute_result"
    }
   ],
   "source": [
    "'강철' in attribute"
   ]
  },
  {
   "cell_type": "code",
   "execution_count": 35,
   "id": "047bc79b",
   "metadata": {},
   "outputs": [
    {
     "data": {
      "text/plain": [
       "False"
      ]
     },
     "execution_count": 35,
     "metadata": {},
     "output_type": "execute_result"
    }
   ],
   "source": [
    "'물' in attribute"
   ]
  },
  {
   "cell_type": "markdown",
   "id": "edc778ee",
   "metadata": {},
   "source": [
    "```in```과 반대 의미인 ```not in```도 사용할 수 있음"
   ]
  },
  {
   "cell_type": "code",
   "execution_count": 36,
   "id": "1ae1f8d6",
   "metadata": {},
   "outputs": [
    {
     "data": {
      "text/plain": [
       "True"
      ]
     },
     "execution_count": 36,
     "metadata": {},
     "output_type": "execute_result"
    }
   ],
   "source": [
    "'물' not in attribute"
   ]
  },
  {
   "cell_type": "markdown",
   "id": "f11e8d3a",
   "metadata": {},
   "source": [
    "## 리스트의 길이 구하기 len\n",
    "\n",
    "리스트의 길이는 리스트가 포함하고 있는 값의 갯수 </br>\n",
    "```len``` 내장함수를 사용해 리스트의 길이를 구할 수 있음 </br>\n",
    "```len( )``` 괄호 안에는 리스트의 변수명을 넣거나 리스트를 직접 넣어줄 수 있음"
   ]
  },
  {
   "cell_type": "code",
   "execution_count": 37,
   "id": "b42a856f",
   "metadata": {},
   "outputs": [
    {
     "data": {
      "text/plain": [
       "3"
      ]
     },
     "execution_count": 37,
     "metadata": {},
     "output_type": "execute_result"
    }
   ],
   "source": [
    "len('피카츄')"
   ]
  },
  {
   "cell_type": "code",
   "execution_count": 38,
   "id": "cf49194e",
   "metadata": {},
   "outputs": [
    {
     "data": {
      "text/plain": [
       "5"
      ]
     },
     "execution_count": 38,
     "metadata": {},
     "output_type": "execute_result"
    }
   ],
   "source": [
    "len(attribute)"
   ]
  },
  {
   "cell_type": "code",
   "execution_count": 39,
   "id": "ed37ca0a",
   "metadata": {},
   "outputs": [
    {
     "data": {
      "text/plain": [
       "7"
      ]
     },
     "execution_count": 39,
     "metadata": {},
     "output_type": "execute_result"
    }
   ],
   "source": [
    "len([1, 2, 3, 4, 5, 6, 7])"
   ]
  },
  {
   "cell_type": "markdown",
   "id": "ce634e3b",
   "metadata": {},
   "source": [
    "## 리스트 정렬하기\n",
    "\n",
    "```sort```와 ```sorted```를 사용하여 리스트에 있는 값을 순서대로 정렬할 수 있음"
   ]
  },
  {
   "cell_type": "markdown",
   "id": "1a5e86a2",
   "metadata": {},
   "source": [
    "### sort\n",
    "\n",
    "```sort.( )``` 메소드는 리스트의 값을 오름차순으로 정렬하고 그 값을 저장. 즉, 원본을 바꿈</br>\n",
    "숫자, 영어, 한글 모두 정렬 가능"
   ]
  },
  {
   "cell_type": "code",
   "execution_count": 40,
   "id": "1273552c",
   "metadata": {},
   "outputs": [
    {
     "data": {
      "text/plain": [
       "['강철', '독', '벌레', '불꽃', '풀']"
      ]
     },
     "execution_count": 40,
     "metadata": {},
     "output_type": "execute_result"
    }
   ],
   "source": [
    "attribute.sort()\n",
    "attribute"
   ]
  },
  {
   "cell_type": "markdown",
   "id": "d856efb3",
   "metadata": {},
   "source": [
    "### sorted\n",
    "\n",
    "```sorted``` 내장 함수를 사용하면 정렬된 값을 출력하며 원본 리스트에는 영향을 주지 않음"
   ]
  },
  {
   "cell_type": "code",
   "execution_count": 42,
   "id": "6df0e558",
   "metadata": {},
   "outputs": [
    {
     "data": {
      "text/plain": [
       "['풀', '독', '불꽃', '벌레', '강철']"
      ]
     },
     "execution_count": 42,
     "metadata": {},
     "output_type": "execute_result"
    }
   ],
   "source": [
    "attribute = ['풀', '독', '불꽃', '벌레', '강철']\n",
    "attribute"
   ]
  },
  {
   "cell_type": "code",
   "execution_count": 43,
   "id": "ec63a9b3",
   "metadata": {},
   "outputs": [
    {
     "data": {
      "text/plain": [
       "['강철', '독', '벌레', '불꽃', '풀']"
      ]
     },
     "execution_count": 43,
     "metadata": {},
     "output_type": "execute_result"
    }
   ],
   "source": [
    "sorted(attribute)"
   ]
  },
  {
   "cell_type": "code",
   "execution_count": 44,
   "id": "bba172bd",
   "metadata": {},
   "outputs": [
    {
     "data": {
      "text/plain": [
       "['풀', '독', '불꽃', '벌레', '강철']"
      ]
     },
     "execution_count": 44,
     "metadata": {},
     "output_type": "execute_result"
    }
   ],
   "source": [
    "attribute"
   ]
  },
  {
   "cell_type": "markdown",
   "id": "3648564d",
   "metadata": {},
   "source": [
    "```sorted```는 ```sort```와 달리 원본 값의 변화가 없음. 따라서 새로운 변수를 만들어 넣어줘야 사용할 수 있음"
   ]
  },
  {
   "cell_type": "code",
   "execution_count": 45,
   "id": "4556c4cf",
   "metadata": {},
   "outputs": [
    {
     "data": {
      "text/plain": [
       "['강철', '독', '벌레', '불꽃', '풀']"
      ]
     },
     "execution_count": 45,
     "metadata": {},
     "output_type": "execute_result"
    }
   ],
   "source": [
    "attribute_sorted = sorted(attribute)\n",
    "attribute_sorted"
   ]
  },
  {
   "cell_type": "markdown",
   "id": "04a44052",
   "metadata": {},
   "source": [
    "**파이썬 리스트 메소드**\n",
    "\n",
    "- https://docs.python.org/ko/3/tutorial/datastructures.html"
   ]
  }
 ],
 "metadata": {
  "kernelspec": {
   "display_name": "Python 3 (ipykernel)",
   "language": "python",
   "name": "python3"
  },
  "language_info": {
   "codemirror_mode": {
    "name": "ipython",
    "version": 3
   },
   "file_extension": ".py",
   "mimetype": "text/x-python",
   "name": "python",
   "nbconvert_exporter": "python",
   "pygments_lexer": "ipython3",
   "version": "3.9.7"
  }
 },
 "nbformat": 4,
 "nbformat_minor": 5
}
