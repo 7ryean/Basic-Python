{
 "cells": [
  {
   "cell_type": "markdown",
   "id": "417ed56b",
   "metadata": {},
   "source": [
    "## 정수형 (Integer)\n",
    "\n",
    "수학에서 정수(integer)는 양의 정수(1, 2, 3, 4, ..., n), 음의 정수(-1, -2, -3, -4, ..., -n) 및 0으로 이루어진 수"
   ]
  },
  {
   "cell_type": "code",
   "execution_count": 1,
   "id": "8ef0071d",
   "metadata": {},
   "outputs": [
    {
     "data": {
      "text/plain": [
       "int"
      ]
     },
     "execution_count": 1,
     "metadata": {},
     "output_type": "execute_result"
    }
   ],
   "source": [
    "type(100)"
   ]
  },
  {
   "cell_type": "code",
   "execution_count": 2,
   "id": "5f33dcd5",
   "metadata": {},
   "outputs": [
    {
     "data": {
      "text/plain": [
       "int"
      ]
     },
     "execution_count": 2,
     "metadata": {},
     "output_type": "execute_result"
    }
   ],
   "source": [
    "type(-1212)"
   ]
  },
  {
   "cell_type": "markdown",
   "id": "91f32ce7",
   "metadata": {},
   "source": [
    "## 실수형 (Float)\n",
    "\n",
    "소숫점이 있는 숫자"
   ]
  },
  {
   "cell_type": "code",
   "execution_count": 3,
   "id": "a29c91ba",
   "metadata": {},
   "outputs": [
    {
     "data": {
      "text/plain": [
       "float"
      ]
     },
     "execution_count": 3,
     "metadata": {},
     "output_type": "execute_result"
    }
   ],
   "source": [
    "pi = 3.14\n",
    "type(pi)"
   ]
  },
  {
   "cell_type": "markdown",
   "id": "2951cfde",
   "metadata": {},
   "source": [
    "### Type Casting\n",
    "\n",
    "정수 -> 실수로의 변환, 실수 -> 정수로의 변환 모두 가능. 단, 실수에서 정수로 바꿀 때에는 소숫점부분이 절삭됨"
   ]
  },
  {
   "cell_type": "code",
   "execution_count": 5,
   "id": "666f230d",
   "metadata": {},
   "outputs": [
    {
     "data": {
      "text/plain": [
       "1.0"
      ]
     },
     "execution_count": 5,
     "metadata": {},
     "output_type": "execute_result"
    }
   ],
   "source": [
    "float(1)"
   ]
  },
  {
   "cell_type": "code",
   "execution_count": 6,
   "id": "89a93371",
   "metadata": {},
   "outputs": [
    {
     "data": {
      "text/plain": [
       "1"
      ]
     },
     "execution_count": 6,
     "metadata": {},
     "output_type": "execute_result"
    }
   ],
   "source": [
    "int(1.0)"
   ]
  },
  {
   "cell_type": "code",
   "execution_count": 7,
   "id": "7297ea14",
   "metadata": {},
   "outputs": [
    {
     "data": {
      "text/plain": [
       "3"
      ]
     },
     "execution_count": 7,
     "metadata": {},
     "output_type": "execute_result"
    }
   ],
   "source": [
    "int(pi)"
   ]
  },
  {
   "cell_type": "markdown",
   "id": "92356705",
   "metadata": {},
   "source": [
    "### Scientific Notation\n",
    "\n",
    "데이터 분석을 하다보면 매우 큰 수 또는 매우 작은 수를 표현하거나 저장해야할 때 사용. 무조건 실수(float)로 출력됨"
   ]
  },
  {
   "cell_type": "markdown",
   "id": "97ff8207",
   "metadata": {},
   "source": [
    "매우 큰 수"
   ]
  },
  {
   "cell_type": "code",
   "execution_count": 11,
   "id": "c8c50733",
   "metadata": {},
   "outputs": [
    {
     "data": {
      "text/plain": [
       "30000.0"
      ]
     },
     "execution_count": 11,
     "metadata": {},
     "output_type": "execute_result"
    }
   ],
   "source": [
    "3e+4"
   ]
  },
  {
   "cell_type": "code",
   "execution_count": 12,
   "id": "dda244f7",
   "metadata": {},
   "outputs": [
    {
     "data": {
      "text/plain": [
       "10000"
      ]
     },
     "execution_count": 12,
     "metadata": {},
     "output_type": "execute_result"
    }
   ],
   "source": [
    "10 ** 4"
   ]
  },
  {
   "cell_type": "markdown",
   "id": "62705494",
   "metadata": {},
   "source": [
    "거듭제곱은 ```**```으로 표현"
   ]
  },
  {
   "cell_type": "code",
   "execution_count": 16,
   "id": "50c94a99",
   "metadata": {},
   "outputs": [
    {
     "data": {
      "text/plain": [
       "30000"
      ]
     },
     "execution_count": 16,
     "metadata": {},
     "output_type": "execute_result"
    }
   ],
   "source": [
    "3 * ( 10 ** 4)"
   ]
  },
  {
   "cell_type": "markdown",
   "id": "02da5294",
   "metadata": {},
   "source": [
    "매우 작은 수"
   ]
  },
  {
   "cell_type": "code",
   "execution_count": 18,
   "id": "41934b5a",
   "metadata": {},
   "outputs": [
    {
     "data": {
      "text/plain": [
       "0.0002"
      ]
     },
     "execution_count": 18,
     "metadata": {},
     "output_type": "execute_result"
    }
   ],
   "source": [
    "2e-4"
   ]
  },
  {
   "cell_type": "code",
   "execution_count": 19,
   "id": "3459780b",
   "metadata": {},
   "outputs": [
    {
     "data": {
      "text/plain": [
       "0.0002"
      ]
     },
     "execution_count": 19,
     "metadata": {},
     "output_type": "execute_result"
    }
   ],
   "source": [
    "2 * ( 10 ** -4 )"
   ]
  },
  {
   "cell_type": "markdown",
   "id": "7f615d78",
   "metadata": {},
   "source": [
    "## 숫자형의 연산\n",
    "\n",
    "숫자형끼리는 산술 연산이 가능"
   ]
  },
  {
   "cell_type": "code",
   "execution_count": 20,
   "id": "da6ef076",
   "metadata": {},
   "outputs": [
    {
     "data": {
      "text/plain": [
       "8"
      ]
     },
     "execution_count": 20,
     "metadata": {},
     "output_type": "execute_result"
    }
   ],
   "source": [
    "2 ** 3"
   ]
  },
  {
   "cell_type": "code",
   "execution_count": 21,
   "id": "f8256252",
   "metadata": {},
   "outputs": [
    {
     "data": {
      "text/plain": [
       "6.140000000000001"
      ]
     },
     "execution_count": 21,
     "metadata": {},
     "output_type": "execute_result"
    }
   ],
   "source": [
    "a = 3\n",
    "a + pi"
   ]
  },
  {
   "cell_type": "markdown",
   "id": "fd9e3cd1",
   "metadata": {},
   "source": [
    "정수와 정수의 연산 = 정수(int)"
   ]
  },
  {
   "cell_type": "code",
   "execution_count": 22,
   "id": "65d5a39a",
   "metadata": {},
   "outputs": [
    {
     "data": {
      "text/plain": [
       "int"
      ]
     },
     "execution_count": 22,
     "metadata": {},
     "output_type": "execute_result"
    }
   ],
   "source": [
    "type(2*3)"
   ]
  },
  {
   "cell_type": "markdown",
   "id": "b8ef9622",
   "metadata": {},
   "source": [
    "정수와 실수의 연산 = 실수(float)"
   ]
  },
  {
   "cell_type": "code",
   "execution_count": 23,
   "id": "178964d5",
   "metadata": {},
   "outputs": [
    {
     "data": {
      "text/plain": [
       "float"
      ]
     },
     "execution_count": 23,
     "metadata": {},
     "output_type": "execute_result"
    }
   ],
   "source": [
    "type(2*3.0)"
   ]
  }
 ],
 "metadata": {
  "kernelspec": {
   "display_name": "Python 3 (ipykernel)",
   "language": "python",
   "name": "python3"
  },
  "language_info": {
   "codemirror_mode": {
    "name": "ipython",
    "version": 3
   },
   "file_extension": ".py",
   "mimetype": "text/x-python",
   "name": "python",
   "nbconvert_exporter": "python",
   "pygments_lexer": "ipython3",
   "version": "3.9.7"
  }
 },
 "nbformat": 4,
 "nbformat_minor": 5
}
