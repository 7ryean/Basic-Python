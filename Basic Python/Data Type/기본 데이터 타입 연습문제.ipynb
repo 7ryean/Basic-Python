{
 "cells": [
  {
   "cell_type": "markdown",
   "metadata": {
    "id": "IAgOtBnrKabm"
   },
   "source": [
    "# Q1.\n",
    "my_name이라는 변수에 본인의 이름을 저장하고, my_pokemon에 피카츄를 저장해 보세요. (저장하고 확인까지 해보세요.)"
   ]
  },
  {
   "cell_type": "code",
   "execution_count": 1,
   "metadata": {
    "id": "E2NAfx4m2OyG"
   },
   "outputs": [
    {
     "data": {
      "text/plain": [
       "'유가연'"
      ]
     },
     "execution_count": 1,
     "metadata": {},
     "output_type": "execute_result"
    }
   ],
   "source": [
    "my_name = '유가연'\n",
    "my_name"
   ]
  },
  {
   "cell_type": "code",
   "execution_count": 2,
   "metadata": {},
   "outputs": [
    {
     "data": {
      "text/plain": [
       "'피카츄'"
      ]
     },
     "execution_count": 2,
     "metadata": {},
     "output_type": "execute_result"
    }
   ],
   "source": [
    "my_pokemon = '피카츄'\n",
    "my_pokemon"
   ]
  },
  {
   "cell_type": "markdown",
   "metadata": {
    "id": "UkCpGrFVKjYG"
   },
   "source": [
    "# Q2. \n",
    "my_age라는 변수에 본인의 나이를, pokemon_age에 3을 숫자형으로 저장해 보세요.\n"
   ]
  },
  {
   "cell_type": "code",
   "execution_count": 4,
   "metadata": {
    "id": "ZKBPhhmN6IJb"
   },
   "outputs": [
    {
     "data": {
      "text/plain": [
       "25"
      ]
     },
     "execution_count": 4,
     "metadata": {},
     "output_type": "execute_result"
    }
   ],
   "source": [
    "my_age = 25\n",
    "my_age"
   ]
  },
  {
   "cell_type": "code",
   "execution_count": 5,
   "metadata": {},
   "outputs": [
    {
     "data": {
      "text/plain": [
       "3"
      ]
     },
     "execution_count": 5,
     "metadata": {},
     "output_type": "execute_result"
    }
   ],
   "source": [
    "pokemon_age = 3\n",
    "pokemon_age"
   ]
  },
  {
   "cell_type": "markdown",
   "metadata": {
    "id": "zoR6TQ5PKsUF"
   },
   "source": [
    "# Q3. \n",
    "my_height에 본인의 키를 소수자리까지 저장하고,\n",
    "pika_height에 피카츄의 키를 저장한 후, 각각의 type을 확인해 보세요.(단위 cm)\n",
    "\n",
    "```\n",
    "피카츄의 키는 40cm입니다\n",
    "```\n"
   ]
  },
  {
   "cell_type": "code",
   "execution_count": 6,
   "metadata": {
    "id": "3CwxV0D_C771"
   },
   "outputs": [
    {
     "data": {
      "text/plain": [
       "float"
      ]
     },
     "execution_count": 6,
     "metadata": {},
     "output_type": "execute_result"
    }
   ],
   "source": [
    "my_height = 158.2\n",
    "type(my_height)"
   ]
  },
  {
   "cell_type": "code",
   "execution_count": 7,
   "metadata": {},
   "outputs": [
    {
     "data": {
      "text/plain": [
       "int"
      ]
     },
     "execution_count": 7,
     "metadata": {},
     "output_type": "execute_result"
    }
   ],
   "source": [
    "pika_height = 40\n",
    "type(pika_height)"
   ]
  },
  {
   "cell_type": "markdown",
   "metadata": {
    "id": "u-mJGetJKysI"
   },
   "source": [
    "# Q4. \n",
    "나와 포켓몬의 나이 차이를 출력해 보세요. (my_age에서 pika_age를 뺀 값을 출력해 보세요.)\n"
   ]
  },
  {
   "cell_type": "code",
   "execution_count": 8,
   "metadata": {
    "id": "_2zflTBA6UBL"
   },
   "outputs": [
    {
     "data": {
      "text/plain": [
       "22"
      ]
     },
     "execution_count": 8,
     "metadata": {},
     "output_type": "execute_result"
    }
   ],
   "source": [
    "my_age - pokemon_age"
   ]
  },
  {
   "cell_type": "markdown",
   "metadata": {
    "id": "2kS5Q3CfK5Ka"
   },
   "source": [
    "# Q5. \n",
    "'피카'를 10번 출력해 보세요."
   ]
  },
  {
   "cell_type": "code",
   "execution_count": 9,
   "metadata": {
    "id": "P4-elLSF66pk"
   },
   "outputs": [
    {
     "data": {
      "text/plain": [
       "'피카피카피카피카피카피카피카피카피카피카'"
      ]
     },
     "execution_count": 9,
     "metadata": {},
     "output_type": "execute_result"
    }
   ],
   "source": [
    "'피카' * 10"
   ]
  },
  {
   "cell_type": "markdown",
   "metadata": {
    "id": "xOMxHSL2K8l_"
   },
   "source": [
    "# Q6. \n",
    "내 이름과 내 나이, 포켓몬 이름과, 피카츄 나이를 다음과 같은 형식으로 출력하는 코드를 써보세요.\n",
    "\n",
    "```\n",
    "내 이름은 선미, 10살이지.\n",
    "내 포켓몬은 피카츄, 3살이야.\n",
    "```"
   ]
  },
  {
   "cell_type": "code",
   "execution_count": 14,
   "metadata": {
    "id": "l-NPR-rO9GuA"
   },
   "outputs": [
    {
     "name": "stdout",
     "output_type": "stream",
     "text": [
      "내 이름은 유가연 , 25 살이지.\n",
      "내 포켓몬은 피카츄 , 3 살이야.\n"
     ]
    }
   ],
   "source": [
    "print('내 이름은', my_name,',', my_age,'살이지.')\n",
    "print('내 포켓몬은', my_pokemon, ',', pokemon_age,'살이야.')"
   ]
  },
  {
   "cell_type": "markdown",
   "metadata": {
    "id": "0_gNA1uKLIF3"
   },
   "source": [
    "# Q7. \n",
    "내 키가 피카츄보다 큰지 확인하는 코드를 작성해 보세요. 확인 값은 불리언 타입으로 출력하세요.\n"
   ]
  },
  {
   "cell_type": "code",
   "execution_count": 15,
   "metadata": {
    "id": "d09KyA_8I2CC"
   },
   "outputs": [
    {
     "data": {
      "text/plain": [
       "True"
      ]
     },
     "execution_count": 15,
     "metadata": {},
     "output_type": "execute_result"
    }
   ],
   "source": [
    "my_height > pika_height"
   ]
  },
  {
   "cell_type": "markdown",
   "metadata": {
    "id": "xFa75H47LKyN"
   },
   "source": [
    "# Q8. \n",
    "kobuk_age에 3살을 저장한 후, 피카츄와 나이가 같은지 확인하여 출력하는 코드를 작성해 보세요. 확인한 값은 불리언 타입으로 출력하세요."
   ]
  },
  {
   "cell_type": "code",
   "execution_count": 17,
   "metadata": {
    "id": "daI6d1nvJK43"
   },
   "outputs": [
    {
     "data": {
      "text/plain": [
       "True"
      ]
     },
     "execution_count": 17,
     "metadata": {},
     "output_type": "execute_result"
    }
   ],
   "source": [
    "kobuk_age = 3\n",
    "pokemon_age == kobuk_age"
   ]
  },
  {
   "cell_type": "markdown",
   "metadata": {
    "id": "Oshcmlp4LO2H"
   },
   "source": [
    "# Q9. \n",
    "다음은 포켓몬 노래의 가사 일부입니다. song의 공백을 포함한 문자 길이가 어떻게 되는지 출력해 보세요.\n",
    "\n",
    "```\n",
    "song = '피카츄 라이츄 파이리 꼬북이 버터플 야도란 피존투 또가스 서로생긴 모습은 달라도 우리는 모두친구'\n",
    "```\n"
   ]
  },
  {
   "cell_type": "code",
   "execution_count": 20,
   "metadata": {
    "id": "ABvvdFEW_5_Y"
   },
   "outputs": [
    {
     "data": {
      "text/plain": [
       "53"
      ]
     },
     "execution_count": 20,
     "metadata": {},
     "output_type": "execute_result"
    }
   ],
   "source": [
    "song = '피카츄 라이츄 파이리 꼬북이 버터플 야도란 피존투 또가스 서로생긴 모습은 달라도 우리는 모두친구'\n",
    "len(song)"
   ]
  },
  {
   "cell_type": "markdown",
   "metadata": {
    "id": "ZQLrdDfoLv2n"
   },
   "source": [
    "# Q10. \n",
    "위 노래 song을 띄어쓰기를 기준으로 words라는 변수명에 저장해 보세요.\n",
    "\n",
    "힌트1 : string에서 사용할 수 있는 메서드들을 확인해 보세요.\n",
    "\n",
    "힌트2 : split()을 사용해 보세요.\n"
   ]
  },
  {
   "cell_type": "code",
   "execution_count": 21,
   "metadata": {
    "id": "dGW-6T5RA4sV"
   },
   "outputs": [
    {
     "data": {
      "text/plain": [
       "['피카츄',\n",
       " '라이츄',\n",
       " '파이리',\n",
       " '꼬북이',\n",
       " '버터플',\n",
       " '야도란',\n",
       " '피존투',\n",
       " '또가스',\n",
       " '서로생긴',\n",
       " '모습은',\n",
       " '달라도',\n",
       " '우리는',\n",
       " '모두친구']"
      ]
     },
     "execution_count": 21,
     "metadata": {},
     "output_type": "execute_result"
    }
   ],
   "source": [
    "words = song.split()\n",
    "words"
   ]
  }
 ],
 "metadata": {
  "colab": {
   "collapsed_sections": [],
   "name": "Section 2. 기본 데이터 타입 - 연습문제.ipynb의 사본",
   "provenance": []
  },
  "kernelspec": {
   "display_name": "Python 3 (ipykernel)",
   "language": "python",
   "name": "python3"
  },
  "language_info": {
   "codemirror_mode": {
    "name": "ipython",
    "version": 3
   },
   "file_extension": ".py",
   "mimetype": "text/x-python",
   "name": "python",
   "nbconvert_exporter": "python",
   "pygments_lexer": "ipython3",
   "version": "3.9.7"
  }
 },
 "nbformat": 4,
 "nbformat_minor": 1
}
