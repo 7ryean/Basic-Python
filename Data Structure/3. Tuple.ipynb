{
 "cells": [
  {
   "cell_type": "markdown",
   "id": "655b6fb2",
   "metadata": {},
   "source": [
    "# 튜플 Tuple\n",
    "\n",
    "튜플은 앞에서 배운 리스트와 비슷한 자료구조 </br>\n",
    "원소를 ```[ ]``` 대괄호로 감싸면 리스트, ```( )``` 소괄호로 감싸면 튜플 </br>\n",
    "튜플은 리스트처럼 순서가 있는 자료구조이지만 한 번 만들어진 후에는 원소를 수정할 수 없다는 것이 가장 큰 차이"
   ]
  },
  {
   "cell_type": "markdown",
   "id": "d026cd3e",
   "metadata": {},
   "source": [
    "## 튜플의 특징 1. 순서\n",
    "\n",
    "튜플의 특징을 리스트와 비교해서 살펴보기 </br>\n",
    "\n",
    "- 리스트는 순서가 있는 자료구조이기 때문에 인덱싱을 이용해 원소를 불러올 수 있음"
   ]
  },
  {
   "cell_type": "code",
   "execution_count": 1,
   "id": "cf858e0c",
   "metadata": {},
   "outputs": [
    {
     "data": {
      "text/plain": [
       "'피카츄'"
      ]
     },
     "execution_count": 1,
     "metadata": {},
     "output_type": "execute_result"
    }
   ],
   "source": [
    "pokemon_list = ['피카츄', '라이츄', '파이리', '꼬부기']\n",
    "pokemon_list[0]"
   ]
  },
  {
   "cell_type": "markdown",
   "id": "d22dfef3",
   "metadata": {},
   "source": [
    "- 튜플에서도 마찬가지로 인덱싱을 이용해 원소를 불러올 수 있음"
   ]
  },
  {
   "cell_type": "code",
   "execution_count": 2,
   "id": "d98c43a7",
   "metadata": {},
   "outputs": [
    {
     "data": {
      "text/plain": [
       "'피카츄'"
      ]
     },
     "execution_count": 2,
     "metadata": {},
     "output_type": "execute_result"
    }
   ],
   "source": [
    "pokemon_tuple = ('피카츄', '라이츄', '파이리', '꼬부기')\n",
    "pokemon_tuple[0]"
   ]
  },
  {
   "cell_type": "markdown",
   "id": "8a4de8b9",
   "metadata": {},
   "source": [
    "## 튜플의 특징 2. 원소 수정 불가\n",
    "\n",
    "- 리스트에서는 인덱싱을 이용해 기존의 원소를 다른 값으로 바꿔줄 수 있음"
   ]
  },
  {
   "cell_type": "code",
   "execution_count": 3,
   "id": "a923f912",
   "metadata": {},
   "outputs": [
    {
     "data": {
      "text/plain": [
       "['피카츄', '라이츄', '파이리', '어니부기']"
      ]
     },
     "execution_count": 3,
     "metadata": {},
     "output_type": "execute_result"
    }
   ],
   "source": [
    "pokemon_list[3] = '어니부기'\n",
    "pokemon_list"
   ]
  },
  {
   "cell_type": "markdown",
   "id": "06d60e75",
   "metadata": {},
   "source": [
    "- 튜플에서도 리스트와 같이 인덱싱은 가능하지만 **한 번 만들어지고 나면 원소를 수정할 수는 없음**. 추가, 삭제도 불가능."
   ]
  },
  {
   "cell_type": "code",
   "execution_count": 4,
   "id": "279d1f28",
   "metadata": {},
   "outputs": [
    {
     "ename": "TypeError",
     "evalue": "'tuple' object does not support item assignment",
     "output_type": "error",
     "traceback": [
      "\u001b[1;31m---------------------------------------------------------------------------\u001b[0m",
      "\u001b[1;31mTypeError\u001b[0m                                 Traceback (most recent call last)",
      "\u001b[1;32m~\\AppData\\Local\\Temp/ipykernel_17632/1807458472.py\u001b[0m in \u001b[0;36m<module>\u001b[1;34m\u001b[0m\n\u001b[1;32m----> 1\u001b[1;33m \u001b[0mpokemon_tuple\u001b[0m\u001b[1;33m[\u001b[0m\u001b[1;36m3\u001b[0m\u001b[1;33m]\u001b[0m \u001b[1;33m=\u001b[0m \u001b[1;34m'어니부기'\u001b[0m\u001b[1;33m\u001b[0m\u001b[1;33m\u001b[0m\u001b[0m\n\u001b[0m\u001b[0;32m      2\u001b[0m \u001b[0mpokemon_tuple\u001b[0m\u001b[1;33m\u001b[0m\u001b[1;33m\u001b[0m\u001b[0m\n",
      "\u001b[1;31mTypeError\u001b[0m: 'tuple' object does not support item assignment"
     ]
    }
   ],
   "source": [
    "pokemon_tuple[3] = '어니부기'\n",
    "pokemon_tuple"
   ]
  },
  {
   "cell_type": "markdown",
   "id": "624f8bc3",
   "metadata": {},
   "source": [
    "# 튜플 만들기\n",
    "\n",
    "튜플은 ```( )``` 소괄호를 이용해 만들 수 있음. 괄호를 생략할 수도 있음"
   ]
  },
  {
   "cell_type": "code",
   "execution_count": 5,
   "id": "733e9edc",
   "metadata": {},
   "outputs": [
    {
     "data": {
      "text/plain": [
       "tuple"
      ]
     },
     "execution_count": 5,
     "metadata": {},
     "output_type": "execute_result"
    }
   ],
   "source": [
    "pokemon1 = '피카츄', '라이츄', '파이리', '꼬부기'\n",
    "type(pokemon1)"
   ]
  },
  {
   "cell_type": "markdown",
   "id": "ad2e8ee7",
   "metadata": {},
   "source": [
    "## 원소가 0개인 튜플 만들기\n",
    "\n",
    "원소가 0개인 튜플을 만들 떄는 빈 괄호를 사용"
   ]
  },
  {
   "cell_type": "code",
   "execution_count": 6,
   "id": "04069fc7",
   "metadata": {},
   "outputs": [
    {
     "data": {
      "text/plain": [
       "tuple"
      ]
     },
     "execution_count": 6,
     "metadata": {},
     "output_type": "execute_result"
    }
   ],
   "source": [
    "empty = ()\n",
    "type(empty)"
   ]
  },
  {
   "cell_type": "code",
   "execution_count": 7,
   "id": "8751b97d",
   "metadata": {},
   "outputs": [
    {
     "data": {
      "text/plain": [
       "0"
      ]
     },
     "execution_count": 7,
     "metadata": {},
     "output_type": "execute_result"
    }
   ],
   "source": [
    "len(empty)"
   ]
  },
  {
   "cell_type": "markdown",
   "id": "f7af712e",
   "metadata": {},
   "source": [
    "# 튜플 다루기\n",
    "\n",
    "튜플은 한 번 만들어지고 나면 값을 바꿀 수 없기 때문에 원소를 추가, 제거, 변경하는 것이 불가능. </br>\n",
    "원소를 바꾸지 않는 한에서는 앞서 배운 리스트와 같은 방식으로 동작"
   ]
  },
  {
   "cell_type": "markdown",
   "id": "61ae9c69",
   "metadata": {},
   "source": [
    "### 인덱싱 Indexing"
   ]
  },
  {
   "cell_type": "code",
   "execution_count": 8,
   "id": "6b1f0947",
   "metadata": {},
   "outputs": [
    {
     "data": {
      "text/plain": [
       "'피카츄'"
      ]
     },
     "execution_count": 8,
     "metadata": {},
     "output_type": "execute_result"
    }
   ],
   "source": [
    "pokemon_tuple[0]"
   ]
  },
  {
   "cell_type": "markdown",
   "id": "b2d26a7c",
   "metadata": {},
   "source": [
    "### 슬라이싱 Slicing"
   ]
  },
  {
   "cell_type": "code",
   "execution_count": 9,
   "id": "181872e3",
   "metadata": {},
   "outputs": [
    {
     "data": {
      "text/plain": [
       "('피카츄', '라이츄')"
      ]
     },
     "execution_count": 9,
     "metadata": {},
     "output_type": "execute_result"
    }
   ],
   "source": [
    "pokemon_tuple[0:2]"
   ]
  },
  {
   "cell_type": "markdown",
   "id": "c65fb98a",
   "metadata": {},
   "source": [
    "### 튜플끼리 더하기\n",
    "\n",
    "튜플끼리 더하면 각 튜플에 들어있던 원소가 순서대로 합쳐짐. 이 때는 튜플이 수정된 것이 아니라 두 튜플이 합쳐져 새로운 튜플을 만든 것으로 이해해야 함"
   ]
  },
  {
   "cell_type": "code",
   "execution_count": 10,
   "id": "2e4af54d",
   "metadata": {},
   "outputs": [
    {
     "data": {
      "text/plain": [
       "('피카츄', '라이츄', '파이리', '꼬부기', '피카', '라이', '파이', '꼬북')"
      ]
     },
     "execution_count": 10,
     "metadata": {},
     "output_type": "execute_result"
    }
   ],
   "source": [
    "pokemon1 = ('피카츄', '라이츄', '파이리', '꼬부기')\n",
    "pokemon2 = ('피카', '라이', '파이', '꼬북')\n",
    "\n",
    "pokemon1 + pokemon2"
   ]
  },
  {
   "cell_type": "markdown",
   "id": "a5481e0a",
   "metadata": {},
   "source": [
    "### 튜플 반복하기"
   ]
  },
  {
   "cell_type": "code",
   "execution_count": 11,
   "id": "a07b304f",
   "metadata": {},
   "outputs": [
    {
     "data": {
      "text/plain": [
       "('피카츄',\n",
       " '라이츄',\n",
       " '파이리',\n",
       " '꼬부기',\n",
       " '피카츄',\n",
       " '라이츄',\n",
       " '파이리',\n",
       " '꼬부기',\n",
       " '피카츄',\n",
       " '라이츄',\n",
       " '파이리',\n",
       " '꼬부기')"
      ]
     },
     "execution_count": 11,
     "metadata": {},
     "output_type": "execute_result"
    }
   ],
   "source": [
    "pokemon_tuple * 3"
   ]
  },
  {
   "cell_type": "markdown",
   "id": "fef50bc9",
   "metadata": {},
   "source": [
    "# 특정 원소 포함여부 확인하기 in / not in\n",
    "\n",
    "리스트와 마찬가지로 튜플에서도 소속확인자 in / not in 을 이용해 특정 원소를 포함하고 있는지 여부를 확인할 수 있음"
   ]
  },
  {
   "cell_type": "code",
   "execution_count": 12,
   "id": "5c1a3a74",
   "metadata": {},
   "outputs": [
    {
     "data": {
      "text/plain": [
       "True"
      ]
     },
     "execution_count": 12,
     "metadata": {},
     "output_type": "execute_result"
    }
   ],
   "source": [
    "'피카츄' in pokemon_tuple"
   ]
  },
  {
   "cell_type": "markdown",
   "id": "38990b3f",
   "metadata": {},
   "source": [
    "# 튜플의 언패킹 unpacking\n",
    "\n",
    "언패킹할 때는 튜플에 있는 원소의 갯수만큼 변수를 할당해줌"
   ]
  },
  {
   "cell_type": "code",
   "execution_count": 13,
   "id": "08882809",
   "metadata": {},
   "outputs": [],
   "source": [
    "a = pokemon_tuple[0]\n",
    "b = pokemon_tuple[1]\n",
    "c = pokemon_tuple[2]\n",
    "d = pokemon_tuple[3]"
   ]
  },
  {
   "cell_type": "code",
   "execution_count": 14,
   "id": "4af4d14f",
   "metadata": {},
   "outputs": [
    {
     "data": {
      "text/plain": [
       "'피카츄'"
      ]
     },
     "execution_count": 14,
     "metadata": {},
     "output_type": "execute_result"
    }
   ],
   "source": [
    "a"
   ]
  },
  {
   "cell_type": "code",
   "execution_count": 15,
   "id": "9c53dd54",
   "metadata": {},
   "outputs": [
    {
     "data": {
      "text/plain": [
       "'라이츄'"
      ]
     },
     "execution_count": 15,
     "metadata": {},
     "output_type": "execute_result"
    }
   ],
   "source": [
    "b"
   ]
  },
  {
   "cell_type": "code",
   "execution_count": 16,
   "id": "88723bad",
   "metadata": {},
   "outputs": [
    {
     "data": {
      "text/plain": [
       "'파이리'"
      ]
     },
     "execution_count": 16,
     "metadata": {},
     "output_type": "execute_result"
    }
   ],
   "source": [
    "c"
   ]
  },
  {
   "cell_type": "code",
   "execution_count": 17,
   "id": "9131f54d",
   "metadata": {},
   "outputs": [
    {
     "data": {
      "text/plain": [
       "'꼬부기'"
      ]
     },
     "execution_count": 17,
     "metadata": {},
     "output_type": "execute_result"
    }
   ],
   "source": [
    "d"
   ]
  },
  {
   "cell_type": "code",
   "execution_count": 18,
   "id": "392203ef",
   "metadata": {},
   "outputs": [],
   "source": [
    "a, b, c, d = pokemon_tuple"
   ]
  },
  {
   "cell_type": "code",
   "execution_count": 19,
   "id": "b861f563",
   "metadata": {},
   "outputs": [
    {
     "data": {
      "text/plain": [
       "'피카츄'"
      ]
     },
     "execution_count": 19,
     "metadata": {},
     "output_type": "execute_result"
    }
   ],
   "source": [
    "a"
   ]
  },
  {
   "cell_type": "code",
   "execution_count": 20,
   "id": "4f40d9c0",
   "metadata": {},
   "outputs": [
    {
     "data": {
      "text/plain": [
       "'라이츄'"
      ]
     },
     "execution_count": 20,
     "metadata": {},
     "output_type": "execute_result"
    }
   ],
   "source": [
    "b"
   ]
  },
  {
   "cell_type": "code",
   "execution_count": 21,
   "id": "75cdb8e7",
   "metadata": {},
   "outputs": [
    {
     "data": {
      "text/plain": [
       "'파이리'"
      ]
     },
     "execution_count": 21,
     "metadata": {},
     "output_type": "execute_result"
    }
   ],
   "source": [
    "c"
   ]
  },
  {
   "cell_type": "code",
   "execution_count": 22,
   "id": "ba761dab",
   "metadata": {},
   "outputs": [
    {
     "data": {
      "text/plain": [
       "'꼬부기'"
      ]
     },
     "execution_count": 22,
     "metadata": {},
     "output_type": "execute_result"
    }
   ],
   "source": [
    "d"
   ]
  },
  {
   "cell_type": "markdown",
   "id": "a48a33f0",
   "metadata": {},
   "source": [
    "# 튜플을 리스트로, 리스트를 튜플로\n",
    "\n",
    "튜플과 리스트는 서로 자료구조를 쉽게 변경할 수 있음"
   ]
  },
  {
   "cell_type": "code",
   "execution_count": 23,
   "id": "07fc1424",
   "metadata": {},
   "outputs": [
    {
     "data": {
      "text/plain": [
       "tuple"
      ]
     },
     "execution_count": 23,
     "metadata": {},
     "output_type": "execute_result"
    }
   ],
   "source": [
    "t = tuple(pokemon_list)\n",
    "type(t)"
   ]
  },
  {
   "cell_type": "code",
   "execution_count": 24,
   "id": "17fdccc1",
   "metadata": {},
   "outputs": [
    {
     "data": {
      "text/plain": [
       "('피카츄', '라이츄', '파이리', '어니부기')"
      ]
     },
     "execution_count": 24,
     "metadata": {},
     "output_type": "execute_result"
    }
   ],
   "source": [
    "t"
   ]
  },
  {
   "cell_type": "code",
   "execution_count": 26,
   "id": "40a871aa",
   "metadata": {},
   "outputs": [
    {
     "data": {
      "text/plain": [
       "list"
      ]
     },
     "execution_count": 26,
     "metadata": {},
     "output_type": "execute_result"
    }
   ],
   "source": [
    "l = list(pokemon_tuple)\n",
    "type(l)"
   ]
  },
  {
   "cell_type": "code",
   "execution_count": 27,
   "id": "01dda9c0",
   "metadata": {},
   "outputs": [
    {
     "data": {
      "text/plain": [
       "['피카츄', '라이츄', '파이리', '꼬부기']"
      ]
     },
     "execution_count": 27,
     "metadata": {},
     "output_type": "execute_result"
    }
   ],
   "source": [
    "l"
   ]
  },
  {
   "cell_type": "markdown",
   "id": "e8910604",
   "metadata": {},
   "source": [
    "**튜플**은 원소를 수정할 수 없기 때문에 **연산 속도가 리스트보다 더 빠르다.** 그래서 **원소가 변하지 않는 경우**에는 리스트 대신 **튜플을 사용**하는 것이 좋다."
   ]
  }
 ],
 "metadata": {
  "kernelspec": {
   "display_name": "Python 3 (ipykernel)",
   "language": "python",
   "name": "python3"
  },
  "language_info": {
   "codemirror_mode": {
    "name": "ipython",
    "version": 3
   },
   "file_extension": ".py",
   "mimetype": "text/x-python",
   "name": "python",
   "nbconvert_exporter": "python",
   "pygments_lexer": "ipython3",
   "version": "3.9.7"
  }
 },
 "nbformat": 4,
 "nbformat_minor": 5
}
