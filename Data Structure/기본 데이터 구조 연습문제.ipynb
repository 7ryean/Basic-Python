{
 "cells": [
  {
   "cell_type": "markdown",
   "metadata": {
    "id": "NoHc29dihMEd"
   },
   "source": [
    "### **0. 파이썬 자료 구조와 함께 사용할 수 있는 내장 함수 소개**\n",
    "```python\n",
    ">>> max([1, 2, 3]) # 최댓깂\n",
    "3\n",
    "\n",
    ">>> min([1, 2, 3]) # 최솟값\n",
    "1\n",
    "\n",
    ">>> sum([1, 2, 3]) # 합계\n",
    "6\n",
    "\n",
    ">>> len([1, 2, 3]) # 길이\n",
    "3\n",
    "```\n",
    "\n",
    "💡참고\n",
    "\n",
    "* https://docs.python.org/ko/3/library/functions.html"
   ]
  },
  {
   "cell_type": "markdown",
   "metadata": {
    "id": "LkokwVcc3Of5"
   },
   "source": [
    "### **1. 아래 리스트에서 3번째 원소 ```'파이리'``` 를 출력해보세요.**\n",
    "\n",
    "```\n",
    "pokemon = ['피카츄', '라이츄', '파이리', '꼬부기']\n",
    "```"
   ]
  },
  {
   "cell_type": "code",
   "execution_count": 2,
   "metadata": {
    "id": "aeIUMj3flCz4"
   },
   "outputs": [
    {
     "data": {
      "text/plain": [
       "'파이리'"
      ]
     },
     "execution_count": 2,
     "metadata": {},
     "output_type": "execute_result"
    }
   ],
   "source": [
    "pokemon = ['피카츄', '라이츄', '파이리', '꼬부기']\n",
    "pokemon[2]"
   ]
  },
  {
   "cell_type": "markdown",
   "metadata": {
    "id": "EmcvJs7K423D"
   },
   "source": [
    "### **2. 슬라이싱을 이용해 위의 리스트 pokemon 의 1번째부터 3번째 원소까지 출력해보세요.**"
   ]
  },
  {
   "cell_type": "code",
   "execution_count": 13,
   "metadata": {
    "id": "1SD7a9FcDBCT"
   },
   "outputs": [
    {
     "data": {
      "text/plain": [
       "['피카츄', '라이츄', '파이리']"
      ]
     },
     "execution_count": 13,
     "metadata": {},
     "output_type": "execute_result"
    }
   ],
   "source": [
    "pokemon[:3]"
   ]
  },
  {
   "cell_type": "markdown",
   "metadata": {
    "id": "tEGTsEVf4g2f"
   },
   "source": [
    "### **3. 아래 리스트를 순서대로 정렬해보세요.**\n",
    "\n",
    "```a = [100, 5, 44, 20]```"
   ]
  },
  {
   "cell_type": "code",
   "execution_count": 8,
   "metadata": {
    "id": "dHfFoEQ1DSCK"
   },
   "outputs": [
    {
     "data": {
      "text/plain": [
       "[5, 20, 44, 100]"
      ]
     },
     "execution_count": 8,
     "metadata": {},
     "output_type": "execute_result"
    }
   ],
   "source": [
    "a = [100, 5, 44, 20]\n",
    "sorted(a)"
   ]
  },
  {
   "cell_type": "code",
   "execution_count": 12,
   "metadata": {},
   "outputs": [
    {
     "data": {
      "text/plain": [
       "[5, 20, 44, 100]"
      ]
     },
     "execution_count": 12,
     "metadata": {},
     "output_type": "execute_result"
    }
   ],
   "source": [
    "a = [100, 5, 44, 20]\n",
    "a.sort()\n",
    "a"
   ]
  },
  {
   "cell_type": "markdown",
   "metadata": {
    "id": "lxXjcO6W5FHl"
   },
   "source": [
    "### **4. 리스트 a 의 가장 큰 값을 출력해보세요.**\n",
    "> Tip. 내장함수 ```max()``` 를 사용해보세요."
   ]
  },
  {
   "cell_type": "code",
   "execution_count": 14,
   "metadata": {
    "id": "_MS_8PtIDTAx"
   },
   "outputs": [
    {
     "data": {
      "text/plain": [
       "100"
      ]
     },
     "execution_count": 14,
     "metadata": {},
     "output_type": "execute_result"
    }
   ],
   "source": [
    "max(a)"
   ]
  },
  {
   "cell_type": "markdown",
   "metadata": {
    "id": "TC0VhByX5FlS"
   },
   "source": [
    "### **5. 리스트 a 의 가장 작은 값을 출력해보세요.**\n",
    "> Tip. 내장함수 ```min()``` 을 사용해보세요."
   ]
  },
  {
   "cell_type": "code",
   "execution_count": 15,
   "metadata": {
    "id": "MO_7gMj5DThD"
   },
   "outputs": [
    {
     "data": {
      "text/plain": [
       "5"
      ]
     },
     "execution_count": 15,
     "metadata": {},
     "output_type": "execute_result"
    }
   ],
   "source": [
    "min(a)"
   ]
  },
  {
   "cell_type": "markdown",
   "metadata": {
    "id": "V_dJUwas3xtl"
   },
   "source": [
    "### **6. 아래 리스트의 평균을 구해보세요.**\n",
    "> Tip. 내장함수 ```len()```을 사용해보세요."
   ]
  },
  {
   "cell_type": "code",
   "execution_count": 16,
   "metadata": {
    "id": "kCFPCq_q4C1m"
   },
   "outputs": [
    {
     "data": {
      "text/plain": [
       "42.25"
      ]
     },
     "execution_count": 16,
     "metadata": {},
     "output_type": "execute_result"
    }
   ],
   "source": [
    "sum(a) / len(a)"
   ]
  },
  {
   "cell_type": "markdown",
   "metadata": {
    "id": "AeQZBdaiku4T"
   },
   "source": [
    "<!-- # 튜플\n",
    "\n",
    "변경이 안된다는 것?\n",
    "\n",
    "튜플 생성하기? - 어려운가\n",
    "\n",
    "메소드 사용하기 - packing?\n",
    "\n",
    "연산자 사용 - 더하기, 반복하기 **(요소 추가하기)** -->"
   ]
  },
  {
   "cell_type": "markdown",
   "metadata": {
    "id": "hBgaLaZI5Yzd"
   },
   "source": [
    "### **7. 아래 리스트에 `'잉어킹'`을 요소로 추가해보세요.**\n",
    "\n",
    "```water_type_pokemon = ['꼬부기', '수륙챙이', '미뇽', '갸랴도스']```"
   ]
  },
  {
   "cell_type": "code",
   "execution_count": 17,
   "metadata": {
    "id": "Y5zYMHRFkpIL"
   },
   "outputs": [
    {
     "data": {
      "text/plain": [
       "['꼬부기', '수륙챙이', '미뇽', '갸랴도스', '잉어킹']"
      ]
     },
     "execution_count": 17,
     "metadata": {},
     "output_type": "execute_result"
    }
   ],
   "source": [
    "water_type_pokemon = ['꼬부기', '수륙챙이', '미뇽', '갸랴도스']\n",
    "\n",
    "water_type_pokemon.append('잉어킹')\n",
    "water_type_pokemon"
   ]
  },
  {
   "cell_type": "markdown",
   "metadata": {
    "id": "g6UWXtetkvua"
   },
   "source": [
    "<!-- # 딕셔너리\n",
    "\n",
    "**키로 값 찾기**  -->"
   ]
  },
  {
   "cell_type": "markdown",
   "metadata": {
    "id": "M--6YTP86OmL"
   },
   "source": [
    "### **8. 아래 딕셔너리에서 `'꼬부기'`(key) 에 해당하는 값(value)을 출력해보세요.**\n",
    "\n",
    "```pokemon_evolution = {'피카츄':'라이츄', '꼬부기':'어니부기', '파이리':'리자드', '이상해씨':'이상해풀'}```"
   ]
  },
  {
   "cell_type": "code",
   "execution_count": 18,
   "metadata": {
    "id": "FJ4_ji9hlCO1"
   },
   "outputs": [
    {
     "data": {
      "text/plain": [
       "'어니부기'"
      ]
     },
     "execution_count": 18,
     "metadata": {},
     "output_type": "execute_result"
    }
   ],
   "source": [
    "pokemon_evolution = {'피카츄':'라이츄', '꼬부기':'어니부기', '파이리':'리자드', '이상해씨':'이상해풀'}\n",
    "\n",
    "pokemon_evolution['꼬부기']"
   ]
  },
  {
   "cell_type": "markdown",
   "metadata": {
    "id": "RREQ7jHxkw1z"
   },
   "source": [
    "<!-- # 셋\n",
    "\n",
    "중복이 없다는 것\n",
    "\n",
    "요소 추가 제거 - add update remove clear\n",
    "\n",
    "**셋 메소드 사용하기 - 합집합 교집합**\n",
    "\n",
    "**리스트의 중복 제거** -->"
   ]
  },
  {
   "cell_type": "markdown",
   "metadata": {
    "id": "_CWKdESh7XBi"
   },
   "source": [
    "### **9. 아래 리스트에서 중복을 제거해보세요.**\n",
    "> Tip. 중복을 허용하지 않는 데이터 구조를 사용하세요.\n",
    "\n",
    "```grass_type_pokemon = ['이상해씨', '이상해씨', '이상해풀', '이상해꽃', '이상해풀', '이상해씨']```"
   ]
  },
  {
   "cell_type": "code",
   "execution_count": 19,
   "metadata": {
    "id": "1yldWlcalCn-"
   },
   "outputs": [],
   "source": [
    "grass_type_pokemon = ['이상해씨', '이상해씨', '이상해풀', '이상해꽃', '이상해풀', '이상해씨']"
   ]
  },
  {
   "cell_type": "code",
   "execution_count": 20,
   "metadata": {},
   "outputs": [
    {
     "data": {
      "text/plain": [
       "{'이상해꽃', '이상해씨', '이상해풀'}"
      ]
     },
     "execution_count": 20,
     "metadata": {},
     "output_type": "execute_result"
    }
   ],
   "source": [
    "to_set = set(grass_type_pokemon)\n",
    "to_set"
   ]
  },
  {
   "cell_type": "markdown",
   "metadata": {
    "id": "75arCGEl7_ex"
   },
   "source": [
    "### **10. 아래 두 셋(set)에 있는 모든 요소를 합쳐서 출력해보세요.**\n",
    "\n",
    "```\n",
    "water_type_pokemon = {'꼬부기', '수륙챙이', '미뇽', '갸라도스'}\n",
    "rock_type_pokemon = {'꼬마돌', '롱스톤'}\n",
    "```"
   ]
  },
  {
   "cell_type": "code",
   "execution_count": 21,
   "metadata": {
    "id": "fcMQ-XN8CBGY"
   },
   "outputs": [
    {
     "data": {
      "text/plain": [
       "{'갸라도스', '꼬마돌', '꼬부기', '롱스톤', '미뇽', '수륙챙이'}"
      ]
     },
     "execution_count": 21,
     "metadata": {},
     "output_type": "execute_result"
    }
   ],
   "source": [
    "water_type_pokemon = {'꼬부기', '수륙챙이', '미뇽', '갸라도스'}\n",
    "rock_type_pokemon = {'꼬마돌', '롱스톤'}\n",
    "\n",
    "water_type_pokemon | rock_type_pokemon"
   ]
  },
  {
   "cell_type": "code",
   "execution_count": 22,
   "metadata": {},
   "outputs": [
    {
     "data": {
      "text/plain": [
       "{'갸라도스', '꼬마돌', '꼬부기', '롱스톤', '미뇽', '수륙챙이'}"
      ]
     },
     "execution_count": 22,
     "metadata": {},
     "output_type": "execute_result"
    }
   ],
   "source": [
    "water_type_pokemon.union(rock_type_pokemon)"
   ]
  }
 ],
 "metadata": {
  "colab": {
   "collapsed_sections": [],
   "name": "Section 3. 기본 데이터 구조 - 연습문제.ipynb",
   "provenance": []
  },
  "kernelspec": {
   "display_name": "Python 3 (ipykernel)",
   "language": "python",
   "name": "python3"
  },
  "language_info": {
   "codemirror_mode": {
    "name": "ipython",
    "version": 3
   },
   "file_extension": ".py",
   "mimetype": "text/x-python",
   "name": "python",
   "nbconvert_exporter": "python",
   "pygments_lexer": "ipython3",
   "version": "3.9.7"
  }
 },
 "nbformat": 4,
 "nbformat_minor": 1
}
