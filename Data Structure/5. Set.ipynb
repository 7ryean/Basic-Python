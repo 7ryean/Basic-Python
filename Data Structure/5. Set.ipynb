{
 "cells": [
  {
   "cell_type": "markdown",
   "id": "5842b25b",
   "metadata": {},
   "source": [
    "# 셋 Set\n",
    "\n",
    "Set은 중복된 요소가 없고 정해진 순서가 없는 데이터 집합.</br>\n",
    "실제로 우리가 수학시간에 배운 집합을 영어로 set이라고 함"
   ]
  },
  {
   "cell_type": "markdown",
   "id": "cff0ba96",
   "metadata": {},
   "source": [
    "## Set의 특징"
   ]
  },
  {
   "cell_type": "markdown",
   "id": "87591df4",
   "metadata": {},
   "source": [
    "### 1. 중복된 요소가 없음"
   ]
  },
  {
   "cell_type": "code",
   "execution_count": 1,
   "id": "de9f2f8e",
   "metadata": {},
   "outputs": [
    {
     "data": {
      "text/plain": [
       "set"
      ]
     },
     "execution_count": 1,
     "metadata": {},
     "output_type": "execute_result"
    }
   ],
   "source": [
    "a = {1, 2, 3, 3}\n",
    "\n",
    "type(a)"
   ]
  },
  {
   "cell_type": "code",
   "execution_count": 2,
   "id": "8cfa3631",
   "metadata": {},
   "outputs": [
    {
     "data": {
      "text/plain": [
       "{1, 2, 3}"
      ]
     },
     "execution_count": 2,
     "metadata": {},
     "output_type": "execute_result"
    }
   ],
   "source": [
    "a"
   ]
  },
  {
   "cell_type": "markdown",
   "id": "4be9b891",
   "metadata": {},
   "source": [
    "딕셔너리를 만들때와 똑같이 ```{ }``` 중괄호를 사용. 키:값 쌍이 들어가면 딕셔너리, 값만 들어가면 set"
   ]
  },
  {
   "cell_type": "markdown",
   "id": "9e64ff76",
   "metadata": {},
   "source": [
    "### 2. 순서가 없음\n",
    "\n",
    "리스트나 튜플과는 다르게 set은 순서, 인덱스가 없음</br>\n",
    "정해진 순서가 없기 때문에 인덱싱, 슬라이싱으로 데이터를 불러올 수 없음"
   ]
  },
  {
   "cell_type": "code",
   "execution_count": 3,
   "id": "0e893497",
   "metadata": {},
   "outputs": [
    {
     "ename": "TypeError",
     "evalue": "'set' object is not subscriptable",
     "output_type": "error",
     "traceback": [
      "\u001b[1;31m---------------------------------------------------------------------------\u001b[0m",
      "\u001b[1;31mTypeError\u001b[0m                                 Traceback (most recent call last)",
      "\u001b[1;32m~\\AppData\\Local\\Temp/ipykernel_2464/1109539928.py\u001b[0m in \u001b[0;36m<module>\u001b[1;34m\u001b[0m\n\u001b[1;32m----> 1\u001b[1;33m \u001b[0ma\u001b[0m\u001b[1;33m[\u001b[0m\u001b[1;36m0\u001b[0m\u001b[1;33m]\u001b[0m\u001b[1;33m\u001b[0m\u001b[1;33m\u001b[0m\u001b[0m\n\u001b[0m",
      "\u001b[1;31mTypeError\u001b[0m: 'set' object is not subscriptable"
     ]
    }
   ],
   "source": [
    "a[0]"
   ]
  },
  {
   "cell_type": "markdown",
   "id": "8f385dd9",
   "metadata": {},
   "source": [
    "## Set 만들기\n",
    "\n",
    "```{ }``` 중괄호를 사용해서 만들 수 있음.</br>\n",
    "하지만 빈 set을 만들 때는 꼭 ```set()```을 사용. 그렇지 않은 경우 딕셔너리로 인식"
   ]
  },
  {
   "cell_type": "code",
   "execution_count": 4,
   "id": "9020a482",
   "metadata": {},
   "outputs": [
    {
     "data": {
      "text/plain": [
       "dict"
      ]
     },
     "execution_count": 4,
     "metadata": {},
     "output_type": "execute_result"
    }
   ],
   "source": [
    "b = {}\n",
    "\n",
    "type(b)"
   ]
  },
  {
   "cell_type": "code",
   "execution_count": 5,
   "id": "94a67955",
   "metadata": {},
   "outputs": [
    {
     "data": {
      "text/plain": [
       "set"
      ]
     },
     "execution_count": 5,
     "metadata": {},
     "output_type": "execute_result"
    }
   ],
   "source": [
    "c = set()\n",
    "\n",
    "type(c)"
   ]
  },
  {
   "cell_type": "markdown",
   "id": "e9a307d5",
   "metadata": {},
   "source": [
    "## Set에 데이터 추가 제거하기"
   ]
  },
  {
   "cell_type": "markdown",
   "id": "391ca9a2",
   "metadata": {},
   "source": [
    "### 데이터 추가 add"
   ]
  },
  {
   "cell_type": "code",
   "execution_count": 6,
   "id": "bb9bf0c2",
   "metadata": {},
   "outputs": [
    {
     "data": {
      "text/plain": [
       "{1, 2, 3, 4}"
      ]
     },
     "execution_count": 6,
     "metadata": {},
     "output_type": "execute_result"
    }
   ],
   "source": [
    "a.add(4)\n",
    "\n",
    "a"
   ]
  },
  {
   "cell_type": "markdown",
   "id": "af92cd63",
   "metadata": {},
   "source": [
    "- 리스트의 경우 리스트 맨 끝에 추가하는 ```append```, 인덱스를 사용해 특정 위치에 추가하는 ```insert```가 있었음. 하지만 set은 순서가 없기 때문에 더해주기만 하면 됨"
   ]
  },
  {
   "cell_type": "markdown",
   "id": "63b4f72b",
   "metadata": {},
   "source": [
    "### 데이터 여러개 추가 update"
   ]
  },
  {
   "cell_type": "code",
   "execution_count": 7,
   "id": "3bd1cec7",
   "metadata": {},
   "outputs": [
    {
     "data": {
      "text/plain": [
       "{1, 2, 3, 4, 100, 200}"
      ]
     },
     "execution_count": 7,
     "metadata": {},
     "output_type": "execute_result"
    }
   ],
   "source": [
    "a.update([100, 200])\n",
    "\n",
    "a"
   ]
  },
  {
   "cell_type": "markdown",
   "id": "48312ee9",
   "metadata": {},
   "source": [
    "### 데이터 제거 remove"
   ]
  },
  {
   "cell_type": "code",
   "execution_count": 8,
   "id": "60f0e973",
   "metadata": {},
   "outputs": [
    {
     "data": {
      "text/plain": [
       "{1, 2, 3, 4, 200}"
      ]
     },
     "execution_count": 8,
     "metadata": {},
     "output_type": "execute_result"
    }
   ],
   "source": [
    "a.remove(100)\n",
    "\n",
    "a"
   ]
  },
  {
   "cell_type": "markdown",
   "id": "2c7526a7",
   "metadata": {},
   "source": [
    "### 데이터 모두 삭제 clear"
   ]
  },
  {
   "cell_type": "code",
   "execution_count": 11,
   "id": "6ecebb90",
   "metadata": {},
   "outputs": [
    {
     "data": {
      "text/plain": [
       "set()"
      ]
     },
     "execution_count": 11,
     "metadata": {},
     "output_type": "execute_result"
    }
   ],
   "source": [
    "a.clear()\n",
    "\n",
    "a"
   ]
  },
  {
   "cell_type": "markdown",
   "id": "b78d86ab",
   "metadata": {},
   "source": [
    "## 특정 원소 포함여부 확인하기 in / not in\n",
    "\n",
    "set에서도 리스트, 딕셔너리와 같이 in을 사용해서 특정 원소를 포함하고 있는지 확인할 수 있음"
   ]
  },
  {
   "cell_type": "code",
   "execution_count": 12,
   "id": "6992c26d",
   "metadata": {},
   "outputs": [
    {
     "data": {
      "text/plain": [
       "False"
      ]
     },
     "execution_count": 12,
     "metadata": {},
     "output_type": "execute_result"
    }
   ],
   "source": [
    "3 in a"
   ]
  },
  {
   "cell_type": "code",
   "execution_count": 13,
   "id": "a5c775ca",
   "metadata": {},
   "outputs": [],
   "source": [
    "a = {1, 2, 3}\n",
    "b = {3, 4, 5}"
   ]
  },
  {
   "cell_type": "code",
   "execution_count": 14,
   "id": "f353a4d0",
   "metadata": {},
   "outputs": [
    {
     "data": {
      "text/plain": [
       "True"
      ]
     },
     "execution_count": 14,
     "metadata": {},
     "output_type": "execute_result"
    }
   ],
   "source": [
    "1 in a"
   ]
  },
  {
   "cell_type": "code",
   "execution_count": 15,
   "id": "257286bc",
   "metadata": {},
   "outputs": [
    {
     "data": {
      "text/plain": [
       "False"
      ]
     },
     "execution_count": 15,
     "metadata": {},
     "output_type": "execute_result"
    }
   ],
   "source": [
    "100 in a"
   ]
  },
  {
   "cell_type": "markdown",
   "id": "a96218d2",
   "metadata": {},
   "source": [
    "## Set의 집합 연산"
   ]
  },
  {
   "cell_type": "markdown",
   "id": "a5ccabaa",
   "metadata": {},
   "source": [
    "### 합집합\n",
    "\n",
    "```|``` (or 연산자), ```union```"
   ]
  },
  {
   "cell_type": "code",
   "execution_count": 16,
   "id": "0512e49b",
   "metadata": {},
   "outputs": [
    {
     "data": {
      "text/plain": [
       "{1, 2, 3, 4, 5}"
      ]
     },
     "execution_count": 16,
     "metadata": {},
     "output_type": "execute_result"
    }
   ],
   "source": [
    "a | b"
   ]
  },
  {
   "cell_type": "code",
   "execution_count": 17,
   "id": "52372b12",
   "metadata": {},
   "outputs": [
    {
     "data": {
      "text/plain": [
       "{1, 2, 3, 4, 5}"
      ]
     },
     "execution_count": 17,
     "metadata": {},
     "output_type": "execute_result"
    }
   ],
   "source": [
    "a.union(b)"
   ]
  },
  {
   "cell_type": "markdown",
   "id": "04508691",
   "metadata": {},
   "source": [
    "### 교집합\n",
    "\n",
    "```&``` (and 연산자), ```intersection```"
   ]
  },
  {
   "cell_type": "code",
   "execution_count": 18,
   "id": "d16fbc79",
   "metadata": {},
   "outputs": [
    {
     "data": {
      "text/plain": [
       "{3}"
      ]
     },
     "execution_count": 18,
     "metadata": {},
     "output_type": "execute_result"
    }
   ],
   "source": [
    "a & b"
   ]
  },
  {
   "cell_type": "code",
   "execution_count": 19,
   "id": "7216d4bb",
   "metadata": {},
   "outputs": [
    {
     "data": {
      "text/plain": [
       "{3}"
      ]
     },
     "execution_count": 19,
     "metadata": {},
     "output_type": "execute_result"
    }
   ],
   "source": [
    "a.intersection(b)"
   ]
  },
  {
   "cell_type": "markdown",
   "id": "44fe4ae5",
   "metadata": {},
   "source": [
    "### 차집합\n",
    "\n",
    "```-```, ```difference```"
   ]
  },
  {
   "cell_type": "code",
   "execution_count": 20,
   "id": "c805562e",
   "metadata": {},
   "outputs": [
    {
     "data": {
      "text/plain": [
       "{1, 2}"
      ]
     },
     "execution_count": 20,
     "metadata": {},
     "output_type": "execute_result"
    }
   ],
   "source": [
    "a - b"
   ]
  },
  {
   "cell_type": "code",
   "execution_count": 21,
   "id": "1fa48c35",
   "metadata": {},
   "outputs": [
    {
     "data": {
      "text/plain": [
       "{1, 2}"
      ]
     },
     "execution_count": 21,
     "metadata": {},
     "output_type": "execute_result"
    }
   ],
   "source": [
    "a.difference(b)"
   ]
  },
  {
   "cell_type": "code",
   "execution_count": 22,
   "id": "4c9e96a6",
   "metadata": {},
   "outputs": [
    {
     "data": {
      "text/plain": [
       "{4, 5}"
      ]
     },
     "execution_count": 22,
     "metadata": {},
     "output_type": "execute_result"
    }
   ],
   "source": [
    "b - a"
   ]
  },
  {
   "cell_type": "code",
   "execution_count": 23,
   "id": "b84b869d",
   "metadata": {},
   "outputs": [
    {
     "data": {
      "text/plain": [
       "{4, 5}"
      ]
     },
     "execution_count": 23,
     "metadata": {},
     "output_type": "execute_result"
    }
   ],
   "source": [
    "b.difference(a)"
   ]
  },
  {
   "cell_type": "markdown",
   "id": "38003708",
   "metadata": {},
   "source": [
    "### 대칭차\n",
    "\n",
    "```^```, ```symmetric_difference```\n",
    "- a와 b의 합집합에서 교집합을 뺀 것"
   ]
  },
  {
   "cell_type": "code",
   "execution_count": 24,
   "id": "055da572",
   "metadata": {},
   "outputs": [
    {
     "data": {
      "text/plain": [
       "{1, 2, 4, 5}"
      ]
     },
     "execution_count": 24,
     "metadata": {},
     "output_type": "execute_result"
    }
   ],
   "source": [
    "a ^ b"
   ]
  },
  {
   "cell_type": "code",
   "execution_count": 25,
   "id": "e33ac5b6",
   "metadata": {},
   "outputs": [
    {
     "data": {
      "text/plain": [
       "{1, 2, 4, 5}"
      ]
     },
     "execution_count": 25,
     "metadata": {},
     "output_type": "execute_result"
    }
   ],
   "source": [
    "a.symmetric_difference(b)"
   ]
  },
  {
   "cell_type": "markdown",
   "id": "9e9165bc",
   "metadata": {},
   "source": [
    "## Set끼리 부분집합 여부를 확인하기"
   ]
  },
  {
   "cell_type": "markdown",
   "id": "1cc96cf8",
   "metadata": {},
   "source": [
    "### issubset\n",
    "\n",
    "```issubset``` 메소드로 부분집합 여부를 확인할 수 있음</br>\n",
    "a는 b의 부분집합일 때 ```a.issubset(b)```는 ```True```를 반환"
   ]
  },
  {
   "cell_type": "code",
   "execution_count": 26,
   "id": "4b8290d4",
   "metadata": {},
   "outputs": [
    {
     "data": {
      "text/plain": [
       "False"
      ]
     },
     "execution_count": 26,
     "metadata": {},
     "output_type": "execute_result"
    }
   ],
   "source": [
    "a = {1, 2, 3, 4, 5}\n",
    "b = {1, 2, 3}\n",
    "\n",
    "a.issubset(b)"
   ]
  },
  {
   "cell_type": "code",
   "execution_count": 27,
   "id": "c6ad7646",
   "metadata": {},
   "outputs": [
    {
     "data": {
      "text/plain": [
       "True"
      ]
     },
     "execution_count": 27,
     "metadata": {},
     "output_type": "execute_result"
    }
   ],
   "source": [
    "b.issubset(a)"
   ]
  },
  {
   "cell_type": "markdown",
   "id": "a5a41f71",
   "metadata": {},
   "source": [
    "### issuperset\n",
    "\n",
    "a가 b를 포함할 때 ```a.issuperset(b)```는 ```True```를 반환"
   ]
  },
  {
   "cell_type": "code",
   "execution_count": 28,
   "id": "47803594",
   "metadata": {},
   "outputs": [
    {
     "data": {
      "text/plain": [
       "True"
      ]
     },
     "execution_count": 28,
     "metadata": {},
     "output_type": "execute_result"
    }
   ],
   "source": [
    "a.issuperset(b)"
   ]
  },
  {
   "cell_type": "code",
   "execution_count": 29,
   "id": "93a04fe3",
   "metadata": {},
   "outputs": [
    {
     "data": {
      "text/plain": [
       "False"
      ]
     },
     "execution_count": 29,
     "metadata": {},
     "output_type": "execute_result"
    }
   ],
   "source": [
    "b.issuperset(a)"
   ]
  },
  {
   "cell_type": "markdown",
   "id": "0af9a077",
   "metadata": {},
   "source": [
    "### isdisjoint\n",
    "\n",
    "```isdisjoint``` 메소드는 교집합이 없을 때 ```True```를 반환해 줌"
   ]
  },
  {
   "cell_type": "code",
   "execution_count": 30,
   "id": "7f7096ca",
   "metadata": {},
   "outputs": [
    {
     "data": {
      "text/plain": [
       "False"
      ]
     },
     "execution_count": 30,
     "metadata": {},
     "output_type": "execute_result"
    }
   ],
   "source": [
    "a.isdisjoint(b)"
   ]
  },
  {
   "cell_type": "code",
   "execution_count": 31,
   "id": "109673f2",
   "metadata": {},
   "outputs": [
    {
     "data": {
      "text/plain": [
       "True"
      ]
     },
     "execution_count": 31,
     "metadata": {},
     "output_type": "execute_result"
    }
   ],
   "source": [
    "a = {1, 2, 3}\n",
    "b = {4, 5, 6}\n",
    "\n",
    "a.isdisjoint(b)"
   ]
  },
  {
   "cell_type": "markdown",
   "id": "5d054780",
   "metadata": {},
   "source": [
    "**참고**\n",
    "\n",
    "* https://docs.python.org/ko/3.6/library/stdtypes.html#set"
   ]
  }
 ],
 "metadata": {
  "kernelspec": {
   "display_name": "Python 3 (ipykernel)",
   "language": "python",
   "name": "python3"
  },
  "language_info": {
   "codemirror_mode": {
    "name": "ipython",
    "version": 3
   },
   "file_extension": ".py",
   "mimetype": "text/x-python",
   "name": "python",
   "nbconvert_exporter": "python",
   "pygments_lexer": "ipython3",
   "version": "3.9.7"
  }
 },
 "nbformat": 4,
 "nbformat_minor": 5
}
