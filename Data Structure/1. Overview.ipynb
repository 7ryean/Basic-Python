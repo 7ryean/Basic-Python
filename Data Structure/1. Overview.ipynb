{
 "cells": [
  {
   "cell_type": "markdown",
   "id": "680b490b",
   "metadata": {},
   "source": [
    "# Python 기본 데이터 구조\n",
    "\n",
    "앞에서 파이썬의 간단한 데이터 타입인 int, float, bool, str 등을 살펴봤음.</br>\n",
    "파이썬은 다른 데이터 타입을 포함할 수 있는 데이터 구조 몇 개를 기본으로 가지고 있음"
   ]
  },
  {
   "cell_type": "markdown",
   "id": "05c8b7f1",
   "metadata": {},
   "source": [
    "## 리스트 List\n",
    "\n",
    "리스트는 숫자, 문자, 불리언 등 기본 데이터 타입이 **순서대로** 들어가 있는 데이터 구조\n",
    "```python\n",
    "a = [1, 2, 3, 4, 5]\n",
    "b = ['피카츄', '라이츄', '파이리', '꼬부기']\n",
    "```"
   ]
  },
  {
   "cell_type": "code",
   "execution_count": 1,
   "id": "274efec5",
   "metadata": {},
   "outputs": [
    {
     "data": {
      "text/plain": [
       "[1, 2, 3, 4, 5]"
      ]
     },
     "execution_count": 1,
     "metadata": {},
     "output_type": "execute_result"
    }
   ],
   "source": [
    "a = [1, 2, 3, 4, 5]\n",
    "a"
   ]
  },
  {
   "cell_type": "markdown",
   "id": "4a1bb724",
   "metadata": {},
   "source": [
    "### 리스트 맨 뒤에 값 추가 append"
   ]
  },
  {
   "cell_type": "code",
   "execution_count": 2,
   "id": "93af09bf",
   "metadata": {},
   "outputs": [
    {
     "data": {
      "text/plain": [
       "[1, 2, 3, 4, 5, 6]"
      ]
     },
     "execution_count": 2,
     "metadata": {},
     "output_type": "execute_result"
    }
   ],
   "source": [
    "a.append(6)\n",
    "a"
   ]
  },
  {
   "cell_type": "code",
   "execution_count": 3,
   "id": "87deae20",
   "metadata": {},
   "outputs": [
    {
     "data": {
      "text/plain": [
       "[1, 2, 3, 4, 5, 6, [1, 2, 3]]"
      ]
     },
     "execution_count": 3,
     "metadata": {},
     "output_type": "execute_result"
    }
   ],
   "source": [
    "a.append([1, 2, 3])\n",
    "a"
   ]
  },
  {
   "cell_type": "markdown",
   "id": "987d6e3a",
   "metadata": {},
   "source": [
    "## 튜플 Tuple\n",
    "\n",
    "튜플은 리스트와 같이 기본 데이터 타입이 **순서대로** 들어가 있는 데이터 구조 </br>\n",
    "튜플에서는 **원소를 수정할 수 없다**는 점이 리스트와 다른 점\n",
    "```python\n",
    "c = (1, 2, 3, 4, 5)\n",
    "d = ('피카츄', '라이츄', '파이리', '꼬부기')\n",
    "```"
   ]
  },
  {
   "cell_type": "code",
   "execution_count": 4,
   "id": "940e3fdc",
   "metadata": {},
   "outputs": [
    {
     "data": {
      "text/plain": [
       "(1, 2, 3, 4, 5)"
      ]
     },
     "execution_count": 4,
     "metadata": {},
     "output_type": "execute_result"
    }
   ],
   "source": [
    "t = (1, 2, 3, 4, 5)\n",
    "t"
   ]
  },
  {
   "cell_type": "code",
   "execution_count": 5,
   "id": "77f65503",
   "metadata": {},
   "outputs": [
    {
     "data": {
      "text/plain": [
       "1"
      ]
     },
     "execution_count": 5,
     "metadata": {},
     "output_type": "execute_result"
    }
   ],
   "source": [
    "t[0]"
   ]
  },
  {
   "cell_type": "code",
   "execution_count": 6,
   "id": "4faef1e4",
   "metadata": {},
   "outputs": [
    {
     "data": {
      "text/plain": [
       "4"
      ]
     },
     "execution_count": 6,
     "metadata": {},
     "output_type": "execute_result"
    }
   ],
   "source": [
    "t[3]"
   ]
  },
  {
   "cell_type": "code",
   "execution_count": 7,
   "id": "4c281727",
   "metadata": {},
   "outputs": [
    {
     "data": {
      "text/plain": [
       "5"
      ]
     },
     "execution_count": 7,
     "metadata": {},
     "output_type": "execute_result"
    }
   ],
   "source": [
    "t[-1]"
   ]
  },
  {
   "cell_type": "markdown",
   "id": "5dbe8d8d",
   "metadata": {},
   "source": [
    "**리스트와 다른 점** </br>\n",
    "리스트는 원소를 수정할 수 있음"
   ]
  },
  {
   "cell_type": "code",
   "execution_count": 8,
   "id": "6490723e",
   "metadata": {},
   "outputs": [
    {
     "data": {
      "text/plain": [
       "[1, 2, 3, 4, 5, 6, [1, 2, 3]]"
      ]
     },
     "execution_count": 8,
     "metadata": {},
     "output_type": "execute_result"
    }
   ],
   "source": [
    "a"
   ]
  },
  {
   "cell_type": "code",
   "execution_count": 9,
   "id": "43b75c81",
   "metadata": {},
   "outputs": [
    {
     "data": {
      "text/plain": [
       "[100, 2, 3, 4, 5, 6, [1, 2, 3]]"
      ]
     },
     "execution_count": 9,
     "metadata": {},
     "output_type": "execute_result"
    }
   ],
   "source": [
    "a[0] = 100\n",
    "a"
   ]
  },
  {
   "cell_type": "markdown",
   "id": "cd89a0eb",
   "metadata": {},
   "source": [
    "튜플은 원소를 수정할 수 없음"
   ]
  },
  {
   "cell_type": "code",
   "execution_count": 10,
   "id": "234d9d49",
   "metadata": {},
   "outputs": [
    {
     "data": {
      "text/plain": [
       "(1, 2, 3, 4, 5)"
      ]
     },
     "execution_count": 10,
     "metadata": {},
     "output_type": "execute_result"
    }
   ],
   "source": [
    "t"
   ]
  },
  {
   "cell_type": "code",
   "execution_count": 11,
   "id": "f9cec7b9",
   "metadata": {},
   "outputs": [
    {
     "ename": "TypeError",
     "evalue": "'tuple' object does not support item assignment",
     "output_type": "error",
     "traceback": [
      "\u001b[1;31m---------------------------------------------------------------------------\u001b[0m",
      "\u001b[1;31mTypeError\u001b[0m                                 Traceback (most recent call last)",
      "\u001b[1;32m~\\AppData\\Local\\Temp/ipykernel_12692/219955236.py\u001b[0m in \u001b[0;36m<module>\u001b[1;34m\u001b[0m\n\u001b[1;32m----> 1\u001b[1;33m \u001b[0mt\u001b[0m\u001b[1;33m[\u001b[0m\u001b[1;36m0\u001b[0m\u001b[1;33m]\u001b[0m \u001b[1;33m=\u001b[0m \u001b[1;36m100\u001b[0m\u001b[1;33m\u001b[0m\u001b[1;33m\u001b[0m\u001b[0m\n\u001b[0m\u001b[0;32m      2\u001b[0m \u001b[0mt\u001b[0m\u001b[1;33m\u001b[0m\u001b[1;33m\u001b[0m\u001b[0m\n",
      "\u001b[1;31mTypeError\u001b[0m: 'tuple' object does not support item assignment"
     ]
    }
   ],
   "source": [
    "t[0] = 100\n",
    "t"
   ]
  },
  {
   "cell_type": "markdown",
   "id": "cbc026b3",
   "metadata": {},
   "source": [
    "## 셋 Set\n",
    "\n",
    "셋은 기본 데이터 타입이 **순서가 없이** 들어가 있는 데이터 구조 </br>\n",
    "원소의 **중복을 허용하지 않음**\n",
    "```python \n",
    "e = {1, 2, 3, 4, 5}\n",
    "f = {'피카츄', '라이츄', '파이리', '꼬부기'}\n",
    "```"
   ]
  },
  {
   "cell_type": "code",
   "execution_count": 12,
   "id": "16c4e668",
   "metadata": {},
   "outputs": [
    {
     "data": {
      "text/plain": [
       "{1, 2, 3, 4, 5}"
      ]
     },
     "execution_count": 12,
     "metadata": {},
     "output_type": "execute_result"
    }
   ],
   "source": [
    "e = {1, 2, 3, 4, 5}\n",
    "e"
   ]
  },
  {
   "cell_type": "code",
   "execution_count": 13,
   "id": "4822cb95",
   "metadata": {},
   "outputs": [
    {
     "ename": "TypeError",
     "evalue": "'set' object is not subscriptable",
     "output_type": "error",
     "traceback": [
      "\u001b[1;31m---------------------------------------------------------------------------\u001b[0m",
      "\u001b[1;31mTypeError\u001b[0m                                 Traceback (most recent call last)",
      "\u001b[1;32m~\\AppData\\Local\\Temp/ipykernel_12692/1187381072.py\u001b[0m in \u001b[0;36m<module>\u001b[1;34m\u001b[0m\n\u001b[1;32m----> 1\u001b[1;33m \u001b[0me\u001b[0m\u001b[1;33m[\u001b[0m\u001b[1;36m0\u001b[0m\u001b[1;33m]\u001b[0m\u001b[1;33m\u001b[0m\u001b[1;33m\u001b[0m\u001b[0m\n\u001b[0m",
      "\u001b[1;31mTypeError\u001b[0m: 'set' object is not subscriptable"
     ]
    }
   ],
   "source": [
    "e[0]"
   ]
  },
  {
   "cell_type": "markdown",
   "id": "4ffb50ce",
   "metadata": {},
   "source": [
    "셋은 순서가 없기 때문에 인덱스를 사용할 수 없음"
   ]
  },
  {
   "cell_type": "code",
   "execution_count": 14,
   "id": "b2b3cdb7",
   "metadata": {},
   "outputs": [
    {
     "data": {
      "text/plain": [
       "{1, 2, 3, 4}"
      ]
     },
     "execution_count": 14,
     "metadata": {},
     "output_type": "execute_result"
    }
   ],
   "source": [
    "f = {1, 2, 3, 4, 4}\n",
    "f"
   ]
  },
  {
   "cell_type": "markdown",
   "id": "febac839",
   "metadata": {},
   "source": [
    "셋은 중복을 허용하지 않음"
   ]
  },
  {
   "cell_type": "markdown",
   "id": "610a12f8",
   "metadata": {},
   "source": [
    "### 리스트, 튜플(순서있음) vs 셋(순서없음)"
   ]
  },
  {
   "cell_type": "code",
   "execution_count": 15,
   "id": "cb7b5d48",
   "metadata": {},
   "outputs": [
    {
     "data": {
      "text/plain": [
       "100"
      ]
     },
     "execution_count": 15,
     "metadata": {},
     "output_type": "execute_result"
    }
   ],
   "source": [
    "a[0]"
   ]
  },
  {
   "cell_type": "code",
   "execution_count": 16,
   "id": "1d94ccaf",
   "metadata": {},
   "outputs": [
    {
     "data": {
      "text/plain": [
       "1"
      ]
     },
     "execution_count": 16,
     "metadata": {},
     "output_type": "execute_result"
    }
   ],
   "source": [
    "t[0]"
   ]
  },
  {
   "cell_type": "code",
   "execution_count": 17,
   "id": "6d4084fe",
   "metadata": {},
   "outputs": [
    {
     "ename": "TypeError",
     "evalue": "'set' object is not subscriptable",
     "output_type": "error",
     "traceback": [
      "\u001b[1;31m---------------------------------------------------------------------------\u001b[0m",
      "\u001b[1;31mTypeError\u001b[0m                                 Traceback (most recent call last)",
      "\u001b[1;32m~\\AppData\\Local\\Temp/ipykernel_12692/1187381072.py\u001b[0m in \u001b[0;36m<module>\u001b[1;34m\u001b[0m\n\u001b[1;32m----> 1\u001b[1;33m \u001b[0me\u001b[0m\u001b[1;33m[\u001b[0m\u001b[1;36m0\u001b[0m\u001b[1;33m]\u001b[0m\u001b[1;33m\u001b[0m\u001b[1;33m\u001b[0m\u001b[0m\n\u001b[0m",
      "\u001b[1;31mTypeError\u001b[0m: 'set' object is not subscriptable"
     ]
    }
   ],
   "source": [
    "e[0]"
   ]
  },
  {
   "cell_type": "markdown",
   "id": "416ab86e",
   "metadata": {},
   "source": [
    "### 리스트, 튜플(중복 허용) vs 셋(중복 비허용)"
   ]
  },
  {
   "cell_type": "code",
   "execution_count": 18,
   "id": "cc6110ea",
   "metadata": {},
   "outputs": [
    {
     "data": {
      "text/plain": [
       "[1, 2, 3, 4, 4]"
      ]
     },
     "execution_count": 18,
     "metadata": {},
     "output_type": "execute_result"
    }
   ],
   "source": [
    "a = [1, 2, 3, 4, 4]\n",
    "a"
   ]
  },
  {
   "cell_type": "code",
   "execution_count": 19,
   "id": "e8db2c8e",
   "metadata": {},
   "outputs": [
    {
     "data": {
      "text/plain": [
       "(1, 2, 3, 4, 4)"
      ]
     },
     "execution_count": 19,
     "metadata": {},
     "output_type": "execute_result"
    }
   ],
   "source": [
    "b = (1, 2, 3, 4, 4)\n",
    "b"
   ]
  },
  {
   "cell_type": "code",
   "execution_count": 20,
   "id": "f4e76c46",
   "metadata": {},
   "outputs": [
    {
     "data": {
      "text/plain": [
       "{1, 2, 3, 4}"
      ]
     },
     "execution_count": 20,
     "metadata": {},
     "output_type": "execute_result"
    }
   ],
   "source": [
    "c = {1, 2, 3, 4, 4}\n",
    "c"
   ]
  },
  {
   "cell_type": "markdown",
   "id": "548bbd85",
   "metadata": {},
   "source": [
    "## 딕셔너리 Dictionary\n",
    "\n",
    "딕셔너리는 앞서 보았던 데이터 구조들과는 조금 다름</br>\n",
    "```키 key``` 와 ```값 value```의 쌍으로 이루어진 원소를 가진 데이터 구조\n",
    "```python\n",
    "g = {'피카츄' : '전기', '파이리' : '불', '꼬부기' : '물'}\n",
    "```\n",
    "\n",
    "위의 딕셔너리에서는 ```'피카츄' '파이리' '꼬부기'``` 가 ```키 key```가 되고 </br>\n",
    "```'전기' '불' '물'```이 ```값 value```가 됨\n"
   ]
  },
  {
   "cell_type": "code",
   "execution_count": 21,
   "id": "dae19fa7",
   "metadata": {},
   "outputs": [
    {
     "data": {
      "text/plain": [
       "{'피카츄': '전기', '파이리': '불', '꼬부기': '물'}"
      ]
     },
     "execution_count": 21,
     "metadata": {},
     "output_type": "execute_result"
    }
   ],
   "source": [
    "d = {'피카츄' : '전기', '파이리' : '불', '꼬부기' : '물'}\n",
    "d"
   ]
  },
  {
   "cell_type": "markdown",
   "id": "8b7fddcc",
   "metadata": {},
   "source": [
    "리스트나 튜플은 인덱스를 사용해 원소에 접근하지만 딕셔너리는 키를 가지고 접근"
   ]
  },
  {
   "cell_type": "code",
   "execution_count": 22,
   "id": "a09eb48e",
   "metadata": {},
   "outputs": [
    {
     "data": {
      "text/plain": [
       "'전기'"
      ]
     },
     "execution_count": 22,
     "metadata": {},
     "output_type": "execute_result"
    }
   ],
   "source": [
    "d['피카츄']"
   ]
  },
  {
   "cell_type": "markdown",
   "id": "6869f94f",
   "metadata": {},
   "source": [
    "## 기본 데이터 구조 특징\n",
    "\n",
    "![기본 데이터 구조 특징.PNG](data:image/png;base64,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)"
   ]
  },
  {
   "cell_type": "markdown",
   "id": "ed25eb55",
   "metadata": {},
   "source": [
    "**참고**\n",
    "\n",
    "* [기본 데이터 구조](https://tensorflow.blog/%ed%9a%8c%ec%98%a4%eb%a6%ac%eb%b0%94%eb%9e%8c%ec%9d%84-%ed%83%84-%ed%8c%8c%ec%9d%b4%ec%8d%ac/%ea%b8%b0%eb%b3%b8-%eb%8d%b0%ec%9d%b4%ed%84%b0-%ea%b5%ac%ec%a1%b0/)\n",
    "* https://docs.python.org/3.11/tutorial/datastructures.html?highlight=tuple\n",
    "* https://docs.python.org/3/library/collections.html"
   ]
  }
 ],
 "metadata": {
  "kernelspec": {
   "display_name": "Python 3 (ipykernel)",
   "language": "python",
   "name": "python3"
  },
  "language_info": {
   "codemirror_mode": {
    "name": "ipython",
    "version": 3
   },
   "file_extension": ".py",
   "mimetype": "text/x-python",
   "name": "python",
   "nbconvert_exporter": "python",
   "pygments_lexer": "ipython3",
   "version": "3.9.7"
  }
 },
 "nbformat": 4,
 "nbformat_minor": 5
}
