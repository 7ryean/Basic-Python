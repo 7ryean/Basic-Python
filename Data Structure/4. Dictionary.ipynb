{
 "cells": [
  {
   "cell_type": "markdown",
   "id": "0e391a22",
   "metadata": {},
   "source": [
    "# 딕셔너리 Dictionary\n",
    "\n",
    "리스트, 튜플과 함께 자주 사용되는 자료구조. 사전이라는 뜻처럼, **키 key**와 **값 value**로 쌍을 이루어진 구조\n",
    "\n",
    "```\n",
    "사과 : 빨강\n",
    "바나나 : 노랑\n",
    "포도 : 보라\n",
    "메론 : 연두\n",
    "```\n",
    "위와 같은 과일과 색에 대한 사전을 만든다고 가정했을 때\n",
    "\n",
    "```python\n",
    "# 리스트\n",
    "['사과', '바나나', '포도', '메론']\n",
    "['빨강', '노랑', '보라', '연두']\n",
    "# 튜플\n",
    "('사과', '바나나', '포도', '메론')\n",
    "('빨강', '노랑', '보라', '연두')\n",
    "```\n",
    "리스트나 튜플은 값을 하나씩 저장할 수는 있지만, 서로 연관된 두 개의 데이터를 딕셔너리처럼 저장하지는 못함"
   ]
  },
  {
   "cell_type": "markdown",
   "id": "f5d1edd7",
   "metadata": {},
   "source": [
    "## 딕셔너리 만들고 수정하기"
   ]
  },
  {
   "cell_type": "markdown",
   "id": "bafb6439",
   "metadata": {},
   "source": [
    "### 빈 딕셔너리 만들기\n",
    "\n",
    "딕셔너리는 ```{ }``` 중괄호를 사용해 만들 수 있음"
   ]
  },
  {
   "cell_type": "code",
   "execution_count": 1,
   "id": "fb053d44",
   "metadata": {},
   "outputs": [
    {
     "data": {
      "text/plain": [
       "dict"
      ]
     },
     "execution_count": 1,
     "metadata": {},
     "output_type": "execute_result"
    }
   ],
   "source": [
    "fruit_color = {}\n",
    "type(fruit_color)"
   ]
  },
  {
   "cell_type": "markdown",
   "id": "913199c5",
   "metadata": {},
   "source": [
    "### 데이터 추가\n",
    "\n",
    "딕셔너리는 순서 즉 인덱스가 없고, 키가 없는 값, 값이 없는 키는 넣을 수 없음. </br>\n",
    "그래서 리스트에서 사용했던 ```append```나 ```insert``` 같은 메서드를 지원하지 않기 때문에, 명시적으로 키-값 쌍을 넣어줘야 함.\n",
    "- 튜플에서는 어떤 메서드가 있었지? 튜플은 값의 추가, 삭제, 변경이 불가능!"
   ]
  },
  {
   "cell_type": "code",
   "execution_count": 2,
   "id": "f1a8b1fc",
   "metadata": {},
   "outputs": [],
   "source": [
    "fruit_color['사과'] = '빨강'"
   ]
  },
  {
   "cell_type": "code",
   "execution_count": 3,
   "id": "40e3ba48",
   "metadata": {},
   "outputs": [
    {
     "data": {
      "text/plain": [
       "{'사과': '빨강'}"
      ]
     },
     "execution_count": 3,
     "metadata": {},
     "output_type": "execute_result"
    }
   ],
   "source": [
    "fruit_color"
   ]
  },
  {
   "cell_type": "code",
   "execution_count": 4,
   "id": "f554ac7d",
   "metadata": {},
   "outputs": [
    {
     "data": {
      "text/plain": [
       "{'사과': '빨강', '바나나': '노랑', '포도': '보라', '메론': '연두'}"
      ]
     },
     "execution_count": 4,
     "metadata": {},
     "output_type": "execute_result"
    }
   ],
   "source": [
    "fruit_color['바나나'] = '노랑'\n",
    "fruit_color['포도'] = '보라'\n",
    "fruit_color['메론'] = '연두'\n",
    "\n",
    "fruit_color"
   ]
  },
  {
   "cell_type": "code",
   "execution_count": 5,
   "id": "f86e0583",
   "metadata": {},
   "outputs": [
    {
     "data": {
      "text/plain": [
       "4"
      ]
     },
     "execution_count": 5,
     "metadata": {},
     "output_type": "execute_result"
    }
   ],
   "source": [
    "len(fruit_color)"
   ]
  },
  {
   "cell_type": "markdown",
   "id": "08636c3f",
   "metadata": {},
   "source": [
    "키 key와 값 value가 한 쌍으로 계산되어 8개처럼 보이지만 사실은 4개!"
   ]
  },
  {
   "cell_type": "markdown",
   "id": "28ca0751",
   "metadata": {},
   "source": [
    "### 초기값을 넣어서 만들기\n",
    "\n",
    "빈 딕셔너리를 만든 후 값을 넣을 수도 있지만, 초기값을 넣어서 딕셔너리를 생성할 수도 있음\n",
    "```python\n",
    "딕셔너리_이름 = {키1 : 값1, 키2 : 값2, 키3 : 값3, ... }\n",
    "```"
   ]
  },
  {
   "cell_type": "code",
   "execution_count": 6,
   "id": "e5e861ec",
   "metadata": {},
   "outputs": [
    {
     "data": {
      "text/plain": [
       "{'사과': '빨강', '바나나': '노랑', '메론': '초록'}"
      ]
     },
     "execution_count": 6,
     "metadata": {},
     "output_type": "execute_result"
    }
   ],
   "source": [
    "fruit_color = {'사과' : '빨강', '바나나' : '노랑', '메론' : '초록'}\n",
    "\n",
    "fruit_color"
   ]
  },
  {
   "cell_type": "code",
   "execution_count": 7,
   "id": "90768d39",
   "metadata": {},
   "outputs": [
    {
     "data": {
      "text/plain": [
       "{'사과': '빨강', '바나나': '노랑', '메론': '초록', '포도': '보라'}"
      ]
     },
     "execution_count": 7,
     "metadata": {},
     "output_type": "execute_result"
    }
   ],
   "source": [
    "fruit_color['포도'] = '보라'\n",
    "\n",
    "fruit_color"
   ]
  },
  {
   "cell_type": "markdown",
   "id": "5eaae845",
   "metadata": {},
   "source": [
    "빈 딕셔너리를 만든 후 값을 추가한 것처럼 초기값을 넣어 만든 후에도 값 추가 가능"
   ]
  },
  {
   "cell_type": "markdown",
   "id": "ec83412a",
   "metadata": {},
   "source": [
    "### 데이터 삭제\n",
    "\n",
    "딕셔너리에 저장된 데이터를 삭제하려면 리스트와 마찬가지로 ```del```을 사용\n",
    "```python\n",
    "del 딕셔너리_이름[삭제할_키]\n",
    "```\n",
    "\n",
    "- 리스트의 경우 ```del 리스트_이름[인덱스번호]```"
   ]
  },
  {
   "cell_type": "code",
   "execution_count": 8,
   "id": "b454df46",
   "metadata": {},
   "outputs": [
    {
     "data": {
      "text/plain": [
       "{'사과': '빨강', '바나나': '노랑', '포도': '보라'}"
      ]
     },
     "execution_count": 8,
     "metadata": {},
     "output_type": "execute_result"
    }
   ],
   "source": [
    "del fruit_color['메론']\n",
    "\n",
    "fruit_color"
   ]
  },
  {
   "cell_type": "markdown",
   "id": "ee786ef8",
   "metadata": {},
   "source": [
    "## 키, 값 구하기"
   ]
  },
  {
   "cell_type": "markdown",
   "id": "b129d953",
   "metadata": {},
   "source": [
    "### 특정한 값 찾기\n",
    "\n",
    "리스트와 달리 원소를 추가한 순서대로 데이터가 저장되어 있지 않기 때문에, 인덱싱을 지원하지 않음. </br>\n",
    "그래서 딕셔너리에서 데이터를 구하려면 키 값을 사용해야 함\n",
    "```python\n",
    "딕셔너리_이름[찾는_키]\n",
    "```"
   ]
  },
  {
   "cell_type": "code",
   "execution_count": 9,
   "id": "19175957",
   "metadata": {},
   "outputs": [
    {
     "data": {
      "text/plain": [
       "'빨강'"
      ]
     },
     "execution_count": 9,
     "metadata": {},
     "output_type": "execute_result"
    }
   ],
   "source": [
    "fruit_color['체리'] = '빨강'\n",
    "\n",
    "fruit_color['체리']"
   ]
  },
  {
   "cell_type": "markdown",
   "id": "60b40196",
   "metadata": {},
   "source": [
    "### keys\n",
    "\n",
    "딕셔너리에는 키-값 쌍이 저장됨. 만약 딕셔너리에 있는 키 값만 구하고 싶다면?</br>\n",
    "```keys```메서드를 사용해 구할 수 있음\n",
    "```python\n",
    "딕셔너리_이름.keys()\n",
    "```"
   ]
  },
  {
   "cell_type": "code",
   "execution_count": 10,
   "id": "4868385a",
   "metadata": {},
   "outputs": [
    {
     "data": {
      "text/plain": [
       "dict_keys(['사과', '바나나', '포도', '체리'])"
      ]
     },
     "execution_count": 10,
     "metadata": {},
     "output_type": "execute_result"
    }
   ],
   "source": [
    "fruit_color.keys()"
   ]
  },
  {
   "cell_type": "markdown",
   "id": "58e41698",
   "metadata": {},
   "source": [
    "반환값을 보면 ```dict_keys```라는 타입을 반환. 조작을 편리하게 하기 위해 리스트로 형변환을 해 사용"
   ]
  },
  {
   "cell_type": "code",
   "execution_count": 11,
   "id": "f5a7a48b",
   "metadata": {},
   "outputs": [
    {
     "data": {
      "text/plain": [
       "['사과', '바나나', '포도', '체리']"
      ]
     },
     "execution_count": 11,
     "metadata": {},
     "output_type": "execute_result"
    }
   ],
   "source": [
    "list(fruit_color.keys())"
   ]
  },
  {
   "cell_type": "markdown",
   "id": "d856b78f",
   "metadata": {},
   "source": [
    "### values\n",
    "\n",
    "키 목록을 구하는 것과 비슷하게 값 목록을 구할 때는 ```values``` 메서드를 사용\n",
    "```python\n",
    "딕셔너리_이름.values()\n",
    "```"
   ]
  },
  {
   "cell_type": "code",
   "execution_count": 12,
   "id": "f0091b4f",
   "metadata": {},
   "outputs": [
    {
     "data": {
      "text/plain": [
       "dict_values(['빨강', '노랑', '보라', '빨강'])"
      ]
     },
     "execution_count": 12,
     "metadata": {},
     "output_type": "execute_result"
    }
   ],
   "source": [
    "fruit_color.values()"
   ]
  },
  {
   "cell_type": "markdown",
   "id": "9b86df6d",
   "metadata": {},
   "source": [
    "values의 반환값도 리스트로 형변환 해 사용하는 것이 편리"
   ]
  },
  {
   "cell_type": "markdown",
   "id": "82377c65",
   "metadata": {},
   "source": [
    "### items\n",
    "\n",
    "딕셔너리에 있는 데이터들을 모두 뽑아 (키, 값) 쌍의 ```dict_items```를 반환"
   ]
  },
  {
   "cell_type": "code",
   "execution_count": 13,
   "id": "acc357b8",
   "metadata": {},
   "outputs": [
    {
     "data": {
      "text/plain": [
       "dict_items([('사과', '빨강'), ('바나나', '노랑'), ('포도', '보라'), ('체리', '빨강')])"
      ]
     },
     "execution_count": 13,
     "metadata": {},
     "output_type": "execute_result"
    }
   ],
   "source": [
    "fruit_color.items()"
   ]
  },
  {
   "cell_type": "markdown",
   "id": "61cc7128",
   "metadata": {},
   "source": [
    "items의 반환값도 리스트로 형변환 가능"
   ]
  },
  {
   "cell_type": "code",
   "execution_count": 14,
   "id": "61dbae3b",
   "metadata": {},
   "outputs": [
    {
     "data": {
      "text/plain": [
       "[('사과', '빨강'), ('바나나', '노랑'), ('포도', '보라'), ('체리', '빨강')]"
      ]
     },
     "execution_count": 14,
     "metadata": {},
     "output_type": "execute_result"
    }
   ],
   "source": [
    "list(fruit_color.items())"
   ]
  },
  {
   "cell_type": "markdown",
   "id": "942b9d87",
   "metadata": {},
   "source": [
    "키, 값을 튜플로 묶어 리스트로 반환"
   ]
  },
  {
   "cell_type": "code",
   "execution_count": 15,
   "id": "1fa72e40",
   "metadata": {},
   "outputs": [
    {
     "data": {
      "text/plain": [
       "list"
      ]
     },
     "execution_count": 15,
     "metadata": {},
     "output_type": "execute_result"
    }
   ],
   "source": [
    "item = list(fruit_color.items())\n",
    "\n",
    "type(item)"
   ]
  },
  {
   "cell_type": "code",
   "execution_count": 16,
   "id": "734af013",
   "metadata": {},
   "outputs": [
    {
     "data": {
      "text/plain": [
       "tuple"
      ]
     },
     "execution_count": 16,
     "metadata": {},
     "output_type": "execute_result"
    }
   ],
   "source": [
    "type(item[0])"
   ]
  },
  {
   "cell_type": "markdown",
   "id": "ce658b89",
   "metadata": {},
   "source": [
    "## 특정 원소 포함여부 확인하기 in / not in\n",
    "\n",
    "딕셔너리의 키나 값에 특정한 것이 들어있는지 확인해야하는 경우가 매우 많음</br>\n",
    "새로운 것을 추가하고 싶은데 키로 이미 들어가있다면 값이 바뀌어버리기 때문에 이미 들어가 있는지 확인을 해야함\n",
    "```python\n",
    "찾는_키 in 딕셔너리\n",
    "```"
   ]
  },
  {
   "cell_type": "code",
   "execution_count": 18,
   "id": "4e891918",
   "metadata": {},
   "outputs": [
    {
     "data": {
      "text/plain": [
       "True"
      ]
     },
     "execution_count": 18,
     "metadata": {},
     "output_type": "execute_result"
    }
   ],
   "source": [
    "'사과' in fruit_color"
   ]
  },
  {
   "cell_type": "code",
   "execution_count": 19,
   "id": "da4b5188",
   "metadata": {},
   "outputs": [
    {
     "data": {
      "text/plain": [
       "False"
      ]
     },
     "execution_count": 19,
     "metadata": {},
     "output_type": "execute_result"
    }
   ],
   "source": [
    "'빨강' in fruit_color"
   ]
  },
  {
   "cell_type": "markdown",
   "id": "54c47620",
   "metadata": {},
   "source": [
    "소속연산자는 키가 소속했는지만 확인할 수 있고 값이 있는지에 대해서는 확인할 수 없음</br>\n",
    "값에 대해서도 찾고싶다면 ```values``` 메서드를 이용해 확인할 수 있음\n",
    "```python\n",
    "찾는_값 in 딕셔너리_이름.values()\n",
    "```"
   ]
  },
  {
   "cell_type": "code",
   "execution_count": 20,
   "id": "7cc15820",
   "metadata": {},
   "outputs": [
    {
     "data": {
      "text/plain": [
       "True"
      ]
     },
     "execution_count": 20,
     "metadata": {},
     "output_type": "execute_result"
    }
   ],
   "source": [
    "'빨강' in fruit_color.values()"
   ]
  },
  {
   "cell_type": "markdown",
   "id": "84c9dbe2",
   "metadata": {},
   "source": [
    "## 리스트로 형변환 list(dict)\n",
    "\n",
    "딕셔너리를 리스트로 감싸게 되면 ```list(dictionary.keys())```와 같은 결과가 나옴"
   ]
  },
  {
   "cell_type": "code",
   "execution_count": 21,
   "id": "d4e3547c",
   "metadata": {},
   "outputs": [
    {
     "data": {
      "text/plain": [
       "['사과', '바나나', '포도', '체리']"
      ]
     },
     "execution_count": 21,
     "metadata": {},
     "output_type": "execute_result"
    }
   ],
   "source": [
    "list(fruit_color)"
   ]
  },
  {
   "cell_type": "markdown",
   "id": "719c0bf3",
   "metadata": {},
   "source": [
    "- 딕셔너리는 기본적으로 키를 중심으로 돌아가는 자료구조라고 생각하면 편리!"
   ]
  },
  {
   "cell_type": "markdown",
   "id": "a7065719",
   "metadata": {},
   "source": [
    "## 딕셔너리 특징"
   ]
  },
  {
   "cell_type": "markdown",
   "id": "be92f8f9",
   "metadata": {},
   "source": [
    "### 1. 딕셔너리의 키는 unique\n",
    "\n",
    "키를 중복으로 입력하면 set처럼 마지막에 들어온 값으로 덮어씌워짐"
   ]
  },
  {
   "cell_type": "code",
   "execution_count": 22,
   "id": "41d33296",
   "metadata": {},
   "outputs": [
    {
     "data": {
      "text/plain": [
       "{'사과': '초록', '바나나': '노랑', '포도': '보라', '체리': '빨강'}"
      ]
     },
     "execution_count": 22,
     "metadata": {},
     "output_type": "execute_result"
    }
   ],
   "source": [
    "fruit_color['사과'] = '초록'\n",
    "\n",
    "fruit_color"
   ]
  },
  {
   "cell_type": "markdown",
   "id": "278cbc19",
   "metadata": {},
   "source": [
    "### 2. 키는 수정할 수 없는 값만 가능\n",
    "\n",
    "- mutable : 변화 가능한 것. list, set, dictionary\n",
    "- immutable : 변화 불가능한 것. boolean, int, float, string, tuple </br>\n",
    "딕셔너리의 키는 **immutable한 값**만 들어올 수 있음"
   ]
  },
  {
   "cell_type": "code",
   "execution_count": 23,
   "id": "f7ebc1b9",
   "metadata": {},
   "outputs": [
    {
     "data": {
      "text/plain": [
       "{1: '일', 2: '이'}"
      ]
     },
     "execution_count": 23,
     "metadata": {},
     "output_type": "execute_result"
    }
   ],
   "source": [
    "a = {1 : '일', 2 : '이'}\n",
    "a"
   ]
  },
  {
   "cell_type": "code",
   "execution_count": 24,
   "id": "c259da7b",
   "metadata": {},
   "outputs": [
    {
     "ename": "TypeError",
     "evalue": "unhashable type: 'list'",
     "output_type": "error",
     "traceback": [
      "\u001b[1;31m---------------------------------------------------------------------------\u001b[0m",
      "\u001b[1;31mTypeError\u001b[0m                                 Traceback (most recent call last)",
      "\u001b[1;32m~\\AppData\\Local\\Temp/ipykernel_18212/3091808762.py\u001b[0m in \u001b[0;36m<module>\u001b[1;34m\u001b[0m\n\u001b[1;32m----> 1\u001b[1;33m \u001b[0mb\u001b[0m \u001b[1;33m=\u001b[0m \u001b[1;33m{\u001b[0m\u001b[1;33m[\u001b[0m\u001b[1;36m1\u001b[0m\u001b[1;33m,\u001b[0m \u001b[1;36m2\u001b[0m\u001b[1;33m]\u001b[0m \u001b[1;33m:\u001b[0m \u001b[1;34m'값'\u001b[0m\u001b[1;33m}\u001b[0m\u001b[1;33m\u001b[0m\u001b[1;33m\u001b[0m\u001b[0m\n\u001b[0m\u001b[0;32m      2\u001b[0m \u001b[0mb\u001b[0m\u001b[1;33m\u001b[0m\u001b[1;33m\u001b[0m\u001b[0m\n",
      "\u001b[1;31mTypeError\u001b[0m: unhashable type: 'list'"
     ]
    }
   ],
   "source": [
    "b = {[1, 2] : '값'}\n",
    "b"
   ]
  },
  {
   "cell_type": "code",
   "execution_count": 25,
   "id": "e99430f2",
   "metadata": {},
   "outputs": [
    {
     "data": {
      "text/plain": [
       "{(1, 2): '값'}"
      ]
     },
     "execution_count": 25,
     "metadata": {},
     "output_type": "execute_result"
    }
   ],
   "source": [
    "b = {(1, 2) : '값'}\n",
    "b"
   ]
  },
  {
   "cell_type": "markdown",
   "id": "eaacbb87",
   "metadata": {},
   "source": [
    "### 3. 딕셔너리는 순서가 없음"
   ]
  },
  {
   "cell_type": "code",
   "execution_count": 26,
   "id": "d8e90309",
   "metadata": {},
   "outputs": [
    {
     "data": {
      "text/plain": [
       "{'사과': '초록', '바나나': '노랑', '포도': '보라', '체리': '빨강'}"
      ]
     },
     "execution_count": 26,
     "metadata": {},
     "output_type": "execute_result"
    }
   ],
   "source": [
    "fruit_color"
   ]
  },
  {
   "cell_type": "code",
   "execution_count": 29,
   "id": "f1bd3778",
   "metadata": {},
   "outputs": [
    {
     "ename": "KeyError",
     "evalue": "0",
     "output_type": "error",
     "traceback": [
      "\u001b[1;31m---------------------------------------------------------------------------\u001b[0m",
      "\u001b[1;31mKeyError\u001b[0m                                  Traceback (most recent call last)",
      "\u001b[1;32m~\\AppData\\Local\\Temp/ipykernel_18212/2916432863.py\u001b[0m in \u001b[0;36m<module>\u001b[1;34m\u001b[0m\n\u001b[1;32m----> 1\u001b[1;33m \u001b[0mfruit_color\u001b[0m\u001b[1;33m[\u001b[0m\u001b[1;36m0\u001b[0m\u001b[1;33m]\u001b[0m\u001b[1;33m\u001b[0m\u001b[1;33m\u001b[0m\u001b[0m\n\u001b[0m",
      "\u001b[1;31mKeyError\u001b[0m: 0"
     ]
    }
   ],
   "source": [
    "fruit_color[0]"
   ]
  },
  {
   "cell_type": "code",
   "execution_count": 30,
   "id": "effb9b38",
   "metadata": {},
   "outputs": [
    {
     "data": {
      "text/plain": [
       "'초록'"
      ]
     },
     "execution_count": 30,
     "metadata": {},
     "output_type": "execute_result"
    }
   ],
   "source": [
    "fruit_color['사과']"
   ]
  },
  {
   "cell_type": "markdown",
   "id": "db1d1ce8",
   "metadata": {},
   "source": [
    "**참고**\n",
    "* https://docs.python.org/3/tutorial/datastructures.html"
   ]
  }
 ],
 "metadata": {
  "kernelspec": {
   "display_name": "Python 3 (ipykernel)",
   "language": "python",
   "name": "python3"
  },
  "language_info": {
   "codemirror_mode": {
    "name": "ipython",
    "version": 3
   },
   "file_extension": ".py",
   "mimetype": "text/x-python",
   "name": "python",
   "nbconvert_exporter": "python",
   "pygments_lexer": "ipython3",
   "version": "3.9.7"
  }
 },
 "nbformat": 4,
 "nbformat_minor": 5
}
