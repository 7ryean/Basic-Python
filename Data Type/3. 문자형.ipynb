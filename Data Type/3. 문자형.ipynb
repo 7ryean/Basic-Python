{
 "cells": [
  {
   "cell_type": "markdown",
   "id": "3d7ac118",
   "metadata": {},
   "source": [
    "# 문자열 String\n",
    "\n",
    "큰 따옴표```\" \"```로 감싸거나 작은 따옴표```' '```로 감싸서 나타낼 수 있음"
   ]
  },
  {
   "cell_type": "code",
   "execution_count": 1,
   "id": "dfebe855",
   "metadata": {},
   "outputs": [
    {
     "data": {
      "text/plain": [
       "'Yoo Gayeon'"
      ]
     },
     "execution_count": 1,
     "metadata": {},
     "output_type": "execute_result"
    }
   ],
   "source": [
    "my_name = 'Yoo Gayeon'\n",
    "my_name"
   ]
  },
  {
   "cell_type": "code",
   "execution_count": 2,
   "id": "9e1bacbe",
   "metadata": {},
   "outputs": [
    {
     "data": {
      "text/plain": [
       "str"
      ]
     },
     "execution_count": 2,
     "metadata": {},
     "output_type": "execute_result"
    }
   ],
   "source": [
    "type(my_name)"
   ]
  },
  {
   "cell_type": "markdown",
   "id": "b3b529c8",
   "metadata": {},
   "source": [
    "### 따옴표를 포함한 문자열"
   ]
  },
  {
   "cell_type": "code",
   "execution_count": 3,
   "id": "e6e32770",
   "metadata": {},
   "outputs": [
    {
     "data": {
      "text/plain": [
       "\"I'm a student.\""
      ]
     },
     "execution_count": 3,
     "metadata": {},
     "output_type": "execute_result"
    }
   ],
   "source": [
    "\"I'm a student.\""
   ]
  },
  {
   "cell_type": "code",
   "execution_count": 4,
   "id": "89716643",
   "metadata": {},
   "outputs": [
    {
     "data": {
      "text/plain": [
       "'피카츄가 \"피카\"하고 말했다.'"
      ]
     },
     "execution_count": 4,
     "metadata": {},
     "output_type": "execute_result"
    }
   ],
   "source": [
    "'피카츄가 \"피카\"하고 말했다.'"
   ]
  },
  {
   "cell_type": "markdown",
   "id": "324144b6",
   "metadata": {},
   "source": [
    "### 문자열 여러 줄 입력하기\n",
    "\n",
    "큰 따옴표를 3번 ```\"\"\"...\"\"\"``` 혹은 작은 따옴표를 3번 ```'''...'''``` 반복해서 사용함으로써 여러줄의 문자열을 나타낼 수 있음"
   ]
  },
  {
   "cell_type": "code",
   "execution_count": 5,
   "id": "90055f88",
   "metadata": {},
   "outputs": [
    {
     "data": {
      "text/plain": [
       "'\\n피카츄\\n라이츄\\n파이리\\n꼬부기\\n'"
      ]
     },
     "execution_count": 5,
     "metadata": {},
     "output_type": "execute_result"
    }
   ],
   "source": [
    "\"\"\"\n",
    "피카츄\n",
    "라이츄\n",
    "파이리\n",
    "꼬부기\n",
    "\"\"\""
   ]
  },
  {
   "cell_type": "markdown",
   "id": "8f59c6d3",
   "metadata": {},
   "source": [
    "### 문자열 합치기, 반복하기\n",
    "\n",
    "연산자를 사용해 문자열을 합치거나 반복할 수 있음.\n",
    "```+``` 연산자를 사용해 문자열끼리 합치고, ```*``` 연산자를 사용해 문자열을 여러번 반복할 수 있음"
   ]
  },
  {
   "cell_type": "code",
   "execution_count": 6,
   "id": "4b1b6c5a",
   "metadata": {},
   "outputs": [
    {
     "data": {
      "text/plain": [
       "'피카츄'"
      ]
     },
     "execution_count": 6,
     "metadata": {},
     "output_type": "execute_result"
    }
   ],
   "source": [
    "'피카' + '츄'"
   ]
  },
  {
   "cell_type": "code",
   "execution_count": 7,
   "id": "c8c05623",
   "metadata": {},
   "outputs": [
    {
     "data": {
      "text/plain": [
       "'피카피카'"
      ]
     },
     "execution_count": 7,
     "metadata": {},
     "output_type": "execute_result"
    }
   ],
   "source": [
    "'피카' * 2"
   ]
  },
  {
   "cell_type": "markdown",
   "id": "b18d31ad",
   "metadata": {},
   "source": [
    "### 문자열 인덱싱 Indexing\n",
    "\n",
    "문자열은 길이가 있기 때문에 특정 위치에 있는 하나의 값을 가져오거나 변경할 수 있음"
   ]
  },
  {
   "cell_type": "code",
   "execution_count": 8,
   "id": "baf8842e",
   "metadata": {},
   "outputs": [
    {
     "data": {
      "text/plain": [
       "'Y'"
      ]
     },
     "execution_count": 8,
     "metadata": {},
     "output_type": "execute_result"
    }
   ],
   "source": [
    "my_name[0]"
   ]
  },
  {
   "cell_type": "code",
   "execution_count": 9,
   "id": "a16d016a",
   "metadata": {},
   "outputs": [
    {
     "data": {
      "text/plain": [
       "'a'"
      ]
     },
     "execution_count": 9,
     "metadata": {},
     "output_type": "execute_result"
    }
   ],
   "source": [
    "my_name[5]"
   ]
  },
  {
   "cell_type": "markdown",
   "id": "d22323d3",
   "metadata": {},
   "source": [
    "뒤에서부터 거꾸로 세기"
   ]
  },
  {
   "cell_type": "code",
   "execution_count": 10,
   "id": "e536b423",
   "metadata": {},
   "outputs": [
    {
     "data": {
      "text/plain": [
       "'n'"
      ]
     },
     "execution_count": 10,
     "metadata": {},
     "output_type": "execute_result"
    }
   ],
   "source": [
    "my_name[-1]"
   ]
  },
  {
   "cell_type": "markdown",
   "id": "c6e04e8a",
   "metadata": {},
   "source": [
    "### 문자열 슬라이싱 Slicing\n",
    "\n",
    "특정 위치에 있는 복수의 값을 가져올 수 있음. </br>\n",
    "```문자열[n:m]```의 경우 n번째 문자열부터 m-1번째 문자열까지 가져옴"
   ]
  },
  {
   "cell_type": "code",
   "execution_count": 11,
   "id": "38bc92f5",
   "metadata": {},
   "outputs": [
    {
     "data": {
      "text/plain": [
       "'Yoo'"
      ]
     },
     "execution_count": 11,
     "metadata": {},
     "output_type": "execute_result"
    }
   ],
   "source": [
    "my_name[0:3]"
   ]
  },
  {
   "cell_type": "code",
   "execution_count": 13,
   "id": "d3cf2c6b",
   "metadata": {},
   "outputs": [
    {
     "data": {
      "text/plain": [
       "'Gayeon'"
      ]
     },
     "execution_count": 13,
     "metadata": {},
     "output_type": "execute_result"
    }
   ],
   "source": [
    "my_name[4:]"
   ]
  },
  {
   "cell_type": "markdown",
   "id": "a78332f0",
   "metadata": {},
   "source": [
    "### 문자열 길이 확인하기\n",
    "\n",
    "파이썬의 내장함수 ```len()```을 사용해 문자열의 길이를 구할 수 있음"
   ]
  },
  {
   "cell_type": "code",
   "execution_count": 12,
   "id": "38df3448",
   "metadata": {},
   "outputs": [
    {
     "data": {
      "text/plain": [
       "10"
      ]
     },
     "execution_count": 12,
     "metadata": {},
     "output_type": "execute_result"
    }
   ],
   "source": [
    "len(my_name)"
   ]
  },
  {
   "cell_type": "markdown",
   "id": "91304837",
   "metadata": {},
   "source": [
    "## 문자열에서 사용할 수 있는 함수"
   ]
  },
  {
   "cell_type": "markdown",
   "id": "b285bf24",
   "metadata": {},
   "source": [
    "### 문자열 내에서 특정 문자의 위치 찾기 find\n",
    "```find( )``` 메소드를 사용해 문자열에서 특정 문자가 어디에 위치해있는지 확인할 수 있음"
   ]
  },
  {
   "cell_type": "code",
   "execution_count": 15,
   "id": "17d23d4f",
   "metadata": {},
   "outputs": [
    {
     "data": {
      "text/plain": [
       "'Yoo Gayeon'"
      ]
     },
     "execution_count": 15,
     "metadata": {},
     "output_type": "execute_result"
    }
   ],
   "source": [
    "my_name"
   ]
  },
  {
   "cell_type": "code",
   "execution_count": 18,
   "id": "b47ebbf1",
   "metadata": {},
   "outputs": [
    {
     "data": {
      "text/plain": [
       "5"
      ]
     },
     "execution_count": 18,
     "metadata": {},
     "output_type": "execute_result"
    }
   ],
   "source": [
    "idx = my_name.find('a')\n",
    "idx"
   ]
  },
  {
   "cell_type": "code",
   "execution_count": 19,
   "id": "fc44279c",
   "metadata": {},
   "outputs": [
    {
     "data": {
      "text/plain": [
       "'a'"
      ]
     },
     "execution_count": 19,
     "metadata": {},
     "output_type": "execute_result"
    }
   ],
   "source": [
    "my_name[idx]"
   ]
  },
  {
   "cell_type": "markdown",
   "id": "5e479911",
   "metadata": {},
   "source": [
    "### 문자열 중 일부 대치하기 replace\n",
    "\n",
    "```replace( )``` 메소드를 사용해 문자열에 포함된 일부를 다른 내용으로 대치할 수 있음. </br>\n",
    "변수 자체를 바꿔주지는 않기 때문에 사용하기 위해서는 새로운 변수에 값을 넣어줘야 함"
   ]
  },
  {
   "cell_type": "code",
   "execution_count": 20,
   "id": "7cb5344d",
   "metadata": {},
   "outputs": [
    {
     "data": {
      "text/plain": [
       "'Yoo Nayeon'"
      ]
     },
     "execution_count": 20,
     "metadata": {},
     "output_type": "execute_result"
    }
   ],
   "source": [
    "my_name.replace('G', 'N')"
   ]
  },
  {
   "cell_type": "code",
   "execution_count": 21,
   "id": "5ac2b20c",
   "metadata": {},
   "outputs": [
    {
     "data": {
      "text/plain": [
       "'Yoo Gayeon'"
      ]
     },
     "execution_count": 21,
     "metadata": {},
     "output_type": "execute_result"
    }
   ],
   "source": [
    "my_name"
   ]
  },
  {
   "cell_type": "code",
   "execution_count": 22,
   "id": "6e66d3df",
   "metadata": {},
   "outputs": [
    {
     "data": {
      "text/plain": [
       "'Yoo Nayeon'"
      ]
     },
     "execution_count": 22,
     "metadata": {},
     "output_type": "execute_result"
    }
   ],
   "source": [
    "not_my_name = my_name.replace('G', 'N')\n",
    "not_my_name"
   ]
  },
  {
   "cell_type": "markdown",
   "id": "06f8a96d",
   "metadata": {},
   "source": [
    "### 특정 문자로 문자열 나누기 split\n",
    "\n",
    "```split( )``` 메소드를 사용해 문자열을 특정 문자로 나눌 수 있음 </br>\n",
    "괄호 안에 들어간 문자를 기준으로 문자열을 나누어 리스트로 반환해줌 </br>\n",
    "replace처럼 변수 자체를 바꿔주지는 않기 때문에 사용하기 위해서는 새로운 변수에 값을 넣어줘야 함"
   ]
  },
  {
   "cell_type": "markdown",
   "id": "f0a10b48",
   "metadata": {},
   "source": [
    "괄호 안에 아무것도 적지 않으면 ```공백```을 기준으로 나눠줌"
   ]
  },
  {
   "cell_type": "code",
   "execution_count": 23,
   "id": "df9e692d",
   "metadata": {},
   "outputs": [
    {
     "data": {
      "text/plain": [
       "['Yoo', 'Gayeon']"
      ]
     },
     "execution_count": 23,
     "metadata": {},
     "output_type": "execute_result"
    }
   ],
   "source": [
    "my_name.split()"
   ]
  },
  {
   "cell_type": "code",
   "execution_count": 24,
   "id": "f98eccd5",
   "metadata": {},
   "outputs": [
    {
     "data": {
      "text/plain": [
       "['Y', '', ' Gaye', 'n']"
      ]
     },
     "execution_count": 24,
     "metadata": {},
     "output_type": "execute_result"
    }
   ],
   "source": [
    "my_name.split('o')"
   ]
  },
  {
   "cell_type": "markdown",
   "id": "de9c72d2",
   "metadata": {},
   "source": [
    "### 문자열의 앞 뒤 공백제거 strip\n",
    "\n",
    "\n",
    "```strip( )```메소드를 사용해 문자열의 앞, 뒤 공백을 제거할 수 있음"
   ]
  },
  {
   "cell_type": "code",
   "execution_count": 25,
   "id": "fcb7d96e",
   "metadata": {},
   "outputs": [
    {
     "data": {
      "text/plain": [
       "'      뿌끼 '"
      ]
     },
     "execution_count": 25,
     "metadata": {},
     "output_type": "execute_result"
    }
   ],
   "source": [
    "toy_name = '      뿌끼 '\n",
    "toy_name"
   ]
  },
  {
   "cell_type": "code",
   "execution_count": 26,
   "id": "26a525dc",
   "metadata": {},
   "outputs": [
    {
     "data": {
      "text/plain": [
       "'뿌끼'"
      ]
     },
     "execution_count": 26,
     "metadata": {},
     "output_type": "execute_result"
    }
   ],
   "source": [
    "toy_name = toy_name.strip()\n",
    "toy_name"
   ]
  },
  {
   "cell_type": "markdown",
   "id": "db954a65",
   "metadata": {},
   "source": [
    "### 대소문자 변환 upper, lower\n",
    "\n",
    "알파벳으로 이루어진 문자열을 사용할 때 소문자 -> 대문자, 대문자 -> 소문자로 변환해주는 메소드"
   ]
  },
  {
   "cell_type": "code",
   "execution_count": 27,
   "id": "ea646643",
   "metadata": {},
   "outputs": [
    {
     "data": {
      "text/plain": [
       "'Yoo Gayeon'"
      ]
     },
     "execution_count": 27,
     "metadata": {},
     "output_type": "execute_result"
    }
   ],
   "source": [
    "my_name"
   ]
  },
  {
   "cell_type": "code",
   "execution_count": 28,
   "id": "8d08e1a7",
   "metadata": {},
   "outputs": [
    {
     "data": {
      "text/plain": [
       "'YOO GAYEON'"
      ]
     },
     "execution_count": 28,
     "metadata": {},
     "output_type": "execute_result"
    }
   ],
   "source": [
    "my_name_upper = my_name.upper()\n",
    "my_name_upper"
   ]
  },
  {
   "cell_type": "code",
   "execution_count": 29,
   "id": "ddf046a7",
   "metadata": {},
   "outputs": [
    {
     "data": {
      "text/plain": [
       "'yoo gayeon'"
      ]
     },
     "execution_count": 29,
     "metadata": {},
     "output_type": "execute_result"
    }
   ],
   "source": [
    "my_name_lower = my_name.lower()\n",
    "my_name_lower"
   ]
  },
  {
   "cell_type": "markdown",
   "id": "15930f2b",
   "metadata": {},
   "source": [
    "**참고**\n",
    "\n",
    "* [문자열과 정규 표현식](https://tensorflow.blog/%ed%9a%8c%ec%98%a4%eb%a6%ac%eb%b0%94%eb%9e%8c%ec%9d%84-%ed%83%84-%ed%8c%8c%ec%9d%b4%ec%8d%ac/%eb%ac%b8%ec%9e%90%ec%97%b4%ea%b3%bc-%ec%a0%95%ea%b7%9c-%ed%91%9c%ed%98%84%ec%8b%9d/)"
   ]
  }
 ],
 "metadata": {
  "kernelspec": {
   "display_name": "Python 3 (ipykernel)",
   "language": "python",
   "name": "python3"
  },
  "language_info": {
   "codemirror_mode": {
    "name": "ipython",
    "version": 3
   },
   "file_extension": ".py",
   "mimetype": "text/x-python",
   "name": "python",
   "nbconvert_exporter": "python",
   "pygments_lexer": "ipython3",
   "version": "3.9.7"
  }
 },
 "nbformat": 4,
 "nbformat_minor": 5
}
