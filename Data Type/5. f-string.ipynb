{
 "cells": [
  {
   "cell_type": "markdown",
   "id": "4845b0ca",
   "metadata": {},
   "source": [
    "# f-string\n",
    "\n",
    "format string"
   ]
  },
  {
   "cell_type": "markdown",
   "id": "b20716fb",
   "metadata": {},
   "source": [
    "## f-string에 변수 넣어주기\n",
    "\n",
    "중괄호 ```{ }```를 사용해서 ```f-string```안에 원하는 값을 넣어줄 수 있음"
   ]
  },
  {
   "cell_type": "code",
   "execution_count": 4,
   "id": "ebbde042",
   "metadata": {},
   "outputs": [
    {
     "data": {
      "text/plain": [
       "'2 더하기 3 은 5 입니다.'"
      ]
     },
     "execution_count": 4,
     "metadata": {},
     "output_type": "execute_result"
    }
   ],
   "source": [
    "x = 2\n",
    "y = 3\n",
    "\n",
    "f'{x} 더하기 {y} 은 {x + y} 입니다.'"
   ]
  },
  {
   "cell_type": "code",
   "execution_count": 5,
   "id": "f109635a",
   "metadata": {},
   "outputs": [
    {
     "data": {
      "text/plain": [
       "'제 이름은 가연입니다.'"
      ]
     },
     "execution_count": 5,
     "metadata": {},
     "output_type": "execute_result"
    }
   ],
   "source": [
    "name = '가연'\n",
    "f'제 이름은 {name}입니다.'"
   ]
  },
  {
   "cell_type": "markdown",
   "id": "f5ec0670",
   "metadata": {},
   "source": [
    "## f-string에 함수 값 넣어주기\n",
    "\n",
    "```f-string```안에 함수를 호출한 결과를 넣어줄 수도 있음"
   ]
  },
  {
   "cell_type": "code",
   "execution_count": 6,
   "id": "1d63fe00",
   "metadata": {},
   "outputs": [
    {
     "data": {
      "text/plain": [
       "'제 이름은 가연이고, 이름의 길이는 2입니다.'"
      ]
     },
     "execution_count": 6,
     "metadata": {},
     "output_type": "execute_result"
    }
   ],
   "source": [
    "f'제 이름은 {name}이고, 이름의 길이는 {len(name)}입니다.'"
   ]
  },
  {
   "cell_type": "markdown",
   "id": "0ce83df4",
   "metadata": {},
   "source": [
    "```f-string```의 중괄호 안에는 변수나 함수 값 말고도 파이썬에서 가능한 모든 표현식을 넣어줄 수 있음"
   ]
  },
  {
   "cell_type": "markdown",
   "id": "3e5dbc04",
   "metadata": {},
   "source": [
    "**참고**\n",
    "\n",
    "* https://realpython.com/python-f-strings/"
   ]
  },
  {
   "cell_type": "markdown",
   "id": "38860d81",
   "metadata": {},
   "source": [
    "**그렇다면 지난 연습문제도 더 간단하게 바꿔보자!**\n",
    "\n",
    "```python\n",
    "print('내 이름은', my_name,',', my_age,'살이지.')\n",
    "print('내 포켓몬은', my_pokemon, ',', pokemon_age,'살이야.')\n",
    "```"
   ]
  },
  {
   "cell_type": "code",
   "execution_count": 8,
   "id": "72d3b773",
   "metadata": {},
   "outputs": [
    {
     "name": "stdout",
     "output_type": "stream",
     "text": [
      "내 이름은 유가연, 25살이지\n",
      "내 포켓몬은 피카츄, 3살이야.\n"
     ]
    }
   ],
   "source": [
    "my_name = '유가연'\n",
    "my_age = 25\n",
    "my_pokemon = '피카츄'\n",
    "pokemon_age = 3\n",
    "\n",
    "print(f'내 이름은 {my_name}, {my_age}살이지')\n",
    "print(f'내 포켓몬은 {my_pokemon}, {pokemon_age}살이야.')"
   ]
  }
 ],
 "metadata": {
  "kernelspec": {
   "display_name": "Python 3 (ipykernel)",
   "language": "python",
   "name": "python3"
  },
  "language_info": {
   "codemirror_mode": {
    "name": "ipython",
    "version": 3
   },
   "file_extension": ".py",
   "mimetype": "text/x-python",
   "name": "python",
   "nbconvert_exporter": "python",
   "pygments_lexer": "ipython3",
   "version": "3.9.7"
  }
 },
 "nbformat": 4,
 "nbformat_minor": 5
}
