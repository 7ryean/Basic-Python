{
 "cells": [
  {
   "cell_type": "markdown",
   "id": "c386c18c",
   "metadata": {},
   "source": [
    "# 숫자 Numbers\n",
    "\n",
    "숫자로 이루어진 데이터 타입 </br>\n",
    "```int``` : 정수형\n",
    "```float``` : 실수형"
   ]
  },
  {
   "cell_type": "code",
   "execution_count": 1,
   "id": "cbbbec82",
   "metadata": {},
   "outputs": [
    {
     "data": {
      "text/plain": [
       "int"
      ]
     },
     "execution_count": 1,
     "metadata": {},
     "output_type": "execute_result"
    }
   ],
   "source": [
    "a = 3\n",
    "type(a)"
   ]
  },
  {
   "cell_type": "code",
   "execution_count": 2,
   "id": "187589d5",
   "metadata": {},
   "outputs": [
    {
     "data": {
      "text/plain": [
       "float"
      ]
     },
     "execution_count": 2,
     "metadata": {},
     "output_type": "execute_result"
    }
   ],
   "source": [
    "b = 12.12\n",
    "type(b)"
   ]
  },
  {
   "cell_type": "markdown",
   "id": "7a7c76c7",
   "metadata": {},
   "source": [
    "# 문자 Strings\n",
    "\n",
    "문자로 이루어진 데이터 타입 </br>\n",
    "큰 따옴표 ```\"``` 나 작은 따옴표```'```로 감싸 표현함\n",
    "\n",
    "앞서 얘기한 것처럼 파이썬에서는 대소문자를 구분하기 때문에 스펠링이 같더라도 대소문자가 다르면 다른 문자로 판단"
   ]
  },
  {
   "cell_type": "code",
   "execution_count": 3,
   "id": "e0ace821",
   "metadata": {},
   "outputs": [
    {
     "data": {
      "text/plain": [
       "str"
      ]
     },
     "execution_count": 3,
     "metadata": {},
     "output_type": "execute_result"
    }
   ],
   "source": [
    "poketmon = '피카츄'\n",
    "type(poketmon)"
   ]
  },
  {
   "cell_type": "code",
   "execution_count": 4,
   "id": "15ea2d89",
   "metadata": {},
   "outputs": [
    {
     "data": {
      "text/plain": [
       "False"
      ]
     },
     "execution_count": 4,
     "metadata": {},
     "output_type": "execute_result"
    }
   ],
   "source": [
    "'volvo'  == 'Volvo'"
   ]
  },
  {
   "cell_type": "markdown",
   "id": "b45672e7",
   "metadata": {},
   "source": [
    "# 불리언 Boolean\n",
    "\n",
    "```True``` ```False``` 두 가지 값을 가지는 데이터 타입 </br>\n",
    "```True``` 는 1, ```False```는 0으로도 표현됨"
   ]
  },
  {
   "cell_type": "code",
   "execution_count": 5,
   "id": "d145cc1c",
   "metadata": {},
   "outputs": [
    {
     "data": {
      "text/plain": [
       "True"
      ]
     },
     "execution_count": 5,
     "metadata": {},
     "output_type": "execute_result"
    }
   ],
   "source": [
    "2 >= 1"
   ]
  },
  {
   "cell_type": "markdown",
   "id": "6063701f",
   "metadata": {},
   "source": [
    "# None\n",
    "\n",
    "값이 없음을 뜻함. 숫자 ```0```과는 다른 값이고, Bollean의 ```False```와도 다름"
   ]
  },
  {
   "cell_type": "code",
   "execution_count": 6,
   "id": "94eaf055",
   "metadata": {},
   "outputs": [
    {
     "data": {
      "text/plain": [
       "False"
      ]
     },
     "execution_count": 6,
     "metadata": {},
     "output_type": "execute_result"
    }
   ],
   "source": [
    "None == 0"
   ]
  },
  {
   "cell_type": "code",
   "execution_count": 7,
   "id": "6f21d472",
   "metadata": {},
   "outputs": [
    {
     "data": {
      "text/plain": [
       "False"
      ]
     },
     "execution_count": 7,
     "metadata": {},
     "output_type": "execute_result"
    }
   ],
   "source": [
    "None == False"
   ]
  },
  {
   "cell_type": "markdown",
   "id": "ac3f5357",
   "metadata": {},
   "source": [
    "# 형변환\n",
    "\n",
    "데이터 타입을 바꾸어 줄 수 있음.\n",
    "ex) 숫자 데이터 타입을 ```str()``` 안에 넣어주면 문자 데이터 타입이 됨"
   ]
  },
  {
   "cell_type": "code",
   "execution_count": 8,
   "id": "ad73a09f",
   "metadata": {},
   "outputs": [
    {
     "data": {
      "text/plain": [
       "int"
      ]
     },
     "execution_count": 8,
     "metadata": {},
     "output_type": "execute_result"
    }
   ],
   "source": [
    "c = 1\n",
    "type(c)"
   ]
  },
  {
   "cell_type": "code",
   "execution_count": 9,
   "id": "b7e27113",
   "metadata": {},
   "outputs": [
    {
     "data": {
      "text/plain": [
       "str"
      ]
     },
     "execution_count": 9,
     "metadata": {},
     "output_type": "execute_result"
    }
   ],
   "source": [
    "d = str(c)\n",
    "type(d)"
   ]
  },
  {
   "cell_type": "code",
   "execution_count": 10,
   "id": "1ce7c707",
   "metadata": {},
   "outputs": [
    {
     "data": {
      "text/plain": [
       "int"
      ]
     },
     "execution_count": 10,
     "metadata": {},
     "output_type": "execute_result"
    }
   ],
   "source": [
    "e = int(d)\n",
    "type(e)"
   ]
  }
 ],
 "metadata": {
  "kernelspec": {
   "display_name": "Python 3 (ipykernel)",
   "language": "python",
   "name": "python3"
  },
  "language_info": {
   "codemirror_mode": {
    "name": "ipython",
    "version": 3
   },
   "file_extension": ".py",
   "mimetype": "text/x-python",
   "name": "python",
   "nbconvert_exporter": "python",
   "pygments_lexer": "ipython3",
   "version": "3.9.7"
  }
 },
 "nbformat": 4,
 "nbformat_minor": 5
}
