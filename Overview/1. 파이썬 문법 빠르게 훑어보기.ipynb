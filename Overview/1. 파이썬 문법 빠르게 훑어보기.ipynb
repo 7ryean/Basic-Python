{
 "cells": [
  {
   "cell_type": "code",
   "execution_count": 1,
   "id": "45dd1d82",
   "metadata": {},
   "outputs": [
    {
     "name": "stdout",
     "output_type": "stream",
     "text": [
      "Hello world!\n"
     ]
    }
   ],
   "source": [
    "print('Hello world!')"
   ]
  },
  {
   "cell_type": "markdown",
   "id": "4098cdc0",
   "metadata": {},
   "source": [
    "# 파이썬의 특징\n",
    "\n",
    "파이썬은 한 줄씩 소스 코드를 해석해서 그때그때 실행한 결과를 바로 확인할 수 있는 인터프리터 언어이다.\n",
    "본격적으로 파이썬을 공부하기에 앞서 파이썬이 어떤 특징을 가지고 있는 살펴보자.\n",
    "\n",
    "- 파이썬은 직관적이다.\n",
    "- 파이썬은 개발 속도가 빠르다.\n",
    "- 파이썬은 데이터 분석에 적합하다."
   ]
  },
  {
   "cell_type": "markdown",
   "id": "6c0c795b",
   "metadata": {},
   "source": [
    "## 파이썬은 직관적이다\n",
    "\n",
    "파이썬은 문법이 쉽고 간결하다. 영어 문장을 읽든 비슷하게 읽을 수 있다.\n",
    "\n",
    "```python\n",
    "if 4 in [1, 2, 3, 4] :\n",
    "    print(\"4가 있습니다\")\n",
    "```\n",
    "이 예제는 이렇게 읽을 수 있습니다.\n",
    "```\n",
    "만약 4가 [1, 2, 3, 4] 중에 있다면 \"4가 있습니다\"를 출력해라\n",
    "```"
   ]
  },
  {
   "cell_type": "markdown",
   "id": "f6e57a74",
   "metadata": {},
   "source": [
    "## 파이썬은 개발 속도가 빠르다\n",
    "\n",
    "```\n",
    "\"Life is too short, You need python.\" 인생은 너무 짧으니 파이썬이 필요해.\n",
    "```\n",
    "파이썬의 엄청나게 빠른 개발 속도를 두고 유행처럼 퍼진 말이다."
   ]
  },
  {
   "cell_type": "markdown",
   "id": "d93e0808",
   "metadata": {},
   "source": [
    "## 파이썬은 데이터 분석에 적합하다\n",
    "\n",
    "코드를 작성할 때는 미리 작성되어 있는 파일인 라이브러리를 불러와 사용할 수 있다. 파이썬에는 다양한 라이브러리가 있다. 파이썬의 다양한 라이브러리를 통해 단순히 데이터를 추출하고 가공하는 것 뿐만 아니라 시각화, 통계분석, 머신러닝까지 해볼 수 있다."
   ]
  },
  {
   "cell_type": "markdown",
   "id": "0688cb69",
   "metadata": {},
   "source": [
    "# 파이썬 문법 빠르게 훑어보기\n",
    "\n",
    "1. 순서를 셀 때 0부터 시작\n",
    "2. 대소문자 구분\n",
    "3. 들여쓰기 indent\n",
    "4. 라인의 끝이 문장의 끝\n",
    "5. 주석 처리"
   ]
  },
  {
   "cell_type": "markdown",
   "id": "835fdc95",
   "metadata": {},
   "source": [
    "## 1. 순서를 셀 때 0부터 시작"
   ]
  },
  {
   "cell_type": "code",
   "execution_count": 6,
   "id": "c975725f",
   "metadata": {},
   "outputs": [
    {
     "data": {
      "text/plain": [
       "['피카츄', '라이츄', '파이리', '꼬부기']"
      ]
     },
     "execution_count": 6,
     "metadata": {},
     "output_type": "execute_result"
    }
   ],
   "source": [
    "poketmon = ['피카츄', '라이츄', '파이리', '꼬부기']\n",
    "poketmon"
   ]
  },
  {
   "cell_type": "code",
   "execution_count": 7,
   "id": "0f3a5f6f",
   "metadata": {},
   "outputs": [
    {
     "data": {
      "text/plain": [
       "'피카츄'"
      ]
     },
     "execution_count": 7,
     "metadata": {},
     "output_type": "execute_result"
    }
   ],
   "source": [
    "poketmon[0]"
   ]
  },
  {
   "cell_type": "markdown",
   "id": "456399c1",
   "metadata": {},
   "source": [
    "## 2. 대소문자 구분\n",
    "\n",
    "파이썬에서는 대소문자를 구분합니다.\n",
    "```'a'```라는 문자와 ```'A'```라는 문자를 파이썬에서는 다른 값으로 인식합니다."
   ]
  },
  {
   "cell_type": "code",
   "execution_count": 8,
   "id": "3a26e28f",
   "metadata": {},
   "outputs": [
    {
     "data": {
      "text/plain": [
       "False"
      ]
     },
     "execution_count": 8,
     "metadata": {},
     "output_type": "execute_result"
    }
   ],
   "source": [
    "'a' == 'A'"
   ]
  },
  {
   "cell_type": "markdown",
   "id": "ceff9010",
   "metadata": {},
   "source": [
    "## 3. 들여쓰기 indent\n",
    "\n",
    "파이썬은 들여쓰기가 중요합니다. 들여쓰기를 맞추지 않으면 오류가 발생하거나 원하는 결과값을 얻을 수 없습니다."
   ]
  },
  {
   "cell_type": "code",
   "execution_count": 9,
   "id": "927fce76",
   "metadata": {},
   "outputs": [
    {
     "name": "stdout",
     "output_type": "stream",
     "text": [
      "꼬부기는 물 포켓몬 입니다.\n"
     ]
    }
   ],
   "source": [
    "for i in poketmon :\n",
    "    if i == '꼬부기' :\n",
    "        name = i\n",
    "        print(f'{i}는 물 포켓몬 입니다.')"
   ]
  },
  {
   "cell_type": "code",
   "execution_count": 10,
   "id": "86ce9547",
   "metadata": {},
   "outputs": [
    {
     "name": "stdout",
     "output_type": "stream",
     "text": [
      "피카츄는 물 포켓몬 입니다.\n",
      "라이츄는 물 포켓몬 입니다.\n",
      "파이리는 물 포켓몬 입니다.\n",
      "꼬부기는 물 포켓몬 입니다.\n"
     ]
    }
   ],
   "source": [
    "for i in poketmon :\n",
    "    if i == '꼬부기' :\n",
    "        name = i\n",
    "    # if 내 범위를 벗어난 print문\n",
    "    print(f'{i}는 물 포켓몬 입니다.')"
   ]
  },
  {
   "cell_type": "markdown",
   "id": "e61b22c7",
   "metadata": {},
   "source": [
    "## 4. 라인의 끝이 문장의 끝\n",
    "\n",
    "파이썬에서는 라인의 끝이 문장의 끝으로 인식됩니다. 다른 개발언어에서처럼 ```;```을 붙여주어도 되지만, 아무것도 붙이지 않아도 문장의 끝으로 인식한다는 점이 파이썬의 다른 점입니다."
   ]
  },
  {
   "cell_type": "code",
   "execution_count": 11,
   "id": "c6b46b97",
   "metadata": {},
   "outputs": [
    {
     "data": {
      "text/plain": [
       "3"
      ]
     },
     "execution_count": 11,
     "metadata": {},
     "output_type": "execute_result"
    }
   ],
   "source": [
    "a = 1 + 2;\n",
    "a"
   ]
  },
  {
   "cell_type": "code",
   "execution_count": 12,
   "id": "0c971c63",
   "metadata": {},
   "outputs": [
    {
     "data": {
      "text/plain": [
       "3"
      ]
     },
     "execution_count": 12,
     "metadata": {},
     "output_type": "execute_result"
    }
   ],
   "source": [
    "a = 1 + 2\n",
    "a"
   ]
  },
  {
   "cell_type": "markdown",
   "id": "4a909fdc",
   "metadata": {},
   "source": [
    "## 5. 주석\n",
    "\n",
    "코드 작성 중 메모를 하고 싶을 때 주석을 사용합니다. ```#``` 기호를 사용해 주석을 쓸 수 있습니다."
   ]
  },
  {
   "cell_type": "code",
   "execution_count": 13,
   "id": "66ac58d2",
   "metadata": {},
   "outputs": [],
   "source": [
    "# 1 + 2의 결과값을 변수 a에 넣는다\n",
    "a = 1 + 2"
   ]
  }
 ],
 "metadata": {
  "kernelspec": {
   "display_name": "Python 3 (ipykernel)",
   "language": "python",
   "name": "python3"
  },
  "language_info": {
   "codemirror_mode": {
    "name": "ipython",
    "version": 3
   },
   "file_extension": ".py",
   "mimetype": "text/x-python",
   "name": "python",
   "nbconvert_exporter": "python",
   "pygments_lexer": "ipython3",
   "version": "3.9.7"
  }
 },
 "nbformat": 4,
 "nbformat_minor": 5
}
