{
 "cells": [
  {
   "cell_type": "markdown",
   "id": "8106e56f",
   "metadata": {},
   "source": [
    "# 에러를 만났을 때"
   ]
  },
  {
   "cell_type": "code",
   "execution_count": 1,
   "id": "4bd87f09",
   "metadata": {},
   "outputs": [
    {
     "name": "stdout",
     "output_type": "stream",
     "text": [
      "Hello Python!\n"
     ]
    }
   ],
   "source": [
    "print('Hello Python!')"
   ]
  },
  {
   "cell_type": "code",
   "execution_count": 2,
   "id": "7d6da4e9",
   "metadata": {},
   "outputs": [
    {
     "ename": "SyntaxError",
     "evalue": "EOL while scanning string literal (Temp/ipykernel_2332/707319267.py, line 1)",
     "output_type": "error",
     "traceback": [
      "\u001b[1;36m  File \u001b[1;32m\"C:\\Users\\u7rye\\AppData\\Local\\Temp/ipykernel_2332/707319267.py\"\u001b[1;36m, line \u001b[1;32m1\u001b[0m\n\u001b[1;33m    print('Hello Python!)\u001b[0m\n\u001b[1;37m                         ^\u001b[0m\n\u001b[1;31mSyntaxError\u001b[0m\u001b[1;31m:\u001b[0m EOL while scanning string literal\n"
     ]
    }
   ],
   "source": [
    "print('Hello Python!)"
   ]
  },
  {
   "cell_type": "markdown",
   "id": "137f34cd",
   "metadata": {},
   "source": [
    "# 에러의 종류\n",
    "\n",
    "1. 문법 에러 : 파이썬 문법에 맞지 않는 에러\n",
    "2. 실행 에러 : 문법적으로는 옳지만 실행시 나는 에러. 아마도 그건 우리의 잘못된 입력때문일거야...\n",
    "3. 논리 에러 : 문제없이 코드가 실행되지만 원치않는 결과가 나오는 에러. 또는 문제 없이 코드가 실행되고 원하는 결과도 나오지만, 특정 상황에서는 원하지 않는 결과가 나오는 경우"
   ]
  },
  {
   "cell_type": "markdown",
   "id": "1ac265a2",
   "metadata": {},
   "source": [
    "# 에러 메시지 읽기"
   ]
  },
  {
   "cell_type": "code",
   "execution_count": 3,
   "id": "4d0ae169",
   "metadata": {},
   "outputs": [
    {
     "ename": "NameError",
     "evalue": "name 'q' is not defined",
     "output_type": "error",
     "traceback": [
      "\u001b[1;31m---------------------------------------------------------------------------\u001b[0m",
      "\u001b[1;31mNameError\u001b[0m                                 Traceback (most recent call last)",
      "\u001b[1;32m~\\AppData\\Local\\Temp/ipykernel_2332/1709365023.py\u001b[0m in \u001b[0;36m<module>\u001b[1;34m\u001b[0m\n\u001b[1;32m----> 1\u001b[1;33m \u001b[0mprint\u001b[0m\u001b[1;33m(\u001b[0m\u001b[0mq\u001b[0m\u001b[1;33m)\u001b[0m\u001b[1;33m\u001b[0m\u001b[1;33m\u001b[0m\u001b[0m\n\u001b[0m",
      "\u001b[1;31mNameError\u001b[0m: name 'q' is not defined"
     ]
    }
   ],
   "source": [
    "print(q)"
   ]
  },
  {
   "cell_type": "markdown",
   "id": "dc75ba01",
   "metadata": {},
   "source": [
    "NameError가 발생했다. 더 자세하게는 'q'를 정의해주지 않았기 때문에 발생했다고 친절히 알려주고 있다."
   ]
  },
  {
   "cell_type": "code",
   "execution_count": 4,
   "id": "8617eb1f",
   "metadata": {},
   "outputs": [
    {
     "name": "stdout",
     "output_type": "stream",
     "text": [
      "1\n"
     ]
    }
   ],
   "source": [
    "q = 1\n",
    "print(q)"
   ]
  },
  {
   "cell_type": "markdown",
   "id": "0a9b7cb5",
   "metadata": {},
   "source": [
    "## 다양한 유형의 에러"
   ]
  },
  {
   "cell_type": "markdown",
   "id": "c5a6cee0",
   "metadata": {},
   "source": [
    "### TypeError"
   ]
  },
  {
   "cell_type": "code",
   "execution_count": 5,
   "id": "94182bb1",
   "metadata": {},
   "outputs": [
    {
     "ename": "TypeError",
     "evalue": "unsupported operand type(s) for +: 'int' and 'str'",
     "output_type": "error",
     "traceback": [
      "\u001b[1;31m---------------------------------------------------------------------------\u001b[0m",
      "\u001b[1;31mTypeError\u001b[0m                                 Traceback (most recent call last)",
      "\u001b[1;32m~\\AppData\\Local\\Temp/ipykernel_2332/911253307.py\u001b[0m in \u001b[0;36m<module>\u001b[1;34m\u001b[0m\n\u001b[1;32m----> 1\u001b[1;33m \u001b[1;36m1\u001b[0m \u001b[1;33m+\u001b[0m \u001b[1;34m'python'\u001b[0m\u001b[1;33m\u001b[0m\u001b[1;33m\u001b[0m\u001b[0m\n\u001b[0m",
      "\u001b[1;31mTypeError\u001b[0m: unsupported operand type(s) for +: 'int' and 'str'"
     ]
    }
   ],
   "source": [
    "1 + 'python'"
   ]
  },
  {
   "cell_type": "markdown",
   "id": "69cc1852",
   "metadata": {},
   "source": [
    "TypeError가 발생했다. + 연산자는 정수와 문자열을 더할 수 없다. 두 가지 다른 타입을 연산하려 했기 때문에 발생한 에러다."
   ]
  },
  {
   "cell_type": "markdown",
   "id": "7d4fc7f0",
   "metadata": {},
   "source": [
    "### ZeroDivisionError"
   ]
  },
  {
   "cell_type": "code",
   "execution_count": 6,
   "id": "d6ec0063",
   "metadata": {},
   "outputs": [
    {
     "ename": "ZeroDivisionError",
     "evalue": "division by zero",
     "output_type": "error",
     "traceback": [
      "\u001b[1;31m---------------------------------------------------------------------------\u001b[0m",
      "\u001b[1;31mZeroDivisionError\u001b[0m                         Traceback (most recent call last)",
      "\u001b[1;32m~\\AppData\\Local\\Temp/ipykernel_2332/1725448531.py\u001b[0m in \u001b[0;36m<module>\u001b[1;34m\u001b[0m\n\u001b[1;32m----> 1\u001b[1;33m \u001b[1;36m10\u001b[0m \u001b[1;33m/\u001b[0m \u001b[1;36m0\u001b[0m\u001b[1;33m\u001b[0m\u001b[1;33m\u001b[0m\u001b[0m\n\u001b[0m",
      "\u001b[1;31mZeroDivisionError\u001b[0m: division by zero"
     ]
    }
   ],
   "source": [
    "10 / 0"
   ]
  },
  {
   "cell_type": "markdown",
   "id": "ea24cd13",
   "metadata": {},
   "source": [
    "ZeroDivisionError가 발생했다. 어떤 숫자든 0으로 나눌 수는 없다."
   ]
  },
  {
   "cell_type": "markdown",
   "id": "66cefd9e",
   "metadata": {},
   "source": [
    "### IndexError"
   ]
  },
  {
   "cell_type": "code",
   "execution_count": 7,
   "id": "7ee8834d",
   "metadata": {},
   "outputs": [
    {
     "data": {
      "text/plain": [
       "['volvo', 'kia', 'porsche']"
      ]
     },
     "execution_count": 7,
     "metadata": {},
     "output_type": "execute_result"
    }
   ],
   "source": [
    "car_brands = ['volvo', 'kia', 'porsche']\n",
    "car_brands"
   ]
  },
  {
   "cell_type": "code",
   "execution_count": 8,
   "id": "c884ed23",
   "metadata": {},
   "outputs": [
    {
     "ename": "IndexError",
     "evalue": "list index out of range",
     "output_type": "error",
     "traceback": [
      "\u001b[1;31m---------------------------------------------------------------------------\u001b[0m",
      "\u001b[1;31mIndexError\u001b[0m                                Traceback (most recent call last)",
      "\u001b[1;32m~\\AppData\\Local\\Temp/ipykernel_2332/3672537672.py\u001b[0m in \u001b[0;36m<module>\u001b[1;34m\u001b[0m\n\u001b[1;32m----> 1\u001b[1;33m \u001b[0mcar_brands\u001b[0m\u001b[1;33m[\u001b[0m\u001b[1;36m3\u001b[0m\u001b[1;33m]\u001b[0m\u001b[1;33m\u001b[0m\u001b[1;33m\u001b[0m\u001b[0m\n\u001b[0m",
      "\u001b[1;31mIndexError\u001b[0m: list index out of range"
     ]
    }
   ],
   "source": [
    "car_brands[3]"
   ]
  },
  {
   "cell_type": "markdown",
   "id": "599932f0",
   "metadata": {},
   "source": [
    "indexError가 발생했다. 우리가 가지고 있는 인덱스 내에 존재하지 않는 범위를 호출하려 했기 때문에 에러가 발생했다."
   ]
  },
  {
   "cell_type": "markdown",
   "id": "9f586eec",
   "metadata": {},
   "source": [
    "## 에러를 만났을 때 검색 잘하기\n",
    "\n",
    "개발자를 위한 정보 검색 팁\n",
    "https://boxnwhis.kr/2020/09/27/ir-for-developers.html\n",
    "정보 검색을 잘하는 것도 개발자의 능력이다."
   ]
  }
 ],
 "metadata": {
  "kernelspec": {
   "display_name": "Python 3 (ipykernel)",
   "language": "python",
   "name": "python3"
  },
  "language_info": {
   "codemirror_mode": {
    "name": "ipython",
    "version": 3
   },
   "file_extension": ".py",
   "mimetype": "text/x-python",
   "name": "python",
   "nbconvert_exporter": "python",
   "pygments_lexer": "ipython3",
   "version": "3.9.7"
  }
 },
 "nbformat": 4,
 "nbformat_minor": 5
}
