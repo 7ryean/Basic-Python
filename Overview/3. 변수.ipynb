{
 "cells": [
  {
   "cell_type": "markdown",
   "id": "35b4f5ec",
   "metadata": {},
   "source": [
    "# 변수(Variable)\n",
    "\n",
    "데이터를 저장하기 위한 공간. 프로그램은 작업을 처리하는 과정에서 필요에 따라 데이터를 컴퓨터 메모리에 저장한다.\n",
    "값을 저장해놓고 추후에 다시 사용하려면, 컴퓨터 내의 메모리를 할당, 즉 메모리 내에서 자리를 만들어 지정해야하는데, 사람이 쉽게 기억하이 귀애 **\"변수명\"**을 부여해서 값을 저장한다."
   ]
  },
  {
   "cell_type": "code",
   "execution_count": 1,
   "id": "cbbfe1a2",
   "metadata": {},
   "outputs": [],
   "source": [
    "x = 5"
   ]
  },
  {
   "cell_type": "code",
   "execution_count": 2,
   "id": "5e5e23a6",
   "metadata": {},
   "outputs": [
    {
     "data": {
      "text/plain": [
       "1231333058992"
      ]
     },
     "execution_count": 2,
     "metadata": {},
     "output_type": "execute_result"
    }
   ],
   "source": [
    "id(x)"
   ]
  },
  {
   "cell_type": "code",
   "execution_count": 4,
   "id": "b8ebac66",
   "metadata": {},
   "outputs": [
    {
     "data": {
      "text/plain": [
       "5"
      ]
     },
     "execution_count": 4,
     "metadata": {},
     "output_type": "execute_result"
    }
   ],
   "source": [
    "x"
   ]
  },
  {
   "cell_type": "markdown",
   "id": "c46f745c",
   "metadata": {},
   "source": [
    "# 변수 선언하기\n",
    "\n",
    "변수를 만들고 값을 저장하는 것. 변수를 선언하기 위해서는 **변수명**과 **할당연산자 '='** 그리고 **값** 이렇게 3가지가 필요하다.\n",
    "```python\n",
    "변수명 = 값\n",
    "```"
   ]
  },
  {
   "cell_type": "markdown",
   "id": "38d9dca7",
   "metadata": {},
   "source": [
    "## 할당연산자 '='\n",
    "\n",
    "일상적으로 '='라는 기호를 앞의 내용과 뒤의 내용이 '같다'라는 표현으로 사용해왔다. 하지만 프로그래밍 언어에서는 조금 다르다.\n",
    "'변수명과 값은 같다'라기보다, '값을 변수명에 저장하라'는 명령으로 읽어야 한다. '같다'는 표현을 사용하고 싶다면 ```==```을 사용하자."
   ]
  },
  {
   "cell_type": "code",
   "execution_count": 5,
   "id": "2b8cf827",
   "metadata": {},
   "outputs": [],
   "source": [
    "y = 3"
   ]
  },
  {
   "cell_type": "code",
   "execution_count": 6,
   "id": "a410f7fd",
   "metadata": {},
   "outputs": [
    {
     "data": {
      "text/plain": [
       "3"
      ]
     },
     "execution_count": 6,
     "metadata": {},
     "output_type": "execute_result"
    }
   ],
   "source": [
    "y"
   ]
  },
  {
   "cell_type": "markdown",
   "id": "768462de",
   "metadata": {},
   "source": [
    "# 변수명 명명법\n",
    "\n",
    "변수에 이름을 붙일 때 신경써야 하는 규칙이 있다. \n",
    "\n",
    "1. 변수명은 숫자로 시작할 수 없다.\n",
    "2. 변수명에는 공백, 기호, 마침표가 들어갈 수 없다.\n",
    "3. 예약어는 변수명으로 사용할 수 없다."
   ]
  },
  {
   "cell_type": "markdown",
   "id": "b7d3365c",
   "metadata": {},
   "source": [
    "## 변수명은 숫자로 시작할 수 없다"
   ]
  },
  {
   "cell_type": "code",
   "execution_count": 7,
   "id": "df581e51",
   "metadata": {},
   "outputs": [
    {
     "ename": "SyntaxError",
     "evalue": "invalid syntax (Temp/ipykernel_15452/1018838559.py, line 1)",
     "output_type": "error",
     "traceback": [
      "\u001b[1;36m  File \u001b[1;32m\"C:\\Users\\u7rye\\AppData\\Local\\Temp/ipykernel_15452/1018838559.py\"\u001b[1;36m, line \u001b[1;32m1\u001b[0m\n\u001b[1;33m    1x = 5\u001b[0m\n\u001b[1;37m     ^\u001b[0m\n\u001b[1;31mSyntaxError\u001b[0m\u001b[1;31m:\u001b[0m invalid syntax\n"
     ]
    }
   ],
   "source": [
    "1x = 5"
   ]
  },
  {
   "cell_type": "code",
   "execution_count": 8,
   "id": "7d478c06",
   "metadata": {},
   "outputs": [],
   "source": [
    "x1 = 5"
   ]
  },
  {
   "cell_type": "code",
   "execution_count": 9,
   "id": "54e3f528",
   "metadata": {},
   "outputs": [
    {
     "data": {
      "text/plain": [
       "5"
      ]
     },
     "execution_count": 9,
     "metadata": {},
     "output_type": "execute_result"
    }
   ],
   "source": [
    "x1"
   ]
  },
  {
   "cell_type": "markdown",
   "id": "346c7800",
   "metadata": {},
   "source": [
    "## 변수명에는 공백, 기호, 마침표가 들어갈 수 없다"
   ]
  },
  {
   "cell_type": "code",
   "execution_count": 10,
   "id": "9720ae7b",
   "metadata": {},
   "outputs": [
    {
     "ename": "SyntaxError",
     "evalue": "invalid syntax (Temp/ipykernel_15452/1090441088.py, line 1)",
     "output_type": "error",
     "traceback": [
      "\u001b[1;36m  File \u001b[1;32m\"C:\\Users\\u7rye\\AppData\\Local\\Temp/ipykernel_15452/1090441088.py\"\u001b[1;36m, line \u001b[1;32m1\u001b[0m\n\u001b[1;33m    my age = 25\u001b[0m\n\u001b[1;37m       ^\u001b[0m\n\u001b[1;31mSyntaxError\u001b[0m\u001b[1;31m:\u001b[0m invalid syntax\n"
     ]
    }
   ],
   "source": [
    "my age = 25\n",
    "my age"
   ]
  },
  {
   "cell_type": "code",
   "execution_count": 11,
   "id": "699c9b7b",
   "metadata": {},
   "outputs": [
    {
     "data": {
      "text/plain": [
       "25"
      ]
     },
     "execution_count": 11,
     "metadata": {},
     "output_type": "execute_result"
    }
   ],
   "source": [
    "my_age = 25\n",
    "my_age"
   ]
  },
  {
   "cell_type": "markdown",
   "id": "96323a91",
   "metadata": {},
   "source": [
    "## 예약어는 변수명으로 사용할 수 없다\n",
    "\n",
    "| | ||\n",
    "|--|--|--|\n",
    "and|exec| not\n",
    "assert|finally|or\n",
    "break|for|pass\n",
    "class|from|print\n",
    "continue|global|raise\n",
    "def|if|return\n",
    "del|import|try\n",
    "elif|in|while\n",
    "else|is|with\n",
    "except|lambda|yield"
   ]
  },
  {
   "cell_type": "code",
   "execution_count": 12,
   "id": "ee2a0719",
   "metadata": {},
   "outputs": [
    {
     "ename": "SyntaxError",
     "evalue": "invalid syntax (Temp/ipykernel_15452/3547187265.py, line 1)",
     "output_type": "error",
     "traceback": [
      "\u001b[1;36m  File \u001b[1;32m\"C:\\Users\\u7rye\\AppData\\Local\\Temp/ipykernel_15452/3547187265.py\"\u001b[1;36m, line \u001b[1;32m1\u001b[0m\n\u001b[1;33m    from = 1\u001b[0m\n\u001b[1;37m         ^\u001b[0m\n\u001b[1;31mSyntaxError\u001b[0m\u001b[1;31m:\u001b[0m invalid syntax\n"
     ]
    }
   ],
   "source": [
    "from = 1\n",
    "from"
   ]
  },
  {
   "cell_type": "code",
   "execution_count": 13,
   "id": "813c42a8",
   "metadata": {},
   "outputs": [
    {
     "ename": "SyntaxError",
     "evalue": "invalid syntax (Temp/ipykernel_15452/3962599119.py, line 1)",
     "output_type": "error",
     "traceback": [
      "\u001b[1;36m  File \u001b[1;32m\"C:\\Users\\u7rye\\AppData\\Local\\Temp/ipykernel_15452/3962599119.py\"\u001b[1;36m, line \u001b[1;32m1\u001b[0m\n\u001b[1;33m    for = 29\u001b[0m\n\u001b[1;37m        ^\u001b[0m\n\u001b[1;31mSyntaxError\u001b[0m\u001b[1;31m:\u001b[0m invalid syntax\n"
     ]
    }
   ],
   "source": [
    "for = 29\n",
    "for"
   ]
  },
  {
   "cell_type": "code",
   "execution_count": 14,
   "id": "e8cd1922",
   "metadata": {},
   "outputs": [
    {
     "data": {
      "text/plain": [
       "29"
      ]
     },
     "execution_count": 14,
     "metadata": {},
     "output_type": "execute_result"
    }
   ],
   "source": [
    "for_analysis = 29\n",
    "for_analysis"
   ]
  },
  {
   "cell_type": "markdown",
   "id": "ba894cce",
   "metadata": {},
   "source": [
    "# 변수명 잘 짓기"
   ]
  },
  {
   "cell_type": "markdown",
   "id": "25ebce94",
   "metadata": {},
   "source": [
    "## 이해할 수 있게 짓자\n",
    "\n",
    "변수 이름을 잘 짓는 방식은 다양하지만, 권장하는 방식은 변수 이름 자체가 변수를 설명할 수 있게 하는 방식. 두문자어(축약어), 약어, 의미 없는 이름은 최대한 사용하지 않는 것이 코드를 같이 읽는 사람에게도, 미래의 본인에게도 도움이 된다."
   ]
  },
  {
   "cell_type": "markdown",
   "id": "ca77c51a",
   "metadata": {},
   "source": [
    "### 나쁜 예"
   ]
  },
  {
   "cell_type": "code",
   "execution_count": 15,
   "id": "bad8d6b3",
   "metadata": {},
   "outputs": [
    {
     "name": "stdout",
     "output_type": "stream",
     "text": [
      "가연, 유\n"
     ]
    }
   ],
   "source": [
    "x = '유 가연'\n",
    "y , z = x.split()\n",
    "print(z, y, sep = ', ')"
   ]
  },
  {
   "cell_type": "markdown",
   "id": "325c80de",
   "metadata": {},
   "source": [
    "### 좋은 예"
   ]
  },
  {
   "cell_type": "code",
   "execution_count": 16,
   "id": "de930f01",
   "metadata": {},
   "outputs": [
    {
     "name": "stdout",
     "output_type": "stream",
     "text": [
      "가연, 유\n"
     ]
    }
   ],
   "source": [
    "name = '유 가연'\n",
    "first_name, last_name = name.split()\n",
    "print(last_name, first_name, sep = ', ')"
   ]
  },
  {
   "cell_type": "markdown",
   "id": "73fa7bb6",
   "metadata": {},
   "source": [
    "## 표기법\n",
    "\n",
    "변수 이름 자체가 변수를 설명할 수 있게 하려면, 보통 여러 단어로 이뤄지게 될 가능성이 높다. 여러 단어로 이뤄진 변수 이름을 짓는 가장 일반적인 두 가지 방법으로 카멜 케이스(CamelCase)와 스네이크 케이스(SnakeCase)가 있다. 둘 중 어느 방식을 쓰든 간에 **일관성을 유지**하고 **선택을 고수**하는 것이 중요하다. 파이썬의 변수명 네이밍 컨벤션에서는 스네이크 케이스를 추천한다.\n",
    "- camelCase는 첫 번째 단어 다음에 이어지는 각 단어의 첫 글자를 대문자로 하고,\n",
    "- snake_case는 각 단어를 밑줄(_)로 구분하여 표기한다."
   ]
  },
  {
   "cell_type": "markdown",
   "id": "4ec20880",
   "metadata": {},
   "source": [
    "### camelCase"
   ]
  },
  {
   "cell_type": "code",
   "execution_count": 17,
   "id": "4ddd9642",
   "metadata": {},
   "outputs": [
    {
     "data": {
      "text/plain": [
       "'Hazzo'"
      ]
     },
     "execution_count": 17,
     "metadata": {},
     "output_type": "execute_result"
    }
   ],
   "source": [
    "myDogName = 'Hazzo'\n",
    "myDogName"
   ]
  },
  {
   "cell_type": "markdown",
   "id": "b86a238e",
   "metadata": {},
   "source": [
    "### snake_case"
   ]
  },
  {
   "cell_type": "code",
   "execution_count": 18,
   "id": "6c85e5d4",
   "metadata": {},
   "outputs": [
    {
     "data": {
      "text/plain": [
       "'Hazzo'"
      ]
     },
     "execution_count": 18,
     "metadata": {},
     "output_type": "execute_result"
    }
   ],
   "source": [
    "my_dog_name = 'Hazzo'\n",
    "my_dog_name"
   ]
  },
  {
   "cell_type": "markdown",
   "id": "e60f8232",
   "metadata": {},
   "source": [
    "## 팀의 컨벤션을 존중하자\n",
    "\n",
    "코드를 보고 상호소통하는 사람들, 즉 팀원들의 컨벤션을 존중하자. 이를 통해 **일관성을 유지**할 수 있다.\n",
    "\n",
    "파이썬의 공식 네이밍 컨벤션 : https://www.python.org/dev/peps/pep-0008/#naming-conventions"
   ]
  }
 ],
 "metadata": {
  "kernelspec": {
   "display_name": "Python 3 (ipykernel)",
   "language": "python",
   "name": "python3"
  },
  "language_info": {
   "codemirror_mode": {
    "name": "ipython",
    "version": 3
   },
   "file_extension": ".py",
   "mimetype": "text/x-python",
   "name": "python",
   "nbconvert_exporter": "python",
   "pygments_lexer": "ipython3",
   "version": "3.9.7"
  }
 },
 "nbformat": 4,
 "nbformat_minor": 5
}
